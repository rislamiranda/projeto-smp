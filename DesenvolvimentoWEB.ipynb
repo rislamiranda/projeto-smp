{
 "cells": [
  {
   "cell_type": "code",
   "execution_count": 1,
   "id": "5f5f5a51-5190-477b-8929-3ef07cfdd269",
   "metadata": {},
   "outputs": [
    {
     "name": "stdout",
     "output_type": "stream",
     "text": [
      "Name: streamlit\n",
      "Version: 1.27.2\n",
      "Summary: A faster way to build and share data apps\n",
      "Home-page: https://streamlit.io\n",
      "Author: Snowflake Inc\n",
      "Author-email: hello@streamlit.io\n",
      "License: Apache License 2.0\n",
      "Location: C:\\Users\\jane\\AppData\\Local\\Programs\\Python\\Python311\\Lib\\site-packages\n",
      "Requires: altair, blinker, cachetools, click, gitpython, importlib-metadata, numpy, packaging, pandas, pillow, protobuf, pyarrow, pydeck, python-dateutil, requests, rich, tenacity, toml, tornado, typing-extensions, tzlocal, validators, watchdog\n",
      "Required-by: \n"
     ]
    }
   ],
   "source": [
    "!pip show streamlit"
   ]
  },
  {
   "cell_type": "code",
   "execution_count": 2,
   "id": "42056a05-2019-4c50-9f6a-f1ef2bb1bf47",
   "metadata": {},
   "outputs": [
    {
     "name": "stdout",
     "output_type": "stream",
     "text": [
      "Name: plotly\n",
      "Version: 5.17.0\n",
      "Summary: An open-source, interactive data visualization library for Python\n",
      "Home-page: https://plotly.com/python/\n",
      "Author: Chris P\n",
      "Author-email: chris@plot.ly\n",
      "License: MIT\n",
      "Location: C:\\Users\\jane\\AppData\\Local\\Programs\\Python\\Python311\\Lib\\site-packages\n",
      "Requires: packaging, tenacity\n",
      "Required-by: \n"
     ]
    }
   ],
   "source": [
    "!pip show plotly"
   ]
  },
  {
   "cell_type": "code",
   "execution_count": 3,
   "id": "44bd8be1-7040-4af9-9bee-c7df9193ef01",
   "metadata": {},
   "outputs": [
    {
     "name": "stdout",
     "output_type": "stream",
     "text": [
      "Listagem de caminhos de pasta para o volume OS\n",
      "O n£mero de s‚rie do volume ‚ 000000F0 6496:4099\n",
      "D:\\CV\\BOOTCAMP\\PROJETO\\PROJECT\\DATA\\APP\n",
      "Caminho inv lido - \\CV\\BOOTCAMP\\PROJETO\\PROJECT\\DATA\\APP\n",
      "NÆo existem subpastas \n",
      "\n"
     ]
    }
   ],
   "source": [
    "!tree ../project/data/app"
   ]
  },
  {
   "cell_type": "code",
   "execution_count": null,
   "id": "c506edf0-658a-46d3-8425-da7c8afd5195",
   "metadata": {},
   "outputs": [],
   "source": [
    "https://share.streamlit.io/"
   ]
  }
 ],
 "metadata": {
  "kernelspec": {
   "display_name": "Python 3 (ipykernel)",
   "language": "python",
   "name": "python3"
  },
  "language_info": {
   "codemirror_mode": {
    "name": "ipython",
    "version": 3
   },
   "file_extension": ".py",
   "mimetype": "text/x-python",
   "name": "python",
   "nbconvert_exporter": "python",
   "pygments_lexer": "ipython3",
   "version": "3.11.5"
  }
 },
 "nbformat": 4,
 "nbformat_minor": 5
}
