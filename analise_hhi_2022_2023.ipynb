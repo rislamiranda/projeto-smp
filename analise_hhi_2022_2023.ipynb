{
 "cells": [
  {
   "cell_type": "markdown",
   "id": "323168aa-851f-47ea-9d7f-38ddf71dd2db",
   "metadata": {},
   "source": [
    "# O HHI aumentou desde a compra da OI?"
   ]
  },
  {
   "cell_type": "code",
   "execution_count": 1,
   "id": "74dacccc-3a96-421e-a7b0-5eaeccafad23",
   "metadata": {
    "tags": []
   },
   "outputs": [],
   "source": [
    "import pandas as pd"
   ]
  },
  {
   "cell_type": "code",
   "execution_count": 5,
   "id": "37621421-131b-4820-a09c-0d30df9df795",
   "metadata": {
    "tags": []
   },
   "outputs": [],
   "source": [
    "#criar um dataframe dos valores de HHI por UF em 2022\n",
    "hhi_2022_uf = pd.read_csv('./hhi_2022_uf.csv', sep=\";\")\n",
    "#retirar a coluna vazia\n",
    "hhi_2022_uf.drop(columns=['Unnamed: 0'], inplace = True)\n",
    "#mudar o tipo de valor da coluna HHI, já que está como tipo string\n",
    "hhi_2022_uf['HHI'] = hhi_2022_uf['HHI'].str.replace(',', '.', regex=True).astype(float)"
   ]
  },
  {
   "cell_type": "code",
   "execution_count": 6,
   "id": "69845fcb-4039-4dc1-a7e3-3ae9974858c7",
   "metadata": {
    "tags": []
   },
   "outputs": [],
   "source": [
    "#criar um dataframe dos valores de HHI por UF em 2022\n",
    "hhi_2023_uf = pd.read_csv('./hhi_2023_uf.csv', sep=\";\")\n",
    "#retirar a coluna vazia\n",
    "hhi_2023_uf.drop(columns=['Unnamed: 0'], inplace = True)\n",
    "#mudar o tipo de valor da coluna HHI, já que está como tipo string\n",
    "hhi_2023_uf['HHI'] = hhi_2023_uf['HHI'].str.replace(',', '.', regex=True).astype(float)"
   ]
  },
  {
   "cell_type": "code",
   "execution_count": 7,
   "id": "56c317be-e0ef-4b02-ae63-33f828ea0dfe",
   "metadata": {
    "tags": []
   },
   "outputs": [
    {
     "data": {
      "text/html": [
       "<div>\n",
       "<style scoped>\n",
       "    .dataframe tbody tr th:only-of-type {\n",
       "        vertical-align: middle;\n",
       "    }\n",
       "\n",
       "    .dataframe tbody tr th {\n",
       "        vertical-align: top;\n",
       "    }\n",
       "\n",
       "    .dataframe thead th {\n",
       "        text-align: right;\n",
       "    }\n",
       "</style>\n",
       "<table border=\"1\" class=\"dataframe\">\n",
       "  <thead>\n",
       "    <tr style=\"text-align: right;\">\n",
       "      <th></th>\n",
       "      <th>UF</th>\n",
       "      <th>HHI</th>\n",
       "      <th>analise_mercado_hhi</th>\n",
       "    </tr>\n",
       "  </thead>\n",
       "  <tbody>\n",
       "    <tr>\n",
       "      <th>0</th>\n",
       "      <td>AC</td>\n",
       "      <td>3265.9725</td>\n",
       "      <td>altamente concentrado</td>\n",
       "    </tr>\n",
       "    <tr>\n",
       "      <th>1</th>\n",
       "      <td>AL</td>\n",
       "      <td>2537.5947</td>\n",
       "      <td>altamente concentrado</td>\n",
       "    </tr>\n",
       "    <tr>\n",
       "      <th>2</th>\n",
       "      <td>AM</td>\n",
       "      <td>3234.8540</td>\n",
       "      <td>altamente concentrado</td>\n",
       "    </tr>\n",
       "    <tr>\n",
       "      <th>3</th>\n",
       "      <td>AP</td>\n",
       "      <td>2640.3308</td>\n",
       "      <td>altamente concentrado</td>\n",
       "    </tr>\n",
       "    <tr>\n",
       "      <th>4</th>\n",
       "      <td>BA</td>\n",
       "      <td>2522.2075</td>\n",
       "      <td>altamente concentrado</td>\n",
       "    </tr>\n",
       "  </tbody>\n",
       "</table>\n",
       "</div>"
      ],
      "text/plain": [
       "   UF        HHI    analise_mercado_hhi\n",
       "0  AC  3265.9725  altamente concentrado\n",
       "1  AL  2537.5947  altamente concentrado\n",
       "2  AM  3234.8540  altamente concentrado\n",
       "3  AP  2640.3308  altamente concentrado\n",
       "4  BA  2522.2075  altamente concentrado"
      ]
     },
     "execution_count": 7,
     "metadata": {},
     "output_type": "execute_result"
    }
   ],
   "source": [
    "hhi_2022_uf.head()"
   ]
  },
  {
   "cell_type": "code",
   "execution_count": 8,
   "id": "74321277-aeae-4307-91b5-9aecbb5e93a4",
   "metadata": {
    "tags": []
   },
   "outputs": [
    {
     "data": {
      "text/html": [
       "<div>\n",
       "<style scoped>\n",
       "    .dataframe tbody tr th:only-of-type {\n",
       "        vertical-align: middle;\n",
       "    }\n",
       "\n",
       "    .dataframe tbody tr th {\n",
       "        vertical-align: top;\n",
       "    }\n",
       "\n",
       "    .dataframe thead th {\n",
       "        text-align: right;\n",
       "    }\n",
       "</style>\n",
       "<table border=\"1\" class=\"dataframe\">\n",
       "  <thead>\n",
       "    <tr style=\"text-align: right;\">\n",
       "      <th></th>\n",
       "      <th>UF</th>\n",
       "      <th>HHI</th>\n",
       "      <th>analise_mercado_hhi</th>\n",
       "    </tr>\n",
       "  </thead>\n",
       "  <tbody>\n",
       "    <tr>\n",
       "      <th>0</th>\n",
       "      <td>AC</td>\n",
       "      <td>4213.3825</td>\n",
       "      <td>altamente concentrado</td>\n",
       "    </tr>\n",
       "    <tr>\n",
       "      <th>1</th>\n",
       "      <td>AL</td>\n",
       "      <td>3303.3364</td>\n",
       "      <td>altamente concentrado</td>\n",
       "    </tr>\n",
       "    <tr>\n",
       "      <th>2</th>\n",
       "      <td>AM</td>\n",
       "      <td>4101.1026</td>\n",
       "      <td>altamente concentrado</td>\n",
       "    </tr>\n",
       "    <tr>\n",
       "      <th>3</th>\n",
       "      <td>AP</td>\n",
       "      <td>3483.4949</td>\n",
       "      <td>altamente concentrado</td>\n",
       "    </tr>\n",
       "    <tr>\n",
       "      <th>4</th>\n",
       "      <td>BA</td>\n",
       "      <td>3327.4640</td>\n",
       "      <td>altamente concentrado</td>\n",
       "    </tr>\n",
       "  </tbody>\n",
       "</table>\n",
       "</div>"
      ],
      "text/plain": [
       "   UF        HHI    analise_mercado_hhi\n",
       "0  AC  4213.3825  altamente concentrado\n",
       "1  AL  3303.3364  altamente concentrado\n",
       "2  AM  4101.1026  altamente concentrado\n",
       "3  AP  3483.4949  altamente concentrado\n",
       "4  BA  3327.4640  altamente concentrado"
      ]
     },
     "execution_count": 8,
     "metadata": {},
     "output_type": "execute_result"
    }
   ],
   "source": [
    "hhi_2023_uf.head()"
   ]
  },
  {
   "cell_type": "code",
   "execution_count": 10,
   "id": "6a73f460-4fbb-44fe-a885-8cf10495b852",
   "metadata": {
    "tags": []
   },
   "outputs": [],
   "source": [
    "#juntar os valores de 2022 e 2023 em uma única planilha\n",
    "hhi_2023_2023_uf = hhi_2022_uf.merge(hhi_2023_uf, how='inner', on='UF', suffixes=('_2022', '_2023'))"
   ]
  },
  {
   "cell_type": "code",
   "execution_count": 11,
   "id": "f6c79536-921d-409a-b22e-3a29b90ca525",
   "metadata": {
    "tags": []
   },
   "outputs": [
    {
     "data": {
      "text/html": [
       "<div>\n",
       "<style scoped>\n",
       "    .dataframe tbody tr th:only-of-type {\n",
       "        vertical-align: middle;\n",
       "    }\n",
       "\n",
       "    .dataframe tbody tr th {\n",
       "        vertical-align: top;\n",
       "    }\n",
       "\n",
       "    .dataframe thead th {\n",
       "        text-align: right;\n",
       "    }\n",
       "</style>\n",
       "<table border=\"1\" class=\"dataframe\">\n",
       "  <thead>\n",
       "    <tr style=\"text-align: right;\">\n",
       "      <th></th>\n",
       "      <th>UF</th>\n",
       "      <th>HHI_2022</th>\n",
       "      <th>analise_mercado_hhi_2022</th>\n",
       "      <th>HHI_2023</th>\n",
       "      <th>analise_mercado_hhi_2023</th>\n",
       "    </tr>\n",
       "  </thead>\n",
       "  <tbody>\n",
       "    <tr>\n",
       "      <th>0</th>\n",
       "      <td>AC</td>\n",
       "      <td>3265.9725</td>\n",
       "      <td>altamente concentrado</td>\n",
       "      <td>4213.3825</td>\n",
       "      <td>altamente concentrado</td>\n",
       "    </tr>\n",
       "    <tr>\n",
       "      <th>1</th>\n",
       "      <td>AL</td>\n",
       "      <td>2537.5947</td>\n",
       "      <td>altamente concentrado</td>\n",
       "      <td>3303.3364</td>\n",
       "      <td>altamente concentrado</td>\n",
       "    </tr>\n",
       "    <tr>\n",
       "      <th>2</th>\n",
       "      <td>AM</td>\n",
       "      <td>3234.8540</td>\n",
       "      <td>altamente concentrado</td>\n",
       "      <td>4101.1026</td>\n",
       "      <td>altamente concentrado</td>\n",
       "    </tr>\n",
       "    <tr>\n",
       "      <th>3</th>\n",
       "      <td>AP</td>\n",
       "      <td>2640.3308</td>\n",
       "      <td>altamente concentrado</td>\n",
       "      <td>3483.4949</td>\n",
       "      <td>altamente concentrado</td>\n",
       "    </tr>\n",
       "    <tr>\n",
       "      <th>4</th>\n",
       "      <td>BA</td>\n",
       "      <td>2522.2075</td>\n",
       "      <td>altamente concentrado</td>\n",
       "      <td>3327.4640</td>\n",
       "      <td>altamente concentrado</td>\n",
       "    </tr>\n",
       "  </tbody>\n",
       "</table>\n",
       "</div>"
      ],
      "text/plain": [
       "   UF   HHI_2022 analise_mercado_hhi_2022   HHI_2023 analise_mercado_hhi_2023\n",
       "0  AC  3265.9725    altamente concentrado  4213.3825    altamente concentrado\n",
       "1  AL  2537.5947    altamente concentrado  3303.3364    altamente concentrado\n",
       "2  AM  3234.8540    altamente concentrado  4101.1026    altamente concentrado\n",
       "3  AP  2640.3308    altamente concentrado  3483.4949    altamente concentrado\n",
       "4  BA  2522.2075    altamente concentrado  3327.4640    altamente concentrado"
      ]
     },
     "execution_count": 11,
     "metadata": {},
     "output_type": "execute_result"
    }
   ],
   "source": [
    "hhi_2023_2023_uf.head()"
   ]
  },
  {
   "cell_type": "code",
   "execution_count": 12,
   "id": "9892c9a2-e45f-446c-9cf2-5e411be44900",
   "metadata": {
    "tags": []
   },
   "outputs": [],
   "source": [
    "#criar uma coluna chamada diff_hhi que faz a subtração do HHI de 2023 e do HHI de 2022\n",
    "hhi_2023_2023_uf['diff_hhi'] = hhi_2023_2023_uf['HHI_2023'] - hhi_2023_2023_uf['HHI_2022']"
   ]
  },
  {
   "cell_type": "code",
   "execution_count": null,
   "id": "aa8933c8-1344-4008-8983-77f2a8ab7d62",
   "metadata": {
    "tags": []
   },
   "outputs": [],
   "source": [
    "hhi_2023_2023_uf.set_index('UF')"
   ]
  },
  {
   "cell_type": "code",
   "execution_count": 25,
   "id": "9739417d-2706-4306-943c-334dc46f3172",
   "metadata": {
    "tags": []
   },
   "outputs": [
    {
     "data": {
      "text/html": [
       "<div>\n",
       "<style scoped>\n",
       "    .dataframe tbody tr th:only-of-type {\n",
       "        vertical-align: middle;\n",
       "    }\n",
       "\n",
       "    .dataframe tbody tr th {\n",
       "        vertical-align: top;\n",
       "    }\n",
       "\n",
       "    .dataframe thead th {\n",
       "        text-align: right;\n",
       "    }\n",
       "</style>\n",
       "<table border=\"1\" class=\"dataframe\">\n",
       "  <thead>\n",
       "    <tr style=\"text-align: right;\">\n",
       "      <th></th>\n",
       "      <th>HHI_2022</th>\n",
       "      <th>analise_mercado_hhi_2022</th>\n",
       "      <th>HHI_2023</th>\n",
       "      <th>analise_mercado_hhi_2023</th>\n",
       "      <th>diff_hhi</th>\n",
       "    </tr>\n",
       "    <tr>\n",
       "      <th>UF</th>\n",
       "      <th></th>\n",
       "      <th></th>\n",
       "      <th></th>\n",
       "      <th></th>\n",
       "      <th></th>\n",
       "    </tr>\n",
       "  </thead>\n",
       "  <tbody>\n",
       "    <tr>\n",
       "      <th>ES</th>\n",
       "      <td>4338.6335</td>\n",
       "      <td>altamente concentrado</td>\n",
       "      <td>5982.8489</td>\n",
       "      <td>altamente concentrado</td>\n",
       "      <td>1644.2154</td>\n",
       "    </tr>\n",
       "    <tr>\n",
       "      <th>MA</th>\n",
       "      <td>2505.3774</td>\n",
       "      <td>altamente concentrado</td>\n",
       "      <td>3610.9166</td>\n",
       "      <td>altamente concentrado</td>\n",
       "      <td>1105.5392</td>\n",
       "    </tr>\n",
       "    <tr>\n",
       "      <th>MG</th>\n",
       "      <td>2643.6564</td>\n",
       "      <td>altamente concentrado</td>\n",
       "      <td>3662.8476</td>\n",
       "      <td>altamente concentrado</td>\n",
       "      <td>1019.1912</td>\n",
       "    </tr>\n",
       "    <tr>\n",
       "      <th>RO</th>\n",
       "      <td>3110.5866</td>\n",
       "      <td>altamente concentrado</td>\n",
       "      <td>4491.7232</td>\n",
       "      <td>altamente concentrado</td>\n",
       "      <td>1381.1366</td>\n",
       "    </tr>\n",
       "    <tr>\n",
       "      <th>SE</th>\n",
       "      <td>3477.2562</td>\n",
       "      <td>altamente concentrado</td>\n",
       "      <td>5360.0210</td>\n",
       "      <td>altamente concentrado</td>\n",
       "      <td>1882.7648</td>\n",
       "    </tr>\n",
       "    <tr>\n",
       "      <th>TO</th>\n",
       "      <td>3130.2870</td>\n",
       "      <td>altamente concentrado</td>\n",
       "      <td>4813.1052</td>\n",
       "      <td>altamente concentrado</td>\n",
       "      <td>1682.8182</td>\n",
       "    </tr>\n",
       "  </tbody>\n",
       "</table>\n",
       "</div>"
      ],
      "text/plain": [
       "     HHI_2022 analise_mercado_hhi_2022   HHI_2023 analise_mercado_hhi_2023  \\\n",
       "UF                                                                           \n",
       "ES  4338.6335    altamente concentrado  5982.8489    altamente concentrado   \n",
       "MA  2505.3774    altamente concentrado  3610.9166    altamente concentrado   \n",
       "MG  2643.6564    altamente concentrado  3662.8476    altamente concentrado   \n",
       "RO  3110.5866    altamente concentrado  4491.7232    altamente concentrado   \n",
       "SE  3477.2562    altamente concentrado  5360.0210    altamente concentrado   \n",
       "TO  3130.2870    altamente concentrado  4813.1052    altamente concentrado   \n",
       "\n",
       "     diff_hhi  \n",
       "UF             \n",
       "ES  1644.2154  \n",
       "MA  1105.5392  \n",
       "MG  1019.1912  \n",
       "RO  1381.1366  \n",
       "SE  1882.7648  \n",
       "TO  1682.8182  "
      ]
     },
     "execution_count": 25,
     "metadata": {},
     "output_type": "execute_result"
    }
   ],
   "source": [
    "#filtra os estados com aumento acima de mil\n",
    "hhi_2023_2023_uf[hhi_2023_2023_uf['diff_hhi'] > 1000]"
   ]
  },
  {
   "cell_type": "code",
   "execution_count": 26,
   "id": "65376d0d-ee1b-41fb-83ad-ed98f67ef0c2",
   "metadata": {
    "tags": []
   },
   "outputs": [
    {
     "data": {
      "text/plain": [
       "UF\n",
       "SE    1882.7648\n",
       "TO    1682.8182\n",
       "ES    1644.2154\n",
       "RO    1381.1366\n",
       "MA    1105.5392\n",
       "Name: diff_hhi, dtype: float64"
      ]
     },
     "execution_count": 26,
     "metadata": {},
     "output_type": "execute_result"
    }
   ],
   "source": [
    "#listar os estados que tiveram \n",
    "hhi_2023_2023_uf['diff_hhi'].nlargest(5)"
   ]
  },
  {
   "cell_type": "code",
   "execution_count": null,
   "id": "ec5f794e-ebc5-4468-a9a4-3d08ce78e245",
   "metadata": {},
   "outputs": [],
   "source": []
  }
 ],
 "metadata": {
  "kernelspec": {
   "display_name": "Python 3 (ipykernel)",
   "language": "python",
   "name": "python3"
  },
  "language_info": {
   "codemirror_mode": {
    "name": "ipython",
    "version": 3
   },
   "file_extension": ".py",
   "mimetype": "text/x-python",
   "name": "python",
   "nbconvert_exporter": "python",
   "pygments_lexer": "ipython3",
   "version": "3.11.5"
  }
 },
 "nbformat": 4,
 "nbformat_minor": 5
}
