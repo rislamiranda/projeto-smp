{
 "cells": [
  {
   "cell_type": "markdown",
   "id": "4fb4cf99-0e17-4439-b61b-bf0ec467fa04",
   "metadata": {},
   "source": [
    "# Dados de telefonia móvel - Ano 2023"
   ]
  },
  {
   "cell_type": "code",
   "execution_count": 1,
   "id": "31bbe368-4f28-445d-b348-ba0b7329fa55",
   "metadata": {},
   "outputs": [
    {
     "name": "stdout",
     "output_type": "stream",
     "text": [
      "Requirement already satisfied: pandas in c:\\users\\lilian.nakayama\\appdata\\local\\programs\\python\\python311\\lib\\site-packages (2.1.1)\n",
      "Requirement already satisfied: numpy>=1.23.2 in c:\\users\\lilian.nakayama\\appdata\\local\\programs\\python\\python311\\lib\\site-packages (from pandas) (1.26.0)\n",
      "Requirement already satisfied: python-dateutil>=2.8.2 in c:\\users\\lilian.nakayama\\appdata\\local\\programs\\python\\python311\\lib\\site-packages (from pandas) (2.8.2)\n",
      "Requirement already satisfied: pytz>=2020.1 in c:\\users\\lilian.nakayama\\appdata\\local\\programs\\python\\python311\\lib\\site-packages (from pandas) (2023.3.post1)\n",
      "Requirement already satisfied: tzdata>=2022.1 in c:\\users\\lilian.nakayama\\appdata\\local\\programs\\python\\python311\\lib\\site-packages (from pandas) (2023.3)\n",
      "Requirement already satisfied: six>=1.5 in c:\\users\\lilian.nakayama\\appdata\\local\\programs\\python\\python311\\lib\\site-packages (from python-dateutil>=2.8.2->pandas) (1.16.0)\n"
     ]
    },
    {
     "name": "stderr",
     "output_type": "stream",
     "text": [
      "\n",
      "[notice] A new release of pip is available: 23.2.1 -> 23.3.1\n",
      "[notice] To update, run: python.exe -m pip install --upgrade pip\n"
     ]
    }
   ],
   "source": [
    "!pip install pandas"
   ]
  },
  {
   "cell_type": "code",
   "execution_count": 2,
   "id": "b0f11cbb-22b2-41dc-8899-04375d1eb01a",
   "metadata": {},
   "outputs": [],
   "source": [
    "import pandas as pd"
   ]
  },
  {
   "cell_type": "code",
   "execution_count": 3,
   "id": "c061d9d4-7356-461e-bf82-956e94e2dca7",
   "metadata": {},
   "outputs": [
    {
     "name": "stderr",
     "output_type": "stream",
     "text": [
      "\n",
      "[notice] A new release of pip is available: 23.2.1 -> 23.3.1\n",
      "[notice] To update, run: python.exe -m pip install --upgrade pip\n"
     ]
    }
   ],
   "source": [
    "!pip install --upgrade pandas --quiet"
   ]
  },
  {
   "cell_type": "code",
   "execution_count": 4,
   "id": "e1596981-7e47-40f5-91d5-28be61b88606",
   "metadata": {},
   "outputs": [],
   "source": [
    "from pandas import read_csv"
   ]
  },
  {
   "cell_type": "code",
   "execution_count": 5,
   "id": "34766a3f-253f-4ae4-921c-2359f4da5aa4",
   "metadata": {},
   "outputs": [],
   "source": [
    "import csv"
   ]
  },
  {
   "cell_type": "code",
   "execution_count": 6,
   "id": "a018d926-922e-4f71-8772-26518ca36001",
   "metadata": {},
   "outputs": [
    {
     "ename": "FileNotFoundError",
     "evalue": "[Errno 2] No such file or directory: './Acessos_Telefonia_Movel_202301-202306_Colunas.csv'",
     "output_type": "error",
     "traceback": [
      "\u001b[1;31m---------------------------------------------------------------------------\u001b[0m",
      "\u001b[1;31mFileNotFoundError\u001b[0m                         Traceback (most recent call last)",
      "Cell \u001b[1;32mIn[6], line 1\u001b[0m\n\u001b[1;32m----> 1\u001b[0m sem1_2023 \u001b[38;5;241m=\u001b[39m \u001b[43mpd\u001b[49m\u001b[38;5;241;43m.\u001b[39;49m\u001b[43mread_csv\u001b[49m\u001b[43m(\u001b[49m\u001b[38;5;124;43m'\u001b[39;49m\u001b[38;5;124;43m./Acessos_Telefonia_Movel_202301-202306_Colunas.csv\u001b[39;49m\u001b[38;5;124;43m'\u001b[39;49m\u001b[43m,\u001b[49m\u001b[43m \u001b[49m\u001b[43msep\u001b[49m\u001b[38;5;241;43m=\u001b[39;49m\u001b[38;5;124;43m'\u001b[39;49m\u001b[38;5;124;43m;\u001b[39;49m\u001b[38;5;124;43m'\u001b[39;49m\u001b[43m,\u001b[49m\u001b[43m \u001b[49m\u001b[43mencoding\u001b[49m\u001b[38;5;241;43m=\u001b[39;49m\u001b[38;5;124;43m'\u001b[39;49m\u001b[38;5;124;43mutf-8\u001b[39;49m\u001b[38;5;124;43m'\u001b[39;49m\u001b[43m)\u001b[49m\n\u001b[0;32m      2\u001b[0m sem2_2023 \u001b[38;5;241m=\u001b[39m pd\u001b[38;5;241m.\u001b[39mread_csv(\u001b[38;5;124m'\u001b[39m\u001b[38;5;124m./Acessos_Telefonia_Movel_202307-202312_Colunas.csv\u001b[39m\u001b[38;5;124m'\u001b[39m, sep\u001b[38;5;241m=\u001b[39m\u001b[38;5;124m'\u001b[39m\u001b[38;5;124m;\u001b[39m\u001b[38;5;124m'\u001b[39m, encoding\u001b[38;5;241m=\u001b[39m\u001b[38;5;124m'\u001b[39m\u001b[38;5;124mutf-8\u001b[39m\u001b[38;5;124m'\u001b[39m)\n",
      "File \u001b[1;32m~\\AppData\\Local\\Programs\\Python\\Python311\\Lib\\site-packages\\pandas\\io\\parsers\\readers.py:948\u001b[0m, in \u001b[0;36mread_csv\u001b[1;34m(filepath_or_buffer, sep, delimiter, header, names, index_col, usecols, dtype, engine, converters, true_values, false_values, skipinitialspace, skiprows, skipfooter, nrows, na_values, keep_default_na, na_filter, verbose, skip_blank_lines, parse_dates, infer_datetime_format, keep_date_col, date_parser, date_format, dayfirst, cache_dates, iterator, chunksize, compression, thousands, decimal, lineterminator, quotechar, quoting, doublequote, escapechar, comment, encoding, encoding_errors, dialect, on_bad_lines, delim_whitespace, low_memory, memory_map, float_precision, storage_options, dtype_backend)\u001b[0m\n\u001b[0;32m    935\u001b[0m kwds_defaults \u001b[38;5;241m=\u001b[39m _refine_defaults_read(\n\u001b[0;32m    936\u001b[0m     dialect,\n\u001b[0;32m    937\u001b[0m     delimiter,\n\u001b[1;32m   (...)\u001b[0m\n\u001b[0;32m    944\u001b[0m     dtype_backend\u001b[38;5;241m=\u001b[39mdtype_backend,\n\u001b[0;32m    945\u001b[0m )\n\u001b[0;32m    946\u001b[0m kwds\u001b[38;5;241m.\u001b[39mupdate(kwds_defaults)\n\u001b[1;32m--> 948\u001b[0m \u001b[38;5;28;01mreturn\u001b[39;00m \u001b[43m_read\u001b[49m\u001b[43m(\u001b[49m\u001b[43mfilepath_or_buffer\u001b[49m\u001b[43m,\u001b[49m\u001b[43m \u001b[49m\u001b[43mkwds\u001b[49m\u001b[43m)\u001b[49m\n",
      "File \u001b[1;32m~\\AppData\\Local\\Programs\\Python\\Python311\\Lib\\site-packages\\pandas\\io\\parsers\\readers.py:611\u001b[0m, in \u001b[0;36m_read\u001b[1;34m(filepath_or_buffer, kwds)\u001b[0m\n\u001b[0;32m    608\u001b[0m _validate_names(kwds\u001b[38;5;241m.\u001b[39mget(\u001b[38;5;124m\"\u001b[39m\u001b[38;5;124mnames\u001b[39m\u001b[38;5;124m\"\u001b[39m, \u001b[38;5;28;01mNone\u001b[39;00m))\n\u001b[0;32m    610\u001b[0m \u001b[38;5;66;03m# Create the parser.\u001b[39;00m\n\u001b[1;32m--> 611\u001b[0m parser \u001b[38;5;241m=\u001b[39m \u001b[43mTextFileReader\u001b[49m\u001b[43m(\u001b[49m\u001b[43mfilepath_or_buffer\u001b[49m\u001b[43m,\u001b[49m\u001b[43m \u001b[49m\u001b[38;5;241;43m*\u001b[39;49m\u001b[38;5;241;43m*\u001b[39;49m\u001b[43mkwds\u001b[49m\u001b[43m)\u001b[49m\n\u001b[0;32m    613\u001b[0m \u001b[38;5;28;01mif\u001b[39;00m chunksize \u001b[38;5;129;01mor\u001b[39;00m iterator:\n\u001b[0;32m    614\u001b[0m     \u001b[38;5;28;01mreturn\u001b[39;00m parser\n",
      "File \u001b[1;32m~\\AppData\\Local\\Programs\\Python\\Python311\\Lib\\site-packages\\pandas\\io\\parsers\\readers.py:1448\u001b[0m, in \u001b[0;36mTextFileReader.__init__\u001b[1;34m(self, f, engine, **kwds)\u001b[0m\n\u001b[0;32m   1445\u001b[0m     \u001b[38;5;28mself\u001b[39m\u001b[38;5;241m.\u001b[39moptions[\u001b[38;5;124m\"\u001b[39m\u001b[38;5;124mhas_index_names\u001b[39m\u001b[38;5;124m\"\u001b[39m] \u001b[38;5;241m=\u001b[39m kwds[\u001b[38;5;124m\"\u001b[39m\u001b[38;5;124mhas_index_names\u001b[39m\u001b[38;5;124m\"\u001b[39m]\n\u001b[0;32m   1447\u001b[0m \u001b[38;5;28mself\u001b[39m\u001b[38;5;241m.\u001b[39mhandles: IOHandles \u001b[38;5;241m|\u001b[39m \u001b[38;5;28;01mNone\u001b[39;00m \u001b[38;5;241m=\u001b[39m \u001b[38;5;28;01mNone\u001b[39;00m\n\u001b[1;32m-> 1448\u001b[0m \u001b[38;5;28mself\u001b[39m\u001b[38;5;241m.\u001b[39m_engine \u001b[38;5;241m=\u001b[39m \u001b[38;5;28;43mself\u001b[39;49m\u001b[38;5;241;43m.\u001b[39;49m\u001b[43m_make_engine\u001b[49m\u001b[43m(\u001b[49m\u001b[43mf\u001b[49m\u001b[43m,\u001b[49m\u001b[43m \u001b[49m\u001b[38;5;28;43mself\u001b[39;49m\u001b[38;5;241;43m.\u001b[39;49m\u001b[43mengine\u001b[49m\u001b[43m)\u001b[49m\n",
      "File \u001b[1;32m~\\AppData\\Local\\Programs\\Python\\Python311\\Lib\\site-packages\\pandas\\io\\parsers\\readers.py:1705\u001b[0m, in \u001b[0;36mTextFileReader._make_engine\u001b[1;34m(self, f, engine)\u001b[0m\n\u001b[0;32m   1703\u001b[0m     \u001b[38;5;28;01mif\u001b[39;00m \u001b[38;5;124m\"\u001b[39m\u001b[38;5;124mb\u001b[39m\u001b[38;5;124m\"\u001b[39m \u001b[38;5;129;01mnot\u001b[39;00m \u001b[38;5;129;01min\u001b[39;00m mode:\n\u001b[0;32m   1704\u001b[0m         mode \u001b[38;5;241m+\u001b[39m\u001b[38;5;241m=\u001b[39m \u001b[38;5;124m\"\u001b[39m\u001b[38;5;124mb\u001b[39m\u001b[38;5;124m\"\u001b[39m\n\u001b[1;32m-> 1705\u001b[0m \u001b[38;5;28mself\u001b[39m\u001b[38;5;241m.\u001b[39mhandles \u001b[38;5;241m=\u001b[39m \u001b[43mget_handle\u001b[49m\u001b[43m(\u001b[49m\n\u001b[0;32m   1706\u001b[0m \u001b[43m    \u001b[49m\u001b[43mf\u001b[49m\u001b[43m,\u001b[49m\n\u001b[0;32m   1707\u001b[0m \u001b[43m    \u001b[49m\u001b[43mmode\u001b[49m\u001b[43m,\u001b[49m\n\u001b[0;32m   1708\u001b[0m \u001b[43m    \u001b[49m\u001b[43mencoding\u001b[49m\u001b[38;5;241;43m=\u001b[39;49m\u001b[38;5;28;43mself\u001b[39;49m\u001b[38;5;241;43m.\u001b[39;49m\u001b[43moptions\u001b[49m\u001b[38;5;241;43m.\u001b[39;49m\u001b[43mget\u001b[49m\u001b[43m(\u001b[49m\u001b[38;5;124;43m\"\u001b[39;49m\u001b[38;5;124;43mencoding\u001b[39;49m\u001b[38;5;124;43m\"\u001b[39;49m\u001b[43m,\u001b[49m\u001b[43m \u001b[49m\u001b[38;5;28;43;01mNone\u001b[39;49;00m\u001b[43m)\u001b[49m\u001b[43m,\u001b[49m\n\u001b[0;32m   1709\u001b[0m \u001b[43m    \u001b[49m\u001b[43mcompression\u001b[49m\u001b[38;5;241;43m=\u001b[39;49m\u001b[38;5;28;43mself\u001b[39;49m\u001b[38;5;241;43m.\u001b[39;49m\u001b[43moptions\u001b[49m\u001b[38;5;241;43m.\u001b[39;49m\u001b[43mget\u001b[49m\u001b[43m(\u001b[49m\u001b[38;5;124;43m\"\u001b[39;49m\u001b[38;5;124;43mcompression\u001b[39;49m\u001b[38;5;124;43m\"\u001b[39;49m\u001b[43m,\u001b[49m\u001b[43m \u001b[49m\u001b[38;5;28;43;01mNone\u001b[39;49;00m\u001b[43m)\u001b[49m\u001b[43m,\u001b[49m\n\u001b[0;32m   1710\u001b[0m \u001b[43m    \u001b[49m\u001b[43mmemory_map\u001b[49m\u001b[38;5;241;43m=\u001b[39;49m\u001b[38;5;28;43mself\u001b[39;49m\u001b[38;5;241;43m.\u001b[39;49m\u001b[43moptions\u001b[49m\u001b[38;5;241;43m.\u001b[39;49m\u001b[43mget\u001b[49m\u001b[43m(\u001b[49m\u001b[38;5;124;43m\"\u001b[39;49m\u001b[38;5;124;43mmemory_map\u001b[39;49m\u001b[38;5;124;43m\"\u001b[39;49m\u001b[43m,\u001b[49m\u001b[43m \u001b[49m\u001b[38;5;28;43;01mFalse\u001b[39;49;00m\u001b[43m)\u001b[49m\u001b[43m,\u001b[49m\n\u001b[0;32m   1711\u001b[0m \u001b[43m    \u001b[49m\u001b[43mis_text\u001b[49m\u001b[38;5;241;43m=\u001b[39;49m\u001b[43mis_text\u001b[49m\u001b[43m,\u001b[49m\n\u001b[0;32m   1712\u001b[0m \u001b[43m    \u001b[49m\u001b[43merrors\u001b[49m\u001b[38;5;241;43m=\u001b[39;49m\u001b[38;5;28;43mself\u001b[39;49m\u001b[38;5;241;43m.\u001b[39;49m\u001b[43moptions\u001b[49m\u001b[38;5;241;43m.\u001b[39;49m\u001b[43mget\u001b[49m\u001b[43m(\u001b[49m\u001b[38;5;124;43m\"\u001b[39;49m\u001b[38;5;124;43mencoding_errors\u001b[39;49m\u001b[38;5;124;43m\"\u001b[39;49m\u001b[43m,\u001b[49m\u001b[43m \u001b[49m\u001b[38;5;124;43m\"\u001b[39;49m\u001b[38;5;124;43mstrict\u001b[39;49m\u001b[38;5;124;43m\"\u001b[39;49m\u001b[43m)\u001b[49m\u001b[43m,\u001b[49m\n\u001b[0;32m   1713\u001b[0m \u001b[43m    \u001b[49m\u001b[43mstorage_options\u001b[49m\u001b[38;5;241;43m=\u001b[39;49m\u001b[38;5;28;43mself\u001b[39;49m\u001b[38;5;241;43m.\u001b[39;49m\u001b[43moptions\u001b[49m\u001b[38;5;241;43m.\u001b[39;49m\u001b[43mget\u001b[49m\u001b[43m(\u001b[49m\u001b[38;5;124;43m\"\u001b[39;49m\u001b[38;5;124;43mstorage_options\u001b[39;49m\u001b[38;5;124;43m\"\u001b[39;49m\u001b[43m,\u001b[49m\u001b[43m \u001b[49m\u001b[38;5;28;43;01mNone\u001b[39;49;00m\u001b[43m)\u001b[49m\u001b[43m,\u001b[49m\n\u001b[0;32m   1714\u001b[0m \u001b[43m\u001b[49m\u001b[43m)\u001b[49m\n\u001b[0;32m   1715\u001b[0m \u001b[38;5;28;01massert\u001b[39;00m \u001b[38;5;28mself\u001b[39m\u001b[38;5;241m.\u001b[39mhandles \u001b[38;5;129;01mis\u001b[39;00m \u001b[38;5;129;01mnot\u001b[39;00m \u001b[38;5;28;01mNone\u001b[39;00m\n\u001b[0;32m   1716\u001b[0m f \u001b[38;5;241m=\u001b[39m \u001b[38;5;28mself\u001b[39m\u001b[38;5;241m.\u001b[39mhandles\u001b[38;5;241m.\u001b[39mhandle\n",
      "File \u001b[1;32m~\\AppData\\Local\\Programs\\Python\\Python311\\Lib\\site-packages\\pandas\\io\\common.py:872\u001b[0m, in \u001b[0;36mget_handle\u001b[1;34m(path_or_buf, mode, encoding, compression, memory_map, is_text, errors, storage_options)\u001b[0m\n\u001b[0;32m    863\u001b[0m         handle \u001b[38;5;241m=\u001b[39m \u001b[38;5;28mopen\u001b[39m(\n\u001b[0;32m    864\u001b[0m             handle,\n\u001b[0;32m    865\u001b[0m             ioargs\u001b[38;5;241m.\u001b[39mmode,\n\u001b[1;32m   (...)\u001b[0m\n\u001b[0;32m    868\u001b[0m             newline\u001b[38;5;241m=\u001b[39m\u001b[38;5;124m\"\u001b[39m\u001b[38;5;124m\"\u001b[39m,\n\u001b[0;32m    869\u001b[0m         )\n\u001b[0;32m    870\u001b[0m     \u001b[38;5;28;01melse\u001b[39;00m:\n\u001b[0;32m    871\u001b[0m         \u001b[38;5;66;03m# Binary mode\u001b[39;00m\n\u001b[1;32m--> 872\u001b[0m         handle \u001b[38;5;241m=\u001b[39m \u001b[38;5;28;43mopen\u001b[39;49m\u001b[43m(\u001b[49m\u001b[43mhandle\u001b[49m\u001b[43m,\u001b[49m\u001b[43m \u001b[49m\u001b[43mioargs\u001b[49m\u001b[38;5;241;43m.\u001b[39;49m\u001b[43mmode\u001b[49m\u001b[43m)\u001b[49m\n\u001b[0;32m    873\u001b[0m     handles\u001b[38;5;241m.\u001b[39mappend(handle)\n\u001b[0;32m    875\u001b[0m \u001b[38;5;66;03m# Convert BytesIO or file objects passed with an encoding\u001b[39;00m\n",
      "\u001b[1;31mFileNotFoundError\u001b[0m: [Errno 2] No such file or directory: './Acessos_Telefonia_Movel_202301-202306_Colunas.csv'"
     ]
    }
   ],
   "source": [
    "sem1_2023 = pd.read_csv('./Acessos_Telefonia_Movel_202301-202306_Colunas.csv', sep=';', encoding='utf-8')\n",
    "sem2_2023 = pd.read_csv('./Acessos_Telefonia_Movel_202307-202312_Colunas.csv', sep=';', encoding='utf-8')"
   ]
  },
  {
   "cell_type": "code",
   "execution_count": null,
   "id": "ab46a2f2-6f0d-4eda-8927-41993c3814a6",
   "metadata": {},
   "outputs": [],
   "source": [
    "df_2023 = pd.merge(sem1_2023, sem2_2023, how='outer')"
   ]
  },
  {
   "cell_type": "code",
   "execution_count": null,
   "id": "7ad7b15b-5626-4922-b64f-03ab3d278bc8",
   "metadata": {
    "scrolled": true
   },
   "outputs": [],
   "source": [
    "df_2023.head(100)"
   ]
  },
  {
   "cell_type": "code",
   "execution_count": null,
   "id": "242da0e0-fe45-4857-b76a-9d9b830967c9",
   "metadata": {},
   "outputs": [],
   "source": [
    "df_2023.shape"
   ]
  },
  {
   "cell_type": "code",
   "execution_count": null,
   "id": "c40be3aa-e778-4b36-8a28-b6dfa33b45b2",
   "metadata": {},
   "outputs": [],
   "source": [
    "df_2023.columns"
   ]
  },
  {
   "cell_type": "code",
   "execution_count": null,
   "id": "7e48db29-7fac-4c0b-8fcd-82c2518a0aff",
   "metadata": {},
   "outputs": [],
   "source": [
    "df_2023['Empresa'].value_counts()"
   ]
  },
  {
   "cell_type": "code",
   "execution_count": null,
   "id": "d876f7e6-19b5-4aaa-8a1d-4c233cd4a13b",
   "metadata": {},
   "outputs": [],
   "source": [
    "df_2023['Grupo Econômico'].value_counts()"
   ]
  },
  {
   "cell_type": "code",
   "execution_count": null,
   "id": "30b2d81b-9236-4417-bf29-1bcf22051de3",
   "metadata": {},
   "outputs": [],
   "source": [
    "# Vendo as empresas por grupo econômico\n",
    "df_2023_grupo_empresa = df_2023.groupby(['Grupo Econômico'])['Empresa'].unique().reset_index()\n",
    "print(df_2023_grupo_empresa)"
   ]
  },
  {
   "cell_type": "code",
   "execution_count": null,
   "id": "297b837a-1a83-4c1f-95e8-30604b72a0e1",
   "metadata": {},
   "outputs": [],
   "source": [
    "# Criando a coluna de média que desconsidera os valores NaN\n",
    "#colunas_media = ['2023-01','2023-02','2023-03','2023-04','2023-05','2023-06','2023-07','2023-08']\n",
    "#df_2023['media_ano'] = df_2023[colunas_media].mean(axis=1)\n"
   ]
  },
  {
   "cell_type": "code",
   "execution_count": null,
   "id": "56878a54-3976-441c-9b29-d988c5561584",
   "metadata": {},
   "outputs": [],
   "source": [
    "# vendo o tipo de dado que tenho em cada coluna do dataframe (ou quantidade, ou qualidade)\n",
    "\n",
    "# CNPJ (quantidade)\n",
    "print(f\"CNPJ - \", len(df_2023['CNPJ'].unique()))\n",
    "\n",
    "print()\n",
    "# Codigo nacional (quantidade)\n",
    "print(f\"Código Nacional - \", len(df_2023['Código Nacional'].unique()))\n",
    "\n",
    "print()\n",
    "# Município (quantidade)\n",
    "print(f\"Município - \", len(df_2023['Município'].unique()))\n",
    "\n",
    "print()\n",
    "# UF (dados)\n",
    "print(f\"UF - \", len(df_2023['UF'].unique()))\n",
    "print(f\"UF - \", df_2023['UF'].unique())\n",
    "\n",
    "print()\n",
    "# Modalidade de Cobrança (quantidade)\n",
    "print(f\"Modalidade de Cobrança - \", len(df_2023['Modalidade de Cobrança'].unique()))\n",
    "# Modalidade de Cobrança (dados)\n",
    "print(f\"Modalidade de Cobrança - \", df_2023['Modalidade de Cobrança'].unique())\n",
    "\n",
    "print()\n",
    "# Tecnologia (quantidade)\n",
    "print(f\"Tecnologia - \", len(df_2023['Tecnologia'].unique()))\n",
    "# Tecnologia (dados)\n",
    "print(f\"Tecnologia - \", df_2023['Tecnologia'].unique())\n",
    "\n",
    "print()\n",
    "# Tecnologia Geração (quantidade)\n",
    "print(f\"Tecnologia Geração - \", len(df_2023['Tecnologia Geração'].unique()))\n",
    "# Tecnologia Geração (dados)\n",
    "print(f\"Tecnologia Geração - \", df_2023['Tecnologia Geração'].unique())\n",
    "\n",
    "print()\n",
    "# Empresa (quantidade)\n",
    "print(f\"Empresa - \", len(df_2023['Empresa'].unique()))\n",
    "# Empresa (dados)\n",
    "print(f\"Empresa - \", df_2023['Empresa'].unique())\n",
    "\n",
    "print()\n",
    "# Porte da Prestadora (quantidade)\n",
    "print(f\"Porte da Prestadora - \", len(df_2023['Porte da Prestadora'].unique()))\n",
    "# Porte da Prestadora (dados)\n",
    "print(f\"Porte da Prestadora - \", df_2023['Porte da Prestadora'].unique())\n",
    "\n",
    "print()\n",
    "# Tipo de Pessoa (quantidade)\n",
    "print(f\"Tipo de Pessoa - \", len(df_2023['Tipo de Pessoa'].unique()))\n",
    "# Tipo de Pessoa (dados)\n",
    "print(f\"Tipo de Pessoa - \", df_2023['Tipo de Pessoa'].unique())\n",
    "\n",
    "print()\n",
    "# Tipo de Produto (quantidade)\n",
    "print(f\"Tipo de Produto - \", len(df_2023['Tipo de Produto'].unique()))\n",
    "# Tipo de Produto (dados)\n",
    "print(f\"Tipo de Produto - \", df_2023['Tipo de Produto'].unique())\n",
    "\n",
    "print()\n",
    "# Código IBGE Município (quantidade)\n",
    "print(f\"Código IBGE Município - \", len(df_2023['Código IBGE Município'].unique()))\n",
    "\n",
    "print()\n",
    "# Grupo Econômico (quantidade)\n",
    "print(f\"Grupo Econômico - \", len(df_2023['Grupo Econômico'].unique()))\n",
    "# Grupo Econômico (dados)\n",
    "print(f\"Grupo Econômico - \", df_2023['Grupo Econômico'].unique())"
   ]
  },
  {
   "cell_type": "code",
   "execution_count": null,
   "id": "d904b215-258b-49bf-b63c-0183b79821b6",
   "metadata": {},
   "outputs": [],
   "source": [
    "#Criando uma função para corrigir o nome TELEFÔNICA \n",
    "def corrigir_nome(nome):\n",
    "      if nome == 'TELEFÔNICA':\n",
    "        return 'TELEFONICA'\n",
    "      else:\n",
    "        return nome\n",
    "\n",
    "# Aplicando a função aos valores da coluna 'Grupo Econômico' no DataFrame\n",
    "df_2023['Grupo Econômico'] = df_2023['Grupo Econômico'].apply(corrigir_nome)\n"
   ]
  },
  {
   "cell_type": "code",
   "execution_count": null,
   "id": "055e7db2-4b6f-440c-9131-a542faaed9d9",
   "metadata": {},
   "outputs": [],
   "source": [
    "# Grupo Econômico (quantidade)\n",
    "print(f\"Grupo Econômico - \", len(df_2023['Grupo Econômico'].unique()))\n",
    "# Grupo Econômico (dados)\n",
    "print(f\"Grupo Econômico - \", df_2023['Grupo Econômico'].unique())"
   ]
  },
  {
   "cell_type": "code",
   "execution_count": null,
   "id": "38aade51-a72c-4582-a5e3-43e984028b86",
   "metadata": {},
   "outputs": [],
   "source": [
    "colunas_meses = ['2023-01','2023-02','2023-03','2023-04','2023-05','2023-06','2023-07','2023-08']"
   ]
  },
  {
   "cell_type": "code",
   "execution_count": null,
   "id": "071159ac-adef-469d-b50a-637d66c99803",
   "metadata": {},
   "outputs": [],
   "source": [
    "# Quantidade de dados NaN em relação aos não-nulos em cada coluna_meses\n",
    "\t\n",
    "print(df_2023['2023-01'].isna().value_counts())\n",
    "print()\n",
    "print(df_2023['2023-02'].isna().value_counts())\n",
    "print()\n",
    "print(df_2023['2023-03'].isna().value_counts())\n",
    "print()\n",
    "print(df_2023['2023-04'].isna().value_counts())\n",
    "print()\n",
    "print(df_2023['2023-05'].isna().value_counts())\n",
    "print()\n",
    "print(df_2023['2023-06'].isna().value_counts())\n",
    "print()\n",
    "print(df_2023['2023-07'].isna().value_counts())\n",
    "print()\n",
    "print(df_2023['2023-08'].isna().value_counts())\n",
    "print()"
   ]
  },
  {
   "cell_type": "code",
   "execution_count": null,
   "id": "585930ea-b6ed-4ba6-a131-8c6d85b65acf",
   "metadata": {},
   "outputs": [],
   "source": [
    "# Quantidade de dados NaN em cada coluna_meses\n",
    "\t\n",
    "Nan_2023_01= df_2023['2023-01'].isna().sum()\n",
    "print(f'Janeiro de 2023: {Nan_2023_01}')\n",
    "Nan_2023_02= df_2023['2023-02'].isna().sum()\n",
    "print(f'Fevereiro de 2023: {Nan_2023_02}')\n",
    "Nan_2023_03= df_2023['2023-03'].isna().sum()\n",
    "print(f'Março de 2023: {Nan_2023_03}')\n",
    "Nan_2023_04= df_2023['2023-04'].isna().sum()\n",
    "print(f'Abril de 2023: {Nan_2023_04}')\n",
    "Nan_2023_05= df_2023['2023-05'].isna().sum()\n",
    "print(f'Maio de 2023: {Nan_2023_05}')\n",
    "Nan_2023_06= df_2023['2023-06'].isna().sum()\n",
    "print(f'Junho de 2023: {Nan_2023_06}')\n",
    "Nan_2023_07= df_2023['2023-07'].isna().sum()\n",
    "print(f'Julho de 2023: {Nan_2023_07}')\n",
    "Nan_2023_08= df_2023['2023-08'].isna().sum()\n",
    "print(f'Agosto de 2023: {Nan_2023_08}')"
   ]
  },
  {
   "cell_type": "code",
   "execution_count": null,
   "id": "fceef567-a6b2-4f48-933e-a4e85b710a96",
   "metadata": {},
   "outputs": [],
   "source": [
    "Porcent_Nan_2023_01 = (Nan_2023_01 / len(df_2023['2023-01']))\n",
    "print(f' Porcentagem de NaN em Janeiro de 2023: {Porcent_Nan_2023_01:.2%}')\n",
    "Porcent_Nan_2023_02 = (Nan_2023_02 / len(df_2023['2023-02']))\n",
    "print(f' Porcentagem de NaN em Fevereiro de 2023: {Porcent_Nan_2023_02:.2%}')\n",
    "Porcent_Nan_2023_03 = (Nan_2023_03 / len(df_2023['2023-03']))\n",
    "print(f' Porcentagem de NaN em Março de 2023: {Porcent_Nan_2023_03:.2%}')\n",
    "Porcent_Nan_2023_04 = (Nan_2023_04 / len(df_2023['2023-04']))\n",
    "print(f' Porcentagem de NaN em Abril de 2023: {Porcent_Nan_2023_04:.2%}')\n",
    "Porcent_Nan_2023_05 = (Nan_2023_05 / len(df_2023['2023-05']))\n",
    "print(f' Porcentagem de NaN em Maio de 2023: {Porcent_Nan_2023_05:.2%}')\n",
    "Porcent_Nan_2023_06 = (Nan_2023_06 / len(df_2023['2023-06']))\n",
    "print(f' Porcentagem de NaN em Junho de 2023: {Porcent_Nan_2023_06:.2%}')\n",
    "Porcent_Nan_2023_07 = (Nan_2023_07 / len(df_2023['2023-07']))\n",
    "print(f' Porcentagem de NaN em Julho de 2023: {Porcent_Nan_2023_07:.2%}')\n",
    "Porcent_Nan_2023_08 = (Nan_2023_08 / len(df_2023['2023-08']))\n",
    "print(f' Porcentagem de NaN em Agosto de 2023: {Porcent_Nan_2023_08:.2%}')"
   ]
  },
  {
   "cell_type": "code",
   "execution_count": null,
   "id": "d5d6daf9-81df-4df8-b19b-9e27c007148b",
   "metadata": {},
   "outputs": [],
   "source": [
    "#Quantidade total de NaN no dataframe\n",
    "quant_total_NaN = df_2023[colunas_meses].isna().sum().sum()\n",
    "print(quant_total_NaN)"
   ]
  },
  {
   "cell_type": "code",
   "execution_count": null,
   "id": "1ab4e5ee-e4ac-453c-90af-b5ce5fcfcd7e",
   "metadata": {},
   "outputs": [],
   "source": [
    "#Quantidade total de entradas no dataframe\n",
    "quant_total_entradas = df_2023.shape[0] * df_2023.shape[1]\n",
    "print(quant_total_entradas)"
   ]
  },
  {
   "cell_type": "code",
   "execution_count": null,
   "id": "78e877ac-0ebb-4db9-b740-12c8dceb5a60",
   "metadata": {},
   "outputs": [],
   "source": [
    "#Porcentagem de NaN em todo o dataframe\n",
    "porcent_Nan_total = (quant_total_NaN / quant_total_entradas)\n",
    "print(f'{porcent_Nan_total:.2%}')"
   ]
  },
  {
   "cell_type": "code",
   "execution_count": null,
   "id": "45bb10a6-ccc8-452a-bac7-95a1bc6bf6e5",
   "metadata": {},
   "outputs": [],
   "source": [
    "#Preenchendo os NaN com 0\n",
    "df_2023 = df_2023.fillna(0)"
   ]
  },
  {
   "cell_type": "code",
   "execution_count": null,
   "id": "364e2042-dc16-46b4-8dc3-3206547ff74b",
   "metadata": {},
   "outputs": [],
   "source": [
    "#Criando coluna de média\n",
    "\n",
    "df_2023['media_ano'] = round(df_2023[colunas_meses].mean(axis=1), 2)\n",
    "df_2023"
   ]
  },
  {
   "cell_type": "code",
   "execution_count": null,
   "id": "170bedae-e669-4e3f-a8a3-baddedaf5ec3",
   "metadata": {},
   "outputs": [],
   "source": [
    "#Calculando a média de acessos por UF\n",
    "media_por_uf = df_2023.groupby('UF')['media_ano'].sum()\n",
    "media_por_uf"
   ]
  },
  {
   "cell_type": "code",
   "execution_count": null,
   "id": "ab3eceaa-3f8f-49c5-8d94-8fa8fc996f83",
   "metadata": {},
   "outputs": [],
   "source": [
    "df_2023['media_ano'].sum()"
   ]
  },
  {
   "cell_type": "code",
   "execution_count": null,
   "id": "c3297a83-d491-465c-8d4f-74992065c7f7",
   "metadata": {},
   "outputs": [],
   "source": [
    "#Calculando a média de acessos por grupo econômico e UF\n",
    "df_2023_uf = pd.DataFrame(df_2023.groupby(['UF', 'Grupo Econômico']).sum()['media_ano'])\n",
    "df_2023_uf"
   ]
  },
  {
   "cell_type": "code",
   "execution_count": null,
   "id": "2badb73f-86ff-4fc9-b703-ce0138140d74",
   "metadata": {},
   "outputs": [],
   "source": [
    "#Calculando o market share dos grupos econômicos por UF\n",
    "df_2023_uf['market_share'] = round(((df_2023_uf['media_ano'] / df_2023_uf.groupby('UF')['media_ano'].sum())),4)\n",
    "df_2023_uf.head(30)"
   ]
  },
  {
   "cell_type": "code",
   "execution_count": null,
   "id": "f8f3542b-169a-4602-a775-3d62d61f12df",
   "metadata": {},
   "outputs": [],
   "source": [
    "# Classificando os valores de market_share em ordem decrescente\n",
    "df_2023_uf_sorted = df_2023_uf.sort_values(by='market_share', ascending=False)\n",
    "\n",
    "# Exibindo os primeiros 30 registros do DataFrame classificado\n",
    "df_2023_uf_sorted.head(30)\n",
    "\n",
    "\n"
   ]
  },
  {
   "cell_type": "code",
   "execution_count": null,
   "id": "5097c599-6b6d-49ed-9c45-a117c510641b",
   "metadata": {},
   "outputs": [],
   "source": [
    "#Calculando a média de acessos por grupo econômico e DDD\n",
    "df_2023_ddd = pd.DataFrame(df_2023.groupby(['Código Nacional', 'Grupo Econômico']).sum()['media_ano'])\n",
    "df_2023_ddd.head(50)"
   ]
  },
  {
   "cell_type": "code",
   "execution_count": null,
   "id": "b6fbd01c-5905-416b-9786-cccfea4ee592",
   "metadata": {},
   "outputs": [],
   "source": [
    "#Calculando o market share dos grupos econômicos por DDD\n",
    "df_2023_ddd['market_share'] = round(((df_2023_ddd['media_ano'] / df_2023_ddd.groupby('Código Nacional')['media_ano'].sum())),4)\n",
    "df_2023_ddd.head(50)"
   ]
  },
  {
   "cell_type": "code",
   "execution_count": null,
   "id": "4b559b0e-5bab-4676-b6ca-8dcc7bf0071f",
   "metadata": {},
   "outputs": [],
   "source": [
    "# Classificando os valores de market_share em ordem decrescente\n",
    "df_2023_ddd_sorted = df_2023_ddd.sort_values(by='market_share', ascending=False)\n",
    "\n",
    "# Exibindo os primeiros 30 registros do DataFrame classificado\n",
    "df_2023_ddd_sorted.head(30)"
   ]
  },
  {
   "cell_type": "code",
   "execution_count": null,
   "id": "547d55c8-1083-41e7-bbe2-7bc15ce556f4",
   "metadata": {},
   "outputs": [],
   "source": [
    "#para o cálculo do HHI, primeiro criamos uma coluna chamada hhi_empresa pegando o valor do market_share de cada empresa e elevando o número ao quadrado\n",
    "df_2023_uf['hhi_empresa'] = (df_2023_uf['market_share'] ** 2) * 10000\n",
    "df_2023_uf"
   ]
  },
  {
   "cell_type": "code",
   "execution_count": null,
   "id": "9ecca99e-7fd1-4be0-93e6-4c9a82cf5e80",
   "metadata": {},
   "outputs": [],
   "source": [
    "#a partir da coluna de hhi_empresa, somamos os valores, criando um novo dataframe com uma coluna contendo o cálculo de HHI por UF\n",
    "\n",
    "df_2023_hhi_uf = df_2023_uf.groupby('UF')['hhi_empresa'].sum()\n",
    "df_2023_hhi_uf = pd.DataFrame(df_2023_hhi_uf).reset_index()\n",
    "df_2023_hhi_uf.columns = ['UF', 'HHI']\n",
    "df_2023_hhi_uf\n"
   ]
  },
  {
   "cell_type": "code",
   "execution_count": null,
   "id": "9a1433d6-4d9c-4a4e-bcc9-0b223bff6c99",
   "metadata": {},
   "outputs": [],
   "source": [
    "#criar uma função para verificar a concentração de mercado a partir do HHI\n",
    "def analise_hhi(valor_hhi):\n",
    "    if valor_hhi <= 1500:\n",
    "        return \"pouco concentrado\"\n",
    "    if valor_hhi > 1500 and valor_hhi <= 2500:\n",
    "        return \"moderado\"\n",
    "    else:\n",
    "        return \"altamente concentrado\"\n"
   ]
  },
  {
   "cell_type": "code",
   "execution_count": null,
   "id": "b749f473-b87c-40fc-bab5-7e484dc28270",
   "metadata": {},
   "outputs": [],
   "source": [
    "#aplicar a função analise_hhi no dataframe, criando uma coluna analise_mercado_hhi\n",
    "df_2023_hhi_uf['analise_mercado_hhi'] = df_2023_hhi_uf['HHI'].apply(analise_hhi)\n",
    "df_2023_hhi_uf"
   ]
  },
  {
   "cell_type": "code",
   "execution_count": null,
   "id": "48911c91-6493-4006-8b3c-8e61e312f83a",
   "metadata": {},
   "outputs": [],
   "source": [
    "#para o cálculo do HHI, primeiro criamos uma coluna chamada hhi_empresa pegando o valor do market_share de cada empresa e elevando o número ao quadrado\n",
    "df_2023_ddd['hhi_empresa'] = (df_2023_ddd['market_share'] ** 2) * 10000\n",
    "df_2023_ddd"
   ]
  },
  {
   "cell_type": "code",
   "execution_count": null,
   "id": "d8aef3ee-906b-4338-847a-7a98cbf0b8ab",
   "metadata": {},
   "outputs": [],
   "source": [
    "#a partir da coluna de hhi_empresa, somamos os valores, criando um novo dataframe com uma coluna contendo o cálculo de HHI por UF\n",
    "\n",
    "df_2023_hhi_ddd = df_2023_ddd.groupby('Código Nacional')['hhi_empresa'].sum()\n",
    "df_2023_hhi_ddd= pd.DataFrame(df_2023_hhi_ddd).reset_index()\n",
    "df_2023_hhi_ddd.columns = ['Código Nacional', 'HHI']\n",
    "df_2023_hhi_ddd"
   ]
  },
  {
   "cell_type": "code",
   "execution_count": null,
   "id": "cd903d01-3d62-4073-b170-fd871b1edd51",
   "metadata": {},
   "outputs": [],
   "source": [
    "#aplicar a função analise_hhi no dataframe, criando uma coluna analise_mercado_hhi\n",
    "df_2023_hhi_ddd['analise_mercado_hhi'] = df_2023_hhi_ddd['HHI'].apply(analise_hhi)\n",
    "df_2023_hhi_ddd"
   ]
  },
  {
   "cell_type": "code",
   "execution_count": null,
   "id": "b481673d-4c10-484f-8bb6-43fe0dc149a1",
   "metadata": {},
   "outputs": [],
   "source": [
    "#Para salvar os arquivos:\n",
    "df_2023_uf.to_csv(\"cm_2023_uf.csv\", sep=';', decimal = \",\", encoding='utf-8')"
   ]
  },
  {
   "cell_type": "code",
   "execution_count": null,
   "id": "88b6c1f4-f60f-426e-b2d3-484654e92f46",
   "metadata": {},
   "outputs": [],
   "source": [
    "#Para salvar os arquivos:\n",
    "df_2023_ddd.to_csv(\"cm_2023_ddd.csv\", sep=';', decimal = \",\", encoding='utf-8')"
   ]
  },
  {
   "cell_type": "code",
   "execution_count": null,
   "id": "20574b87-bea7-4d03-91c7-761ba8a69922",
   "metadata": {},
   "outputs": [],
   "source": [
    "#Para salvar os arquivos:\n",
    "df_2023_hhi_uf.to_csv(\"hhi_2023_uf.csv\", sep=';', decimal = \",\", encoding='utf-8')"
   ]
  },
  {
   "cell_type": "code",
   "execution_count": null,
   "id": "df968765-ba2b-4f2b-b14b-ef582e7c547e",
   "metadata": {},
   "outputs": [],
   "source": [
    "#Para salvar os arquivos:\n",
    "df_2023_hhi_ddd.to_csv(\"hhi_2023_ddd.csv\", sep=';', decimal = \",\", encoding='utf-8')"
   ]
  },
  {
   "cell_type": "code",
   "execution_count": null,
   "id": "cb293b7b-b58b-4c08-afd6-bf1932a91f1f",
   "metadata": {},
   "outputs": [],
   "source": []
  }
 ],
 "metadata": {
  "kernelspec": {
   "display_name": "Python 3 (ipykernel)",
   "language": "python",
   "name": "python3"
  },
  "language_info": {
   "codemirror_mode": {
    "name": "ipython",
    "version": 3
   },
   "file_extension": ".py",
   "mimetype": "text/x-python",
   "name": "python",
   "nbconvert_exporter": "python",
   "pygments_lexer": "ipython3",
   "version": "3.11.5"
  }
 },
 "nbformat": 4,
 "nbformat_minor": 5
}
