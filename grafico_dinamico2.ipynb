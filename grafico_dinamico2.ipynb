{
 "cells": [
  {
   "cell_type": "code",
   "execution_count": 1,
   "id": "85a1d335-c5d1-4b89-a0ff-d146dd986b86",
   "metadata": {},
   "outputs": [
    {
     "data": {
      "text/plain": [
       "'C:\\\\Users\\\\Nanda\\\\OneDrive - ANS\\\\Documentos\\\\ANS\\\\Bootcamp\\\\Projeto\\\\Telefonia'"
      ]
     },
     "execution_count": 1,
     "metadata": {},
     "output_type": "execute_result"
    }
   ],
   "source": [
    "import os\n",
    "os.getcwd()"
   ]
  },
  {
   "cell_type": "code",
   "execution_count": 42,
   "id": "53fe5abb-bcec-4d02-b74f-5dcebc274299",
   "metadata": {},
   "outputs": [],
   "source": [
    "import pandas as pd\n",
    "resultados = pd.read_csv('./data/df_cm_ddd.csv', sep=';', encoding='utf-8')"
   ]
  },
  {
   "cell_type": "code",
   "execution_count": 3,
   "id": "230df6fd-cc88-441f-b937-08125f48e809",
   "metadata": {},
   "outputs": [
    {
     "name": "stdout",
     "output_type": "stream",
     "text": [
      "<class 'pandas.core.frame.DataFrame'>\n",
      "RangeIndex: 6783 entries, 0 to 6782\n",
      "Data columns (total 7 columns):\n",
      " #   Column           Non-Null Count  Dtype \n",
      "---  ------           --------------  ----- \n",
      " 0   Unnamed: 0       6783 non-null   int64 \n",
      " 1   Código Nacional  6783 non-null   int64 \n",
      " 2   Grupo Econômico  6783 non-null   object\n",
      " 3   media_ano        6783 non-null   object\n",
      " 4   market_share     6783 non-null   object\n",
      " 5   hhi_empresa      6783 non-null   object\n",
      " 6   ano              6783 non-null   int64 \n",
      "dtypes: int64(3), object(4)\n",
      "memory usage: 371.1+ KB\n"
     ]
    }
   ],
   "source": [
    "resultados.info()"
   ]
  },
  {
   "cell_type": "code",
   "execution_count": 43,
   "id": "c1e5577e-cc30-4fc1-b617-e8fde69aae75",
   "metadata": {},
   "outputs": [],
   "source": [
    "#Modificações Hélio\n",
    "\n",
    "resultados['media_ano'] = resultados['media_ano'].map(lambda x: float(x.replace(',', '.')))"
   ]
  },
  {
   "cell_type": "code",
   "execution_count": 44,
   "id": "633e0e3c-1822-4390-8d40-a5cf53987f35",
   "metadata": {},
   "outputs": [],
   "source": [
    "resultados = resultados[resultados['Grupo Econômico'] == 'TELECOM AMERICAS']"
   ]
  },
  {
   "cell_type": "code",
   "execution_count": 45,
   "id": "98145442-6eed-4ccc-98df-0e0008afbacd",
   "metadata": {},
   "outputs": [],
   "source": [
    "#criando dataframe com informações de georreferenciamento de municípios\n",
    "georreferenciamento_df = pd.read_csv('https://raw.githubusercontent.com/kelvins/Municipios-Brasileiros/main/csv/municipios.csv')\n",
    "\n",
    "#os dados de georreferenciamento tem 7 dígitos (vamos remover o dígito verificador e atualizar o dataframe)\n",
    "georreferenciamento_df['codigo_ibge'] = georreferenciamento_df['codigo_ibge']//10"
   ]
  },
  {
   "cell_type": "code",
   "execution_count": 8,
   "id": "ab3ae4ea-2e19-4d01-b34d-de2bacaf7b63",
   "metadata": {},
   "outputs": [
    {
     "data": {
      "text/html": [
       "<div>\n",
       "<style scoped>\n",
       "    .dataframe tbody tr th:only-of-type {\n",
       "        vertical-align: middle;\n",
       "    }\n",
       "\n",
       "    .dataframe tbody tr th {\n",
       "        vertical-align: top;\n",
       "    }\n",
       "\n",
       "    .dataframe thead th {\n",
       "        text-align: right;\n",
       "    }\n",
       "</style>\n",
       "<table border=\"1\" class=\"dataframe\">\n",
       "  <thead>\n",
       "    <tr style=\"text-align: right;\">\n",
       "      <th></th>\n",
       "      <th>codigo_ibge</th>\n",
       "      <th>nome</th>\n",
       "      <th>latitude</th>\n",
       "      <th>longitude</th>\n",
       "      <th>capital</th>\n",
       "      <th>codigo_uf</th>\n",
       "      <th>siafi_id</th>\n",
       "      <th>ddd</th>\n",
       "      <th>fuso_horario</th>\n",
       "    </tr>\n",
       "  </thead>\n",
       "  <tbody>\n",
       "    <tr>\n",
       "      <th>0</th>\n",
       "      <td>520005</td>\n",
       "      <td>Abadia de Goiás</td>\n",
       "      <td>-16.75730</td>\n",
       "      <td>-49.4412</td>\n",
       "      <td>0</td>\n",
       "      <td>52</td>\n",
       "      <td>1050</td>\n",
       "      <td>62</td>\n",
       "      <td>America/Sao_Paulo</td>\n",
       "    </tr>\n",
       "    <tr>\n",
       "      <th>1</th>\n",
       "      <td>310010</td>\n",
       "      <td>Abadia dos Dourados</td>\n",
       "      <td>-18.48310</td>\n",
       "      <td>-47.3916</td>\n",
       "      <td>0</td>\n",
       "      <td>31</td>\n",
       "      <td>4001</td>\n",
       "      <td>34</td>\n",
       "      <td>America/Sao_Paulo</td>\n",
       "    </tr>\n",
       "    <tr>\n",
       "      <th>2</th>\n",
       "      <td>520010</td>\n",
       "      <td>Abadiânia</td>\n",
       "      <td>-16.19700</td>\n",
       "      <td>-48.7057</td>\n",
       "      <td>0</td>\n",
       "      <td>52</td>\n",
       "      <td>9201</td>\n",
       "      <td>62</td>\n",
       "      <td>America/Sao_Paulo</td>\n",
       "    </tr>\n",
       "    <tr>\n",
       "      <th>3</th>\n",
       "      <td>310020</td>\n",
       "      <td>Abaeté</td>\n",
       "      <td>-19.15510</td>\n",
       "      <td>-45.4444</td>\n",
       "      <td>0</td>\n",
       "      <td>31</td>\n",
       "      <td>4003</td>\n",
       "      <td>37</td>\n",
       "      <td>America/Sao_Paulo</td>\n",
       "    </tr>\n",
       "    <tr>\n",
       "      <th>4</th>\n",
       "      <td>150010</td>\n",
       "      <td>Abaetetuba</td>\n",
       "      <td>-1.72183</td>\n",
       "      <td>-48.8788</td>\n",
       "      <td>0</td>\n",
       "      <td>15</td>\n",
       "      <td>401</td>\n",
       "      <td>91</td>\n",
       "      <td>America/Sao_Paulo</td>\n",
       "    </tr>\n",
       "  </tbody>\n",
       "</table>\n",
       "</div>"
      ],
      "text/plain": [
       "   codigo_ibge                 nome  latitude  longitude  capital  codigo_uf  \\\n",
       "0       520005      Abadia de Goiás -16.75730   -49.4412        0         52   \n",
       "1       310010  Abadia dos Dourados -18.48310   -47.3916        0         31   \n",
       "2       520010            Abadiânia -16.19700   -48.7057        0         52   \n",
       "3       310020               Abaeté -19.15510   -45.4444        0         31   \n",
       "4       150010           Abaetetuba  -1.72183   -48.8788        0         15   \n",
       "\n",
       "   siafi_id  ddd       fuso_horario  \n",
       "0      1050   62  America/Sao_Paulo  \n",
       "1      4001   34  America/Sao_Paulo  \n",
       "2      9201   62  America/Sao_Paulo  \n",
       "3      4003   37  America/Sao_Paulo  \n",
       "4       401   91  America/Sao_Paulo  "
      ]
     },
     "execution_count": 8,
     "metadata": {},
     "output_type": "execute_result"
    }
   ],
   "source": [
    "georreferenciamento_df.head()"
   ]
  },
  {
   "cell_type": "code",
   "execution_count": 46,
   "id": "842a50eb-93f3-4780-9470-f579c35b6d27",
   "metadata": {},
   "outputs": [],
   "source": [
    "#cruzamento do dataframe resultados com as informações de georreferenciamento\n",
    "resultados_df = pd.merge(resultados[['Código Nacional', 'ano', 'media_ano']],\n",
    "                         georreferenciamento_df[['ddd', 'nome', 'codigo_ibge', 'codigo_uf', 'latitude', 'longitude']],\n",
    "                         left_on='Código Nacional',\n",
    "                         right_on='ddd',\n",
    "                         how='inner')"
   ]
  },
  {
   "cell_type": "code",
   "execution_count": 10,
   "id": "b2001a2c-c63c-4682-bfdf-f633af3ad7d4",
   "metadata": {},
   "outputs": [
    {
     "data": {
      "text/html": [
       "<div>\n",
       "<style scoped>\n",
       "    .dataframe tbody tr th:only-of-type {\n",
       "        vertical-align: middle;\n",
       "    }\n",
       "\n",
       "    .dataframe tbody tr th {\n",
       "        vertical-align: top;\n",
       "    }\n",
       "\n",
       "    .dataframe thead th {\n",
       "        text-align: right;\n",
       "    }\n",
       "</style>\n",
       "<table border=\"1\" class=\"dataframe\">\n",
       "  <thead>\n",
       "    <tr style=\"text-align: right;\">\n",
       "      <th></th>\n",
       "      <th>Código Nacional</th>\n",
       "      <th>ano</th>\n",
       "      <th>media_ano</th>\n",
       "      <th>ddd</th>\n",
       "      <th>nome</th>\n",
       "      <th>codigo_ibge</th>\n",
       "      <th>codigo_uf</th>\n",
       "      <th>latitude</th>\n",
       "      <th>longitude</th>\n",
       "    </tr>\n",
       "  </thead>\n",
       "  <tbody>\n",
       "    <tr>\n",
       "      <th>0</th>\n",
       "      <td>11</td>\n",
       "      <td>2009</td>\n",
       "      <td>5966137.66</td>\n",
       "      <td>11</td>\n",
       "      <td>Alumínio</td>\n",
       "      <td>350115</td>\n",
       "      <td>35</td>\n",
       "      <td>-23.5306</td>\n",
       "      <td>-47.2546</td>\n",
       "    </tr>\n",
       "    <tr>\n",
       "      <th>1</th>\n",
       "      <td>11</td>\n",
       "      <td>2009</td>\n",
       "      <td>5966137.66</td>\n",
       "      <td>11</td>\n",
       "      <td>Araçariguama</td>\n",
       "      <td>350275</td>\n",
       "      <td>35</td>\n",
       "      <td>-23.4366</td>\n",
       "      <td>-47.0608</td>\n",
       "    </tr>\n",
       "    <tr>\n",
       "      <th>2</th>\n",
       "      <td>11</td>\n",
       "      <td>2009</td>\n",
       "      <td>5966137.66</td>\n",
       "      <td>11</td>\n",
       "      <td>Arujá</td>\n",
       "      <td>350390</td>\n",
       "      <td>35</td>\n",
       "      <td>-23.3965</td>\n",
       "      <td>-46.3200</td>\n",
       "    </tr>\n",
       "    <tr>\n",
       "      <th>3</th>\n",
       "      <td>11</td>\n",
       "      <td>2009</td>\n",
       "      <td>5966137.66</td>\n",
       "      <td>11</td>\n",
       "      <td>Atibaia</td>\n",
       "      <td>350410</td>\n",
       "      <td>35</td>\n",
       "      <td>-23.1171</td>\n",
       "      <td>-46.5563</td>\n",
       "    </tr>\n",
       "    <tr>\n",
       "      <th>4</th>\n",
       "      <td>11</td>\n",
       "      <td>2009</td>\n",
       "      <td>5966137.66</td>\n",
       "      <td>11</td>\n",
       "      <td>Barueri</td>\n",
       "      <td>350570</td>\n",
       "      <td>35</td>\n",
       "      <td>-23.5057</td>\n",
       "      <td>-46.8790</td>\n",
       "    </tr>\n",
       "  </tbody>\n",
       "</table>\n",
       "</div>"
      ],
      "text/plain": [
       "   Código Nacional   ano   media_ano  ddd          nome  codigo_ibge  \\\n",
       "0               11  2009  5966137.66   11      Alumínio       350115   \n",
       "1               11  2009  5966137.66   11  Araçariguama       350275   \n",
       "2               11  2009  5966137.66   11         Arujá       350390   \n",
       "3               11  2009  5966137.66   11       Atibaia       350410   \n",
       "4               11  2009  5966137.66   11       Barueri       350570   \n",
       "\n",
       "   codigo_uf  latitude  longitude  \n",
       "0         35  -23.5306   -47.2546  \n",
       "1         35  -23.4366   -47.0608  \n",
       "2         35  -23.3965   -46.3200  \n",
       "3         35  -23.1171   -46.5563  \n",
       "4         35  -23.5057   -46.8790  "
      ]
     },
     "execution_count": 10,
     "metadata": {},
     "output_type": "execute_result"
    }
   ],
   "source": [
    "resultados_df.head()"
   ]
  },
  {
   "cell_type": "code",
   "execution_count": 47,
   "id": "06d03ca2-2f27-46a9-a3ce-0543b9268800",
   "metadata": {},
   "outputs": [],
   "source": [
    "#puxar a malha geográfica do brasil a nível de município\n",
    "import requests\n",
    "geojson = requests.get(f'http://servicodados.ibge.gov.br/api/v3/malhas/paises/BR?formato=application/vnd.geo+json&qualidade=minima&intrarregiao=municipio').json()\n",
    "\n",
    "#a malha geográfica do ibge tem 7 dígitos (vamos remover o dígito verificador e atualizar a malha)\n",
    "from geojson_rewind import rewind\n",
    "for feature in geojson['features']:\n",
    "    feature['properties']['codarea'] = feature['properties']['codarea'][:-1]\n",
    "geojson = rewind(geojson, rfc7946=False)"
   ]
  },
  {
   "cell_type": "code",
   "execution_count": 48,
   "id": "bcb48603-487d-4af5-9837-557d1d60fa60",
   "metadata": {},
   "outputs": [
    {
     "data": {
      "text/plain": [
       "6431194.75"
      ]
     },
     "execution_count": 48,
     "metadata": {},
     "output_type": "execute_result"
    }
   ],
   "source": [
    "max_min = resultados_df.groupby('ano').agg({'media_ano':'max'}).min().values[0]\n",
    "max_min"
   ]
  },
  {
   "cell_type": "code",
   "execution_count": 49,
   "id": "64c76c53-f8f4-479f-bc91-d56a51939903",
   "metadata": {},
   "outputs": [],
   "source": [
    "resultados_df['media_ano'] = resultados_df['media_ano'].map(lambda x:max_min if x > max_min else x)"
   ]
  },
  {
   "cell_type": "code",
   "execution_count": 50,
   "id": "e64e871b-e15b-472a-92c9-5825f9d3988e",
   "metadata": {},
   "outputs": [
    {
     "data": {
      "text/html": [
       "<iframe\n",
       "    scrolling=\"no\"\n",
       "    width=\"1020px\"\n",
       "    height=\"820\"\n",
       "    src=\"iframe_figures/figure_50.html\"\n",
       "    frameborder=\"0\"\n",
       "    allowfullscreen\n",
       "></iframe>\n"
      ]
     },
     "metadata": {},
     "output_type": "display_data"
    }
   ],
   "source": [
    "#construir o mapa choroplético com timeline no campo de ano\n",
    "import plotly.express as px\n",
    "import plotly.io as pio\n",
    "pio.renderers.default = 'iframe'\n",
    "\n",
    "fig = px.choropleth(resultados_df,\n",
    "                    geojson=geojson,\n",
    "                    # scope='south america',\n",
    "                    color='media_ano',\n",
    "                    color_continuous_scale=\"Reds\",\n",
    "                    locations='codigo_ibge',\n",
    "                    featureidkey='properties.codarea',\n",
    "                    hover_name='nome',\n",
    "                    animation_frame='ano')\n",
    "\n",
    "fig.update_layout(height=800, width=1000, autosize=False)\n",
    "fig.update_geos(fitbounds = \"locations\", visible = False)\n",
    "fig.show();"
   ]
  },
  {
   "cell_type": "code",
   "execution_count": null,
   "id": "cb422ab6-fbcd-4ba3-8b55-3fe4ee94b61c",
   "metadata": {},
   "outputs": [],
   "source": []
  }
 ],
 "metadata": {
  "kernelspec": {
   "display_name": "Python 3 (ipykernel)",
   "language": "python",
   "name": "python3"
  },
  "language_info": {
   "codemirror_mode": {
    "name": "ipython",
    "version": 3
   },
   "file_extension": ".py",
   "mimetype": "text/x-python",
   "name": "python",
   "nbconvert_exporter": "python",
   "pygments_lexer": "ipython3",
   "version": "3.11.5"
  }
 },
 "nbformat": 4,
 "nbformat_minor": 5
}
