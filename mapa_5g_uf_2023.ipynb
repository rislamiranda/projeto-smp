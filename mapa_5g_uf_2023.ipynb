{
 "cells": [
  {
   "cell_type": "markdown",
   "id": "23a1c26c-7a69-4fbe-9a05-788217bf0374",
   "metadata": {},
   "source": [
    "**Ler o df de dados de 5g por UF**"
   ]
  },
  {
   "cell_type": "code",
   "execution_count": 1,
   "id": "c3d3c654-e14b-402f-a57e-7a2138ce01dc",
   "metadata": {},
   "outputs": [],
   "source": [
    "import pandas as pd"
   ]
  },
  {
   "cell_type": "code",
   "execution_count": 2,
   "id": "a80a7882-970b-4d1e-9d62-d0df53229dd1",
   "metadata": {},
   "outputs": [
    {
     "data": {
      "text/html": [
       "<div>\n",
       "<style scoped>\n",
       "    .dataframe tbody tr th:only-of-type {\n",
       "        vertical-align: middle;\n",
       "    }\n",
       "\n",
       "    .dataframe tbody tr th {\n",
       "        vertical-align: top;\n",
       "    }\n",
       "\n",
       "    .dataframe thead th {\n",
       "        text-align: right;\n",
       "    }\n",
       "</style>\n",
       "<table border=\"1\" class=\"dataframe\">\n",
       "  <thead>\n",
       "    <tr style=\"text-align: right;\">\n",
       "      <th></th>\n",
       "      <th>UF</th>\n",
       "      <th>media_ano</th>\n",
       "      <th>percentual</th>\n",
       "      <th>ano</th>\n",
       "    </tr>\n",
       "  </thead>\n",
       "  <tbody>\n",
       "    <tr>\n",
       "      <th>0</th>\n",
       "      <td>AC</td>\n",
       "      <td>42571,67</td>\n",
       "      <td>0,43</td>\n",
       "      <td>2023</td>\n",
       "    </tr>\n",
       "    <tr>\n",
       "      <th>1</th>\n",
       "      <td>AL</td>\n",
       "      <td>99599,12</td>\n",
       "      <td>1,0</td>\n",
       "      <td>2023</td>\n",
       "    </tr>\n",
       "    <tr>\n",
       "      <th>2</th>\n",
       "      <td>AM</td>\n",
       "      <td>228856,38</td>\n",
       "      <td>2,3</td>\n",
       "      <td>2023</td>\n",
       "    </tr>\n",
       "    <tr>\n",
       "      <th>3</th>\n",
       "      <td>AP</td>\n",
       "      <td>43455,25</td>\n",
       "      <td>0,44</td>\n",
       "      <td>2023</td>\n",
       "    </tr>\n",
       "    <tr>\n",
       "      <th>4</th>\n",
       "      <td>BA</td>\n",
       "      <td>324916,81</td>\n",
       "      <td>3,27</td>\n",
       "      <td>2023</td>\n",
       "    </tr>\n",
       "  </tbody>\n",
       "</table>\n",
       "</div>"
      ],
      "text/plain": [
       "   UF  media_ano percentual   ano\n",
       "0  AC   42571,67       0,43  2023\n",
       "1  AL   99599,12        1,0  2023\n",
       "2  AM  228856,38        2,3  2023\n",
       "3  AP   43455,25       0,44  2023\n",
       "4  BA  324916,81       3,27  2023"
      ]
     },
     "execution_count": 2,
     "metadata": {},
     "output_type": "execute_result"
    }
   ],
   "source": [
    "tec_2023_5g_por_estado = pd.read_csv('./tec_2023_5g_por_estado.csv',sep =';')\n",
    "tec_2023_5g_por_estado.head()"
   ]
  },
  {
   "cell_type": "code",
   "execution_count": 3,
   "id": "68bbc5e6-9f52-4f42-a2d3-f45fe5061056",
   "metadata": {},
   "outputs": [],
   "source": [
    "tec_2023_5g_por_estado.rename(columns=str.lower, inplace=True) #renomear as colunas para minúsculas"
   ]
  },
  {
   "cell_type": "code",
   "execution_count": 4,
   "id": "6fb5fba6-f5dd-4a54-b9cc-1ae1abf6a23f",
   "metadata": {},
   "outputs": [
    {
     "data": {
      "text/html": [
       "<div>\n",
       "<style scoped>\n",
       "    .dataframe tbody tr th:only-of-type {\n",
       "        vertical-align: middle;\n",
       "    }\n",
       "\n",
       "    .dataframe tbody tr th {\n",
       "        vertical-align: top;\n",
       "    }\n",
       "\n",
       "    .dataframe thead th {\n",
       "        text-align: right;\n",
       "    }\n",
       "</style>\n",
       "<table border=\"1\" class=\"dataframe\">\n",
       "  <thead>\n",
       "    <tr style=\"text-align: right;\">\n",
       "      <th></th>\n",
       "      <th>uf</th>\n",
       "      <th>media_ano</th>\n",
       "      <th>percentual</th>\n",
       "      <th>ano</th>\n",
       "    </tr>\n",
       "  </thead>\n",
       "  <tbody>\n",
       "    <tr>\n",
       "      <th>0</th>\n",
       "      <td>AC</td>\n",
       "      <td>42571,67</td>\n",
       "      <td>0,43</td>\n",
       "      <td>2023</td>\n",
       "    </tr>\n",
       "    <tr>\n",
       "      <th>1</th>\n",
       "      <td>AL</td>\n",
       "      <td>99599,12</td>\n",
       "      <td>1,0</td>\n",
       "      <td>2023</td>\n",
       "    </tr>\n",
       "    <tr>\n",
       "      <th>2</th>\n",
       "      <td>AM</td>\n",
       "      <td>228856,38</td>\n",
       "      <td>2,3</td>\n",
       "      <td>2023</td>\n",
       "    </tr>\n",
       "    <tr>\n",
       "      <th>3</th>\n",
       "      <td>AP</td>\n",
       "      <td>43455,25</td>\n",
       "      <td>0,44</td>\n",
       "      <td>2023</td>\n",
       "    </tr>\n",
       "    <tr>\n",
       "      <th>4</th>\n",
       "      <td>BA</td>\n",
       "      <td>324916,81</td>\n",
       "      <td>3,27</td>\n",
       "      <td>2023</td>\n",
       "    </tr>\n",
       "  </tbody>\n",
       "</table>\n",
       "</div>"
      ],
      "text/plain": [
       "   uf  media_ano percentual   ano\n",
       "0  AC   42571,67       0,43  2023\n",
       "1  AL   99599,12        1,0  2023\n",
       "2  AM  228856,38        2,3  2023\n",
       "3  AP   43455,25       0,44  2023\n",
       "4  BA  324916,81       3,27  2023"
      ]
     },
     "execution_count": 4,
     "metadata": {},
     "output_type": "execute_result"
    }
   ],
   "source": [
    "\n",
    "tec_2023_5g_por_estado.head()"
   ]
  },
  {
   "cell_type": "markdown",
   "id": "38b75b2d-3232-4f58-a3a4-f55e63dbba0c",
   "metadata": {},
   "source": [
    "**Ler o df de latitude e longitude das UFs**"
   ]
  },
  {
   "cell_type": "code",
   "execution_count": 5,
   "id": "e564585a-db57-47cf-abb6-34563e73ffb2",
   "metadata": {},
   "outputs": [],
   "source": [
    "estados = pd.read_csv('./estados_georreferenciamento.csv',sep =',',encoding ='latin1',header = 0)"
   ]
  },
  {
   "cell_type": "code",
   "execution_count": 6,
   "id": "b8b9280e-6ee2-4c8a-b6d9-afca8c8c3088",
   "metadata": {},
   "outputs": [
    {
     "data": {
      "text/html": [
       "<div>\n",
       "<style scoped>\n",
       "    .dataframe tbody tr th:only-of-type {\n",
       "        vertical-align: middle;\n",
       "    }\n",
       "\n",
       "    .dataframe tbody tr th {\n",
       "        vertical-align: top;\n",
       "    }\n",
       "\n",
       "    .dataframe thead th {\n",
       "        text-align: right;\n",
       "    }\n",
       "</style>\n",
       "<table border=\"1\" class=\"dataframe\">\n",
       "  <thead>\n",
       "    <tr style=\"text-align: right;\">\n",
       "      <th></th>\n",
       "      <th>ï»¿codigo_uf</th>\n",
       "      <th>uf</th>\n",
       "      <th>nome</th>\n",
       "      <th>latitude</th>\n",
       "      <th>longitude</th>\n",
       "      <th>regiao</th>\n",
       "    </tr>\n",
       "  </thead>\n",
       "  <tbody>\n",
       "    <tr>\n",
       "      <th>0</th>\n",
       "      <td>11</td>\n",
       "      <td>RO</td>\n",
       "      <td>RondÃ´nia</td>\n",
       "      <td>-10.83</td>\n",
       "      <td>-63.34</td>\n",
       "      <td>Norte</td>\n",
       "    </tr>\n",
       "    <tr>\n",
       "      <th>1</th>\n",
       "      <td>12</td>\n",
       "      <td>AC</td>\n",
       "      <td>Acre</td>\n",
       "      <td>-8.77</td>\n",
       "      <td>-70.55</td>\n",
       "      <td>Norte</td>\n",
       "    </tr>\n",
       "    <tr>\n",
       "      <th>2</th>\n",
       "      <td>13</td>\n",
       "      <td>AM</td>\n",
       "      <td>Amazonas</td>\n",
       "      <td>-3.47</td>\n",
       "      <td>-65.10</td>\n",
       "      <td>Norte</td>\n",
       "    </tr>\n",
       "    <tr>\n",
       "      <th>3</th>\n",
       "      <td>14</td>\n",
       "      <td>RR</td>\n",
       "      <td>Roraima</td>\n",
       "      <td>1.99</td>\n",
       "      <td>-61.33</td>\n",
       "      <td>Norte</td>\n",
       "    </tr>\n",
       "    <tr>\n",
       "      <th>4</th>\n",
       "      <td>15</td>\n",
       "      <td>PA</td>\n",
       "      <td>ParÃ¡</td>\n",
       "      <td>-3.79</td>\n",
       "      <td>-52.48</td>\n",
       "      <td>Norte</td>\n",
       "    </tr>\n",
       "  </tbody>\n",
       "</table>\n",
       "</div>"
      ],
      "text/plain": [
       "   ï»¿codigo_uf  uf       nome  latitude  longitude regiao\n",
       "0            11  RO  RondÃ´nia    -10.83     -63.34  Norte\n",
       "1            12  AC       Acre     -8.77     -70.55  Norte\n",
       "2            13  AM   Amazonas     -3.47     -65.10  Norte\n",
       "3            14  RR    Roraima      1.99     -61.33  Norte\n",
       "4            15  PA      ParÃ¡     -3.79     -52.48  Norte"
      ]
     },
     "execution_count": 6,
     "metadata": {},
     "output_type": "execute_result"
    }
   ],
   "source": [
    "estados.head(5)"
   ]
  },
  {
   "cell_type": "code",
   "execution_count": 7,
   "id": "3412a26f-43f5-4471-906d-2181cefa08d9",
   "metadata": {},
   "outputs": [
    {
     "name": "stdout",
     "output_type": "stream",
     "text": [
      "<class 'pandas.core.frame.DataFrame'>\n",
      "RangeIndex: 27 entries, 0 to 26\n",
      "Data columns (total 6 columns):\n",
      " #   Column        Non-Null Count  Dtype  \n",
      "---  ------        --------------  -----  \n",
      " 0   ï»¿codigo_uf  27 non-null     int64  \n",
      " 1   uf            27 non-null     object \n",
      " 2   nome          27 non-null     object \n",
      " 3   latitude      27 non-null     float64\n",
      " 4   longitude     27 non-null     float64\n",
      " 5   regiao        27 non-null     object \n",
      "dtypes: float64(2), int64(1), object(3)\n",
      "memory usage: 1.4+ KB\n"
     ]
    }
   ],
   "source": [
    "estados.info() #verificar as infos do df estados"
   ]
  },
  {
   "cell_type": "code",
   "execution_count": 8,
   "id": "e2cb75bb-b7ef-4809-852b-6835a68c1972",
   "metadata": {},
   "outputs": [
    {
     "data": {
      "text/html": [
       "<div>\n",
       "<style scoped>\n",
       "    .dataframe tbody tr th:only-of-type {\n",
       "        vertical-align: middle;\n",
       "    }\n",
       "\n",
       "    .dataframe tbody tr th {\n",
       "        vertical-align: top;\n",
       "    }\n",
       "\n",
       "    .dataframe thead th {\n",
       "        text-align: right;\n",
       "    }\n",
       "</style>\n",
       "<table border=\"1\" class=\"dataframe\">\n",
       "  <thead>\n",
       "    <tr style=\"text-align: right;\">\n",
       "      <th></th>\n",
       "      <th>codigo_uf</th>\n",
       "      <th>uf</th>\n",
       "      <th>nome</th>\n",
       "      <th>latitude</th>\n",
       "      <th>longitude</th>\n",
       "      <th>regiao</th>\n",
       "    </tr>\n",
       "  </thead>\n",
       "  <tbody>\n",
       "    <tr>\n",
       "      <th>0</th>\n",
       "      <td>11</td>\n",
       "      <td>RO</td>\n",
       "      <td>RondÃ´nia</td>\n",
       "      <td>-10.83</td>\n",
       "      <td>-63.34</td>\n",
       "      <td>Norte</td>\n",
       "    </tr>\n",
       "    <tr>\n",
       "      <th>1</th>\n",
       "      <td>12</td>\n",
       "      <td>AC</td>\n",
       "      <td>Acre</td>\n",
       "      <td>-8.77</td>\n",
       "      <td>-70.55</td>\n",
       "      <td>Norte</td>\n",
       "    </tr>\n",
       "    <tr>\n",
       "      <th>2</th>\n",
       "      <td>13</td>\n",
       "      <td>AM</td>\n",
       "      <td>Amazonas</td>\n",
       "      <td>-3.47</td>\n",
       "      <td>-65.10</td>\n",
       "      <td>Norte</td>\n",
       "    </tr>\n",
       "    <tr>\n",
       "      <th>3</th>\n",
       "      <td>14</td>\n",
       "      <td>RR</td>\n",
       "      <td>Roraima</td>\n",
       "      <td>1.99</td>\n",
       "      <td>-61.33</td>\n",
       "      <td>Norte</td>\n",
       "    </tr>\n",
       "    <tr>\n",
       "      <th>4</th>\n",
       "      <td>15</td>\n",
       "      <td>PA</td>\n",
       "      <td>ParÃ¡</td>\n",
       "      <td>-3.79</td>\n",
       "      <td>-52.48</td>\n",
       "      <td>Norte</td>\n",
       "    </tr>\n",
       "  </tbody>\n",
       "</table>\n",
       "</div>"
      ],
      "text/plain": [
       "   codigo_uf  uf       nome  latitude  longitude regiao\n",
       "0         11  RO  RondÃ´nia    -10.83     -63.34  Norte\n",
       "1         12  AC       Acre     -8.77     -70.55  Norte\n",
       "2         13  AM   Amazonas     -3.47     -65.10  Norte\n",
       "3         14  RR    Roraima      1.99     -61.33  Norte\n",
       "4         15  PA      ParÃ¡     -3.79     -52.48  Norte"
      ]
     },
     "execution_count": 8,
     "metadata": {},
     "output_type": "execute_result"
    }
   ],
   "source": [
    "estados = estados.rename(columns={'ï»¿codigo_uf': 'codigo_uf'}) #renomear a coluna código uf\n",
    "estados.head()"
   ]
  },
  {
   "cell_type": "code",
   "execution_count": 9,
   "id": "fbfe59bc-7348-44ae-9754-b0946b3c27a4",
   "metadata": {},
   "outputs": [
    {
     "data": {
      "text/html": [
       "<div>\n",
       "<style scoped>\n",
       "    .dataframe tbody tr th:only-of-type {\n",
       "        vertical-align: middle;\n",
       "    }\n",
       "\n",
       "    .dataframe tbody tr th {\n",
       "        vertical-align: top;\n",
       "    }\n",
       "\n",
       "    .dataframe thead th {\n",
       "        text-align: right;\n",
       "    }\n",
       "</style>\n",
       "<table border=\"1\" class=\"dataframe\">\n",
       "  <thead>\n",
       "    <tr style=\"text-align: right;\">\n",
       "      <th></th>\n",
       "      <th>codigo_uf</th>\n",
       "      <th>uf</th>\n",
       "      <th>latitude</th>\n",
       "      <th>longitude</th>\n",
       "      <th>regiao</th>\n",
       "    </tr>\n",
       "  </thead>\n",
       "  <tbody>\n",
       "    <tr>\n",
       "      <th>0</th>\n",
       "      <td>11</td>\n",
       "      <td>RO</td>\n",
       "      <td>-10.83</td>\n",
       "      <td>-63.34</td>\n",
       "      <td>Norte</td>\n",
       "    </tr>\n",
       "    <tr>\n",
       "      <th>1</th>\n",
       "      <td>12</td>\n",
       "      <td>AC</td>\n",
       "      <td>-8.77</td>\n",
       "      <td>-70.55</td>\n",
       "      <td>Norte</td>\n",
       "    </tr>\n",
       "    <tr>\n",
       "      <th>2</th>\n",
       "      <td>13</td>\n",
       "      <td>AM</td>\n",
       "      <td>-3.47</td>\n",
       "      <td>-65.10</td>\n",
       "      <td>Norte</td>\n",
       "    </tr>\n",
       "    <tr>\n",
       "      <th>3</th>\n",
       "      <td>14</td>\n",
       "      <td>RR</td>\n",
       "      <td>1.99</td>\n",
       "      <td>-61.33</td>\n",
       "      <td>Norte</td>\n",
       "    </tr>\n",
       "    <tr>\n",
       "      <th>4</th>\n",
       "      <td>15</td>\n",
       "      <td>PA</td>\n",
       "      <td>-3.79</td>\n",
       "      <td>-52.48</td>\n",
       "      <td>Norte</td>\n",
       "    </tr>\n",
       "  </tbody>\n",
       "</table>\n",
       "</div>"
      ],
      "text/plain": [
       "   codigo_uf  uf  latitude  longitude regiao\n",
       "0         11  RO    -10.83     -63.34  Norte\n",
       "1         12  AC     -8.77     -70.55  Norte\n",
       "2         13  AM     -3.47     -65.10  Norte\n",
       "3         14  RR      1.99     -61.33  Norte\n",
       "4         15  PA     -3.79     -52.48  Norte"
      ]
     },
     "execution_count": 9,
     "metadata": {},
     "output_type": "execute_result"
    }
   ],
   "source": [
    "estados.drop('nome', axis=1, inplace=True) #retirar a coluna nome\n",
    "estados.head()"
   ]
  },
  {
   "cell_type": "markdown",
   "id": "207552ce-312d-4c6f-8af0-788c70833295",
   "metadata": {},
   "source": [
    "**Fazer um merge dos dfs: estados e tec_2023_5g_por_estado**"
   ]
  },
  {
   "cell_type": "code",
   "execution_count": 10,
   "id": "fc11ffb6-2e2c-4bc6-b517-41b7575b91b5",
   "metadata": {},
   "outputs": [
    {
     "data": {
      "text/html": [
       "<div>\n",
       "<style scoped>\n",
       "    .dataframe tbody tr th:only-of-type {\n",
       "        vertical-align: middle;\n",
       "    }\n",
       "\n",
       "    .dataframe tbody tr th {\n",
       "        vertical-align: top;\n",
       "    }\n",
       "\n",
       "    .dataframe thead th {\n",
       "        text-align: right;\n",
       "    }\n",
       "</style>\n",
       "<table border=\"1\" class=\"dataframe\">\n",
       "  <thead>\n",
       "    <tr style=\"text-align: right;\">\n",
       "      <th></th>\n",
       "      <th>codigo_uf</th>\n",
       "      <th>uf</th>\n",
       "      <th>latitude</th>\n",
       "      <th>longitude</th>\n",
       "      <th>regiao</th>\n",
       "      <th>media_ano</th>\n",
       "      <th>percentual</th>\n",
       "      <th>ano</th>\n",
       "    </tr>\n",
       "  </thead>\n",
       "  <tbody>\n",
       "    <tr>\n",
       "      <th>0</th>\n",
       "      <td>11</td>\n",
       "      <td>RO</td>\n",
       "      <td>-10.83</td>\n",
       "      <td>-63.34</td>\n",
       "      <td>Norte</td>\n",
       "      <td>73255,13</td>\n",
       "      <td>0,74</td>\n",
       "      <td>2023</td>\n",
       "    </tr>\n",
       "    <tr>\n",
       "      <th>1</th>\n",
       "      <td>12</td>\n",
       "      <td>AC</td>\n",
       "      <td>-8.77</td>\n",
       "      <td>-70.55</td>\n",
       "      <td>Norte</td>\n",
       "      <td>42571,67</td>\n",
       "      <td>0,43</td>\n",
       "      <td>2023</td>\n",
       "    </tr>\n",
       "    <tr>\n",
       "      <th>2</th>\n",
       "      <td>13</td>\n",
       "      <td>AM</td>\n",
       "      <td>-3.47</td>\n",
       "      <td>-65.10</td>\n",
       "      <td>Norte</td>\n",
       "      <td>228856,38</td>\n",
       "      <td>2,3</td>\n",
       "      <td>2023</td>\n",
       "    </tr>\n",
       "    <tr>\n",
       "      <th>3</th>\n",
       "      <td>14</td>\n",
       "      <td>RR</td>\n",
       "      <td>1.99</td>\n",
       "      <td>-61.33</td>\n",
       "      <td>Norte</td>\n",
       "      <td>49643,86</td>\n",
       "      <td>0,5</td>\n",
       "      <td>2023</td>\n",
       "    </tr>\n",
       "    <tr>\n",
       "      <th>4</th>\n",
       "      <td>15</td>\n",
       "      <td>PA</td>\n",
       "      <td>-3.79</td>\n",
       "      <td>-52.48</td>\n",
       "      <td>Norte</td>\n",
       "      <td>224600,41</td>\n",
       "      <td>2,26</td>\n",
       "      <td>2023</td>\n",
       "    </tr>\n",
       "  </tbody>\n",
       "</table>\n",
       "</div>"
      ],
      "text/plain": [
       "   codigo_uf  uf  latitude  longitude regiao  media_ano percentual   ano\n",
       "0         11  RO    -10.83     -63.34  Norte   73255,13       0,74  2023\n",
       "1         12  AC     -8.77     -70.55  Norte   42571,67       0,43  2023\n",
       "2         13  AM     -3.47     -65.10  Norte  228856,38        2,3  2023\n",
       "3         14  RR      1.99     -61.33  Norte   49643,86        0,5  2023\n",
       "4         15  PA     -3.79     -52.48  Norte  224600,41       2,26  2023"
      ]
     },
     "execution_count": 10,
     "metadata": {},
     "output_type": "execute_result"
    }
   ],
   "source": [
    "estados_5g = pd.merge(estados, tec_2023_5g_por_estado, on='uf')\n",
    "estados_5g.head()"
   ]
  },
  {
   "cell_type": "code",
   "execution_count": null,
   "id": "5b648592-b758-4552-a4ce-01be310abc5b",
   "metadata": {},
   "outputs": [],
   "source": []
  },
  {
   "cell_type": "markdown",
   "id": "68cda444-e7c3-47aa-a903-a187a541915f",
   "metadata": {},
   "source": [
    "**Capturar os valores de latitude, longitude e UFs que serão colocados no mapa**"
   ]
  },
  {
   "cell_type": "code",
   "execution_count": 11,
   "id": "55469daf-c689-4a3b-979d-023c4781ec4e",
   "metadata": {},
   "outputs": [
    {
     "data": {
      "text/plain": [
       "array([-10.83,  -8.77,  -3.47,   1.99,  -3.79,   1.41,  -9.46,  -5.42,\n",
       "        -6.6 ,  -5.2 ,  -5.81,  -7.28,  -8.38,  -9.62, -10.57, -13.29,\n",
       "       -18.1 , -19.19, -22.25, -22.19, -24.89, -27.45, -30.17, -20.51,\n",
       "       -12.64, -15.98, -15.83])"
      ]
     },
     "execution_count": 11,
     "metadata": {},
     "output_type": "execute_result"
    }
   ],
   "source": [
    "latitude = (estados_5g['latitude'])\n",
    "latitude.values"
   ]
  },
  {
   "cell_type": "code",
   "execution_count": 12,
   "id": "40977e70-1e79-44df-9eac-3478c395370d",
   "metadata": {},
   "outputs": [
    {
     "data": {
      "text/plain": [
       "array([-63.34, -70.55, -65.1 , -61.33, -52.48, -51.77, -48.26, -45.44,\n",
       "       -42.28, -39.53, -36.59, -36.72, -37.86, -36.82, -37.45, -41.71,\n",
       "       -44.38, -40.34, -42.66, -48.79, -51.55, -50.95, -53.5 , -54.54,\n",
       "       -55.42, -49.86, -47.86])"
      ]
     },
     "execution_count": 12,
     "metadata": {},
     "output_type": "execute_result"
    }
   ],
   "source": [
    "longitude = (estados_5g['longitude'])\n",
    "longitude.values"
   ]
  },
  {
   "cell_type": "code",
   "execution_count": 13,
   "id": "132dab59-e15f-49aa-baa6-6ceae4b38e68",
   "metadata": {},
   "outputs": [
    {
     "data": {
      "text/plain": [
       "array(['RO', 'AC', 'AM', 'RR', 'PA', 'AP', 'TO', 'MA', 'PI', 'CE', 'RN',\n",
       "       'PB', 'PE', 'AL', 'SE', 'BA', 'MG', 'ES', 'RJ', 'SP', 'PR', 'SC',\n",
       "       'RS', 'MS', 'MT', 'GO', 'DF'], dtype=object)"
      ]
     },
     "execution_count": 13,
     "metadata": {},
     "output_type": "execute_result"
    }
   ],
   "source": [
    "uf = (estados_5g['uf'])\n",
    "uf.values"
   ]
  },
  {
   "cell_type": "code",
   "execution_count": 14,
   "id": "7b82fc93-a081-44bd-9e96-7c6c9cbe516a",
   "metadata": {},
   "outputs": [
    {
     "data": {
      "text/plain": [
       "array(['0,74', '0,43', '2,3', '0,5', '2,26', '0,44', '0,61', '1,16',\n",
       "       '0,78', '3,03', '1,06', '1,13', '2,89', '1,0', '0,74', '3,27',\n",
       "       '5,89', '1,79', '13,44', '35,08', '4,78', '2,29', '3,17', '1,4',\n",
       "       '1,34', '3,83', '4,68'], dtype=object)"
      ]
     },
     "execution_count": 14,
     "metadata": {},
     "output_type": "execute_result"
    }
   ],
   "source": [
    "uf = (estados_5g['percentual'])\n",
    "uf.values"
   ]
  },
  {
   "cell_type": "code",
   "execution_count": 15,
   "id": "1f9f65f1-554d-4d69-9c1c-975238f2ddf1",
   "metadata": {},
   "outputs": [
    {
     "data": {
      "text/plain": [
       "dtype('O')"
      ]
     },
     "execution_count": 15,
     "metadata": {},
     "output_type": "execute_result"
    }
   ],
   "source": [
    "estados_5g['percentual'].dtype"
   ]
  },
  {
   "cell_type": "code",
   "execution_count": 16,
   "id": "edb1c5ae-48c4-44b0-bf19-3494f5134649",
   "metadata": {},
   "outputs": [],
   "source": [
    "#transformando o percentual que está como type object para tipo float\n",
    "estados_5g['percentual'] = estados_5g['percentual'].str.replace(',', '.', regex=True).astype(float)\n"
   ]
  },
  {
   "cell_type": "code",
   "execution_count": 17,
   "id": "15aa9dd7-7bba-4730-ad85-7d6e8a4bf586",
   "metadata": {},
   "outputs": [
    {
     "data": {
      "text/plain": [
       "dtype('float64')"
      ]
     },
     "execution_count": 17,
     "metadata": {},
     "output_type": "execute_result"
    }
   ],
   "source": [
    "estados_5g['percentual'].dtype"
   ]
  },
  {
   "cell_type": "code",
   "execution_count": 18,
   "id": "aeb7ac50-104c-463c-8e90-b2f5a378a1a0",
   "metadata": {},
   "outputs": [
    {
     "data": {
      "text/plain": [
       "array([ 0.74,  0.43,  2.3 ,  0.5 ,  2.26,  0.44,  0.61,  1.16,  0.78,\n",
       "        3.03,  1.06,  1.13,  2.89,  1.  ,  0.74,  3.27,  5.89,  1.79,\n",
       "       13.44, 35.08,  4.78,  2.29,  3.17,  1.4 ,  1.34,  3.83,  4.68])"
      ]
     },
     "execution_count": 18,
     "metadata": {},
     "output_type": "execute_result"
    }
   ],
   "source": [
    "\n",
    "estados_5g['percentual'].values\n"
   ]
  },
  {
   "cell_type": "markdown",
   "id": "51105412-df76-4a7a-a582-6d99b94e2102",
   "metadata": {},
   "source": [
    "**Gerar o MAPA**"
   ]
  },
  {
   "cell_type": "code",
   "execution_count": 19,
   "id": "3cf79d35-68da-4b2f-a211-80fba8fb2b1c",
   "metadata": {},
   "outputs": [],
   "source": [
    "import folium\n",
    "\n",
    "# Dados \n",
    "data = {\n",
    "    'latitude': [-10.83, -8.77, -3.47, 1.99, -3.79, 1.41, -9.46, -5.42, -6.6, -5.2, -5.81, -7.28, -8.38, -9.62, -10.57, -13.29, -18.1, -19.19, -22.25, -22.19, -24.89, -27.45, -30.17, -20.51, -12.64, -15.98, -15.83],\n",
    "    'longitude': [-63.34, -70.55, -65.1, -61.33, -52.48, -51.77, -48.26, -45.44, -42.28, -39.53, -36.59, -36.72, -37.86, -36.82, -37.45, -41.71, -44.38, -40.34, -42.66, -48.79, -51.55, -50.95, -53.5, -54.54, -55.42, -49.86, -47.86],\n",
    "    'uf': ['RO', 'AC', 'AM', 'RR', 'PA', 'AP', 'TO', 'MA', 'PI', 'CE', 'RN', 'PB', 'PE', 'AL', 'SE', 'BA', 'MG', 'ES', 'RJ', 'SP', 'PR', 'SC', 'RS', 'MS', 'MT', 'GO', 'DF'],\n",
    "    'percentual': [0.74, 0.43, 2.3, 0.5, 2.26, 0.44, 0.61, 1.16, 0.78, 3.03, 1.06, 1.13, 2.89, 1.0, 0.74, 3.27, 5.89, 1.79, 13.44, 35.08, 4.78, 2.29, 3.17, 1.4, 1.34, 3.83, 4.68]\n",
    "}\n",
    "\n",
    "estados_5g = pd.DataFrame(data)\n",
    "\n",
    "# Criar um mapa base\n",
    "#mapa = folium.Map(location=[estados_5g['latitude'].mean(), estados_5g['longitude'].mean()], zoom_start=4)\n",
    "\n",
    "mapa = folium.Map(location=[-10, -55], zoom_start=4) #esse item é para definir área do Brasil, também pode ser usado\n",
    "\n",
    "# Adicionando um título ao mapa\n",
    "\n",
    "title_html = '''\n",
    "             <h3 align=\"center\" style=\"font-size:20px\"><b>Percentual de acesso 5G por UF</b></h3>\n",
    "             '''\n",
    "mapa.get_root().html.add_child(folium.Element(title_html))\n",
    "\n",
    "              \n",
    "# Adicionar marcadores com percentual como texto incorporado\n",
    "for i in range(len(estados_5g)):\n",
    "    uf = estados_5g.loc[i, 'uf']\n",
    "    percentual = estados_5g.loc[i, 'percentual']\n",
    "    html = f\"<div style='font-size: 12pt'>{percentual:.2f}%</div>\"\n",
    "    iframe = folium.IFrame(html, width=50, height=50)\n",
    "    popup = folium.Popup(iframe, max_width=300)\n",
    "    marker = folium.Marker(\n",
    "        location=[estados_5g.loc[i, 'latitude'], estados_5g.loc[i, 'longitude']],\n",
    "        popup=popup,\n",
    "        icon=folium.DivIcon(html=f\"<div style='color:blak'>{uf}</div>\")\n",
    "    )\n",
    "    marker.add_to(mapa)\n",
    "\n",
    "# Adicionando eventos para exibir percentual e alterar a cor quando o cursor passa\n",
    "\n",
    "fg = folium.FeatureGroup(name=\"Estados\")\n",
    "mapa.add_child(fg)\n",
    "for i in range(len(estados_5g)):\n",
    "    uf = estados_5g.loc[i, 'uf']\n",
    "    percentual = estados_5g.loc[i, 'percentual']\n",
    "    iframe = folium.IFrame(html, width=50, height=50)\n",
    "    popup = folium.Popup(iframe, max_width=300)\n",
    "    marker = folium.Marker(\n",
    "        location=[estados_5g.loc[i, 'latitude'], estados_5g.loc[i, 'longitude']],\n",
    "        icon=folium.DivIcon(html=f\"<div style='color: black'>{uf}</div>\")\n",
    "    )\n",
    "    marker.add_to(fg)\n",
    "    fg.add_child(marker)\n",
    "    \n",
    "# Adicionar o pin para cada UF\n",
    "    \n",
    "    folium.Marker(\n",
    "        location=[estados_5g.loc[i, 'latitude'], estados_5g.loc[i, 'longitude']],\n",
    "        tooltip=f\"{uf}: {percentual:.2f}%\",\n",
    "        ).add_to(mapa)\n",
    "\n",
    "# Salvar o mapa como um arquivo HTML\n",
    "mapa.save('mapa_estados_5g_com_tooltip.html')\n"
   ]
  },
  {
   "cell_type": "code",
   "execution_count": 20,
   "id": "4bffdff1-8402-4534-81f0-6f332e645e64",
   "metadata": {},
   "outputs": [
    {
     "data": {
      "text/plain": [
       "True"
      ]
     },
     "execution_count": 20,
     "metadata": {},
     "output_type": "execute_result"
    }
   ],
   "source": [
    "#exportar para webbrouser\n",
    "\n",
    "import webbrowser\n",
    "\n",
    "webbrowser.open('mapa_estados_5g_com_tooltip.html')"
   ]
  },
  {
   "cell_type": "code",
   "execution_count": null,
   "id": "b6f462f0-fbcd-4991-9c40-3c257a993886",
   "metadata": {},
   "outputs": [],
   "source": []
  }
 ],
 "metadata": {
  "kernelspec": {
   "display_name": "Python 3 (ipykernel)",
   "language": "python",
   "name": "python3"
  },
  "language_info": {
   "codemirror_mode": {
    "name": "ipython",
    "version": 3
   },
   "file_extension": ".py",
   "mimetype": "text/x-python",
   "name": "python",
   "nbconvert_exporter": "python",
   "pygments_lexer": "ipython3",
   "version": "3.11.6"
  },
  "widgets": {
   "application/vnd.jupyter.widget-state+json": {
    "state": {},
    "version_major": 2,
    "version_minor": 0
   }
  }
 },
 "nbformat": 4,
 "nbformat_minor": 5
}
