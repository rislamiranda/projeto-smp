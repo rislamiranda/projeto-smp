{
 "cells": [
  {
   "cell_type": "code",
   "execution_count": null,
   "id": "4ca36b19-ba18-41f0-90fa-07d3a92dec67",
   "metadata": {},
   "outputs": [],
   "source": [
    "# Caderno: Beatriz Pierri"
   ]
  },
  {
   "cell_type": "code",
   "execution_count": null,
   "id": "bd802f39-ebae-4215-abad-2b74ae609e77",
   "metadata": {},
   "outputs": [],
   "source": [
    "# pré e pós pago por tecnologia"
   ]
  },
  {
   "cell_type": "code",
   "execution_count": 83,
   "id": "739bc307-ffc8-4522-aa11-1a2c59bf2715",
   "metadata": {},
   "outputs": [],
   "source": [
    "import pandas as pd\n",
    "import plotly.express as px\n",
    "import numpy as np"
   ]
  },
  {
   "cell_type": "code",
   "execution_count": 80,
   "id": "1ca55d00-508a-400f-9390-74f53d15f549",
   "metadata": {},
   "outputs": [],
   "source": [
    "modalidade = pd.read_csv('./tec_2023_modalidade.csv', sep = ';')"
   ]
  },
  {
   "cell_type": "code",
   "execution_count": 82,
   "id": "610473cc-88fb-4aaf-b418-d34043e18bd5",
   "metadata": {},
   "outputs": [
    {
     "data": {
      "text/html": [
       "<div>\n",
       "<style scoped>\n",
       "    .dataframe tbody tr th:only-of-type {\n",
       "        vertical-align: middle;\n",
       "    }\n",
       "\n",
       "    .dataframe tbody tr th {\n",
       "        vertical-align: top;\n",
       "    }\n",
       "\n",
       "    .dataframe thead th {\n",
       "        text-align: right;\n",
       "    }\n",
       "</style>\n",
       "<table border=\"1\" class=\"dataframe\">\n",
       "  <thead>\n",
       "    <tr style=\"text-align: right;\">\n",
       "      <th></th>\n",
       "      <th>Tecnologia Geração</th>\n",
       "      <th>Modalidade de Cobrança</th>\n",
       "      <th>media_ano</th>\n",
       "      <th>percentual</th>\n",
       "      <th>ano</th>\n",
       "    </tr>\n",
       "  </thead>\n",
       "  <tbody>\n",
       "    <tr>\n",
       "      <th>0</th>\n",
       "      <td>2G</td>\n",
       "      <td>Pré-pago</td>\n",
       "      <td>6092339.77</td>\n",
       "      <td>27.02</td>\n",
       "      <td>2023</td>\n",
       "    </tr>\n",
       "    <tr>\n",
       "      <th>1</th>\n",
       "      <td>2G</td>\n",
       "      <td>Pós-pago</td>\n",
       "      <td>16457101.39</td>\n",
       "      <td>72.98</td>\n",
       "      <td>2023</td>\n",
       "    </tr>\n",
       "    <tr>\n",
       "      <th>2</th>\n",
       "      <td>3G</td>\n",
       "      <td>Pré-pago</td>\n",
       "      <td>4667046.26</td>\n",
       "      <td>20.91</td>\n",
       "      <td>2023</td>\n",
       "    </tr>\n",
       "    <tr>\n",
       "      <th>3</th>\n",
       "      <td>3G</td>\n",
       "      <td>Pós-pago</td>\n",
       "      <td>17655565.10</td>\n",
       "      <td>79.09</td>\n",
       "      <td>2023</td>\n",
       "    </tr>\n",
       "    <tr>\n",
       "      <th>4</th>\n",
       "      <td>4G</td>\n",
       "      <td>Pré-pago</td>\n",
       "      <td>96746504.10</td>\n",
       "      <td>49.20</td>\n",
       "      <td>2023</td>\n",
       "    </tr>\n",
       "  </tbody>\n",
       "</table>\n",
       "</div>"
      ],
      "text/plain": [
       "  Tecnologia Geração Modalidade de Cobrança    media_ano  percentual   ano\n",
       "0                 2G               Pré-pago   6092339.77       27.02  2023\n",
       "1                 2G               Pós-pago  16457101.39       72.98  2023\n",
       "2                 3G               Pré-pago   4667046.26       20.91  2023\n",
       "3                 3G               Pós-pago  17655565.10       79.09  2023\n",
       "4                 4G               Pré-pago  96746504.10       49.20  2023"
      ]
     },
     "execution_count": 82,
     "metadata": {},
     "output_type": "execute_result"
    }
   ],
   "source": [
    "modalidade.head(5)"
   ]
  },
  {
   "cell_type": "code",
   "execution_count": 81,
   "id": "fb504409-cd02-4ae7-8ba7-db31d2bc1ae2",
   "metadata": {},
   "outputs": [],
   "source": [
    "modalidade['percentual'] = modalidade['percentual'].str.replace(',', '.', regex=True).astype(float)\n",
    "modalidade['media_ano'] = modalidade['media_ano'].str.replace(',', '.', regex=True).astype(float)"
   ]
  },
  {
   "cell_type": "code",
   "execution_count": 49,
   "id": "d08b8bbc-e668-4336-92bb-c3cf0afb9006",
   "metadata": {},
   "outputs": [
    {
     "data": {
      "text/html": [
       "<div>\n",
       "<style scoped>\n",
       "    .dataframe tbody tr th:only-of-type {\n",
       "        vertical-align: middle;\n",
       "    }\n",
       "\n",
       "    .dataframe tbody tr th {\n",
       "        vertical-align: top;\n",
       "    }\n",
       "\n",
       "    .dataframe thead th {\n",
       "        text-align: right;\n",
       "    }\n",
       "</style>\n",
       "<table border=\"1\" class=\"dataframe\">\n",
       "  <thead>\n",
       "    <tr style=\"text-align: right;\">\n",
       "      <th></th>\n",
       "      <th>Tecnologia Geração</th>\n",
       "      <th>Modalidade de Cobrança</th>\n",
       "      <th>media_ano</th>\n",
       "      <th>percentual</th>\n",
       "      <th>ano</th>\n",
       "    </tr>\n",
       "  </thead>\n",
       "  <tbody>\n",
       "    <tr>\n",
       "      <th>0</th>\n",
       "      <td>2G</td>\n",
       "      <td>Pré-pago</td>\n",
       "      <td>6092339.77</td>\n",
       "      <td>27.02</td>\n",
       "      <td>2023</td>\n",
       "    </tr>\n",
       "    <tr>\n",
       "      <th>1</th>\n",
       "      <td>2G</td>\n",
       "      <td>Pós-pago</td>\n",
       "      <td>16457101.39</td>\n",
       "      <td>72.98</td>\n",
       "      <td>2023</td>\n",
       "    </tr>\n",
       "    <tr>\n",
       "      <th>2</th>\n",
       "      <td>3G</td>\n",
       "      <td>Pré-pago</td>\n",
       "      <td>4667046.26</td>\n",
       "      <td>20.91</td>\n",
       "      <td>2023</td>\n",
       "    </tr>\n",
       "    <tr>\n",
       "      <th>3</th>\n",
       "      <td>3G</td>\n",
       "      <td>Pós-pago</td>\n",
       "      <td>17655565.10</td>\n",
       "      <td>79.09</td>\n",
       "      <td>2023</td>\n",
       "    </tr>\n",
       "    <tr>\n",
       "      <th>4</th>\n",
       "      <td>4G</td>\n",
       "      <td>Pré-pago</td>\n",
       "      <td>96746504.10</td>\n",
       "      <td>49.20</td>\n",
       "      <td>2023</td>\n",
       "    </tr>\n",
       "    <tr>\n",
       "      <th>5</th>\n",
       "      <td>4G</td>\n",
       "      <td>Pós-pago</td>\n",
       "      <td>99888082.40</td>\n",
       "      <td>50.80</td>\n",
       "      <td>2023</td>\n",
       "    </tr>\n",
       "    <tr>\n",
       "      <th>6</th>\n",
       "      <td>5G</td>\n",
       "      <td>Pré-pago</td>\n",
       "      <td>2204584.58</td>\n",
       "      <td>22.16</td>\n",
       "      <td>2023</td>\n",
       "    </tr>\n",
       "    <tr>\n",
       "      <th>7</th>\n",
       "      <td>5G</td>\n",
       "      <td>Pós-pago</td>\n",
       "      <td>7745262.81</td>\n",
       "      <td>77.84</td>\n",
       "      <td>2023</td>\n",
       "    </tr>\n",
       "  </tbody>\n",
       "</table>\n",
       "</div>"
      ],
      "text/plain": [
       "  Tecnologia Geração Modalidade de Cobrança    media_ano  percentual   ano\n",
       "0                 2G               Pré-pago   6092339.77       27.02  2023\n",
       "1                 2G               Pós-pago  16457101.39       72.98  2023\n",
       "2                 3G               Pré-pago   4667046.26       20.91  2023\n",
       "3                 3G               Pós-pago  17655565.10       79.09  2023\n",
       "4                 4G               Pré-pago  96746504.10       49.20  2023\n",
       "5                 4G               Pós-pago  99888082.40       50.80  2023\n",
       "6                 5G               Pré-pago   2204584.58       22.16  2023\n",
       "7                 5G               Pós-pago   7745262.81       77.84  2023"
      ]
     },
     "execution_count": 49,
     "metadata": {},
     "output_type": "execute_result"
    }
   ],
   "source": [
    "modalidade.head(10)"
   ]
  },
  {
   "cell_type": "code",
   "execution_count": 85,
   "id": "64d7dfb7-112f-43f8-be0c-a1bef59f76e9",
   "metadata": {},
   "outputs": [
    {
     "data": {
      "application/vnd.plotly.v1+json": {
       "config": {
        "plotlyServerURL": "https://plot.ly"
       },
       "data": [
        {
         "branchvalues": "total",
         "customdata": [
          [
           4667046.26,
           20.91
          ],
          [
           2204584.58,
           22.16
          ],
          [
           6092339.77,
           27.02
          ],
          [
           96746504.1,
           49.2
          ],
          [
           99888082.4,
           50.8
          ],
          [
           16457101.39,
           72.98
          ],
          [
           7745262.81,
           77.84
          ],
          [
           17655565.1,
           79.09
          ],
          [
           6092339.77,
           27.02
          ],
          [
           4667046.26,
           20.91
          ],
          [
           96746504.1,
           49.2
          ],
          [
           2204584.58,
           22.16
          ],
          [
           16457101.39,
           72.98
          ],
          [
           17655565.1,
           79.09
          ],
          [
           99888082.4,
           50.8
          ],
          [
           7745262.81,
           77.84
          ],
          [
           22549441.16,
           60.56266629126521
          ],
          [
           22322611.36,
           66.92615648600353
          ],
          [
           196634586.5,
           50.01278138645258
          ],
          [
           9949847.39,
           65.50299978251223
          ],
          [
           251456486.41,
           53.073231439281216
          ]
         ],
         "domain": {
          "x": [
           0,
           1
          ],
          "y": [
           0,
           1
          ]
         },
         "hovertemplate": "labels=%{label}<br>media_ano=%{customdata[0]}<br>parent=%{parent}<br>id=%{id}<br>percentual=%{color}<extra></extra>",
         "ids": [
          "Tecnologia de Geração de Telefonia Móvel - Ano 2023/3G/Pré-pago/20.91",
          "Tecnologia de Geração de Telefonia Móvel - Ano 2023/5G/Pré-pago/22.16",
          "Tecnologia de Geração de Telefonia Móvel - Ano 2023/2G/Pré-pago/27.02",
          "Tecnologia de Geração de Telefonia Móvel - Ano 2023/4G/Pré-pago/49.2",
          "Tecnologia de Geração de Telefonia Móvel - Ano 2023/4G/Pós-pago/50.8",
          "Tecnologia de Geração de Telefonia Móvel - Ano 2023/2G/Pós-pago/72.98",
          "Tecnologia de Geração de Telefonia Móvel - Ano 2023/5G/Pós-pago/77.84",
          "Tecnologia de Geração de Telefonia Móvel - Ano 2023/3G/Pós-pago/79.09",
          "Tecnologia de Geração de Telefonia Móvel - Ano 2023/2G/Pré-pago",
          "Tecnologia de Geração de Telefonia Móvel - Ano 2023/3G/Pré-pago",
          "Tecnologia de Geração de Telefonia Móvel - Ano 2023/4G/Pré-pago",
          "Tecnologia de Geração de Telefonia Móvel - Ano 2023/5G/Pré-pago",
          "Tecnologia de Geração de Telefonia Móvel - Ano 2023/2G/Pós-pago",
          "Tecnologia de Geração de Telefonia Móvel - Ano 2023/3G/Pós-pago",
          "Tecnologia de Geração de Telefonia Móvel - Ano 2023/4G/Pós-pago",
          "Tecnologia de Geração de Telefonia Móvel - Ano 2023/5G/Pós-pago",
          "Tecnologia de Geração de Telefonia Móvel - Ano 2023/2G",
          "Tecnologia de Geração de Telefonia Móvel - Ano 2023/3G",
          "Tecnologia de Geração de Telefonia Móvel - Ano 2023/4G",
          "Tecnologia de Geração de Telefonia Móvel - Ano 2023/5G",
          "Tecnologia de Geração de Telefonia Móvel - Ano 2023"
         ],
         "labels": [
          "20.91",
          "22.16",
          "27.02",
          "49.2",
          "50.8",
          "72.98",
          "77.84",
          "79.09",
          "Pré-pago",
          "Pré-pago",
          "Pré-pago",
          "Pré-pago",
          "Pós-pago",
          "Pós-pago",
          "Pós-pago",
          "Pós-pago",
          "2G",
          "3G",
          "4G",
          "5G",
          "Tecnologia de Geração de Telefonia Móvel - Ano 2023"
         ],
         "marker": {
          "coloraxis": "coloraxis",
          "colors": [
           20.91,
           22.16,
           27.02,
           49.2,
           50.8,
           72.98,
           77.84,
           79.09,
           27.02,
           20.91,
           49.2,
           22.16,
           72.98,
           79.09,
           50.8,
           77.84,
           60.56266629126521,
           66.92615648600353,
           50.01278138645258,
           65.50299978251223,
           53.073231439281216
          ]
         },
         "name": "",
         "parents": [
          "Tecnologia de Geração de Telefonia Móvel - Ano 2023/3G/Pré-pago",
          "Tecnologia de Geração de Telefonia Móvel - Ano 2023/5G/Pré-pago",
          "Tecnologia de Geração de Telefonia Móvel - Ano 2023/2G/Pré-pago",
          "Tecnologia de Geração de Telefonia Móvel - Ano 2023/4G/Pré-pago",
          "Tecnologia de Geração de Telefonia Móvel - Ano 2023/4G/Pós-pago",
          "Tecnologia de Geração de Telefonia Móvel - Ano 2023/2G/Pós-pago",
          "Tecnologia de Geração de Telefonia Móvel - Ano 2023/5G/Pós-pago",
          "Tecnologia de Geração de Telefonia Móvel - Ano 2023/3G/Pós-pago",
          "Tecnologia de Geração de Telefonia Móvel - Ano 2023/2G",
          "Tecnologia de Geração de Telefonia Móvel - Ano 2023/3G",
          "Tecnologia de Geração de Telefonia Móvel - Ano 2023/4G",
          "Tecnologia de Geração de Telefonia Móvel - Ano 2023/5G",
          "Tecnologia de Geração de Telefonia Móvel - Ano 2023/2G",
          "Tecnologia de Geração de Telefonia Móvel - Ano 2023/3G",
          "Tecnologia de Geração de Telefonia Móvel - Ano 2023/4G",
          "Tecnologia de Geração de Telefonia Móvel - Ano 2023/5G",
          "Tecnologia de Geração de Telefonia Móvel - Ano 2023",
          "Tecnologia de Geração de Telefonia Móvel - Ano 2023",
          "Tecnologia de Geração de Telefonia Móvel - Ano 2023",
          "Tecnologia de Geração de Telefonia Móvel - Ano 2023",
          ""
         ],
         "root": {
          "color": "lightgrey"
         },
         "type": "treemap",
         "values": [
          4667046.26,
          2204584.58,
          6092339.77,
          96746504.1,
          99888082.4,
          16457101.39,
          7745262.81,
          17655565.1,
          6092339.77,
          4667046.26,
          96746504.1,
          2204584.58,
          16457101.39,
          17655565.1,
          99888082.4,
          7745262.81,
          22549441.16,
          22322611.36,
          196634586.5,
          9949847.39,
          251456486.41
         ]
        }
       ],
       "layout": {
        "autosize": true,
        "coloraxis": {
         "colorbar": {
          "title": {
           "text": "percentual"
          }
         },
         "colorscale": [
          [
           0,
           "rgb(255,255,217)"
          ],
          [
           0.125,
           "rgb(237,248,177)"
          ],
          [
           0.25,
           "rgb(199,233,180)"
          ],
          [
           0.375,
           "rgb(127,205,187)"
          ],
          [
           0.5,
           "rgb(65,182,196)"
          ],
          [
           0.625,
           "rgb(29,145,192)"
          ],
          [
           0.75,
           "rgb(34,94,168)"
          ],
          [
           0.875,
           "rgb(37,52,148)"
          ],
          [
           1,
           "rgb(8,29,88)"
          ]
         ]
        },
        "legend": {
         "tracegroupgap": 0
        },
        "margin": {
         "b": 25,
         "l": 25,
         "r": 25,
         "t": 50
        },
        "template": {
         "data": {
          "bar": [
           {
            "error_x": {
             "color": "#2a3f5f"
            },
            "error_y": {
             "color": "#2a3f5f"
            },
            "marker": {
             "line": {
              "color": "#E5ECF6",
              "width": 0.5
             },
             "pattern": {
              "fillmode": "overlay",
              "size": 10,
              "solidity": 0.2
             }
            },
            "type": "bar"
           }
          ],
          "barpolar": [
           {
            "marker": {
             "line": {
              "color": "#E5ECF6",
              "width": 0.5
             },
             "pattern": {
              "fillmode": "overlay",
              "size": 10,
              "solidity": 0.2
             }
            },
            "type": "barpolar"
           }
          ],
          "carpet": [
           {
            "aaxis": {
             "endlinecolor": "#2a3f5f",
             "gridcolor": "white",
             "linecolor": "white",
             "minorgridcolor": "white",
             "startlinecolor": "#2a3f5f"
            },
            "baxis": {
             "endlinecolor": "#2a3f5f",
             "gridcolor": "white",
             "linecolor": "white",
             "minorgridcolor": "white",
             "startlinecolor": "#2a3f5f"
            },
            "type": "carpet"
           }
          ],
          "choropleth": [
           {
            "colorbar": {
             "outlinewidth": 0,
             "ticks": ""
            },
            "type": "choropleth"
           }
          ],
          "contour": [
           {
            "colorbar": {
             "outlinewidth": 0,
             "ticks": ""
            },
            "colorscale": [
             [
              0,
              "#0d0887"
             ],
             [
              0.1111111111111111,
              "#46039f"
             ],
             [
              0.2222222222222222,
              "#7201a8"
             ],
             [
              0.3333333333333333,
              "#9c179e"
             ],
             [
              0.4444444444444444,
              "#bd3786"
             ],
             [
              0.5555555555555556,
              "#d8576b"
             ],
             [
              0.6666666666666666,
              "#ed7953"
             ],
             [
              0.7777777777777778,
              "#fb9f3a"
             ],
             [
              0.8888888888888888,
              "#fdca26"
             ],
             [
              1,
              "#f0f921"
             ]
            ],
            "type": "contour"
           }
          ],
          "contourcarpet": [
           {
            "colorbar": {
             "outlinewidth": 0,
             "ticks": ""
            },
            "type": "contourcarpet"
           }
          ],
          "heatmap": [
           {
            "colorbar": {
             "outlinewidth": 0,
             "ticks": ""
            },
            "colorscale": [
             [
              0,
              "#0d0887"
             ],
             [
              0.1111111111111111,
              "#46039f"
             ],
             [
              0.2222222222222222,
              "#7201a8"
             ],
             [
              0.3333333333333333,
              "#9c179e"
             ],
             [
              0.4444444444444444,
              "#bd3786"
             ],
             [
              0.5555555555555556,
              "#d8576b"
             ],
             [
              0.6666666666666666,
              "#ed7953"
             ],
             [
              0.7777777777777778,
              "#fb9f3a"
             ],
             [
              0.8888888888888888,
              "#fdca26"
             ],
             [
              1,
              "#f0f921"
             ]
            ],
            "type": "heatmap"
           }
          ],
          "heatmapgl": [
           {
            "colorbar": {
             "outlinewidth": 0,
             "ticks": ""
            },
            "colorscale": [
             [
              0,
              "#0d0887"
             ],
             [
              0.1111111111111111,
              "#46039f"
             ],
             [
              0.2222222222222222,
              "#7201a8"
             ],
             [
              0.3333333333333333,
              "#9c179e"
             ],
             [
              0.4444444444444444,
              "#bd3786"
             ],
             [
              0.5555555555555556,
              "#d8576b"
             ],
             [
              0.6666666666666666,
              "#ed7953"
             ],
             [
              0.7777777777777778,
              "#fb9f3a"
             ],
             [
              0.8888888888888888,
              "#fdca26"
             ],
             [
              1,
              "#f0f921"
             ]
            ],
            "type": "heatmapgl"
           }
          ],
          "histogram": [
           {
            "marker": {
             "pattern": {
              "fillmode": "overlay",
              "size": 10,
              "solidity": 0.2
             }
            },
            "type": "histogram"
           }
          ],
          "histogram2d": [
           {
            "colorbar": {
             "outlinewidth": 0,
             "ticks": ""
            },
            "colorscale": [
             [
              0,
              "#0d0887"
             ],
             [
              0.1111111111111111,
              "#46039f"
             ],
             [
              0.2222222222222222,
              "#7201a8"
             ],
             [
              0.3333333333333333,
              "#9c179e"
             ],
             [
              0.4444444444444444,
              "#bd3786"
             ],
             [
              0.5555555555555556,
              "#d8576b"
             ],
             [
              0.6666666666666666,
              "#ed7953"
             ],
             [
              0.7777777777777778,
              "#fb9f3a"
             ],
             [
              0.8888888888888888,
              "#fdca26"
             ],
             [
              1,
              "#f0f921"
             ]
            ],
            "type": "histogram2d"
           }
          ],
          "histogram2dcontour": [
           {
            "colorbar": {
             "outlinewidth": 0,
             "ticks": ""
            },
            "colorscale": [
             [
              0,
              "#0d0887"
             ],
             [
              0.1111111111111111,
              "#46039f"
             ],
             [
              0.2222222222222222,
              "#7201a8"
             ],
             [
              0.3333333333333333,
              "#9c179e"
             ],
             [
              0.4444444444444444,
              "#bd3786"
             ],
             [
              0.5555555555555556,
              "#d8576b"
             ],
             [
              0.6666666666666666,
              "#ed7953"
             ],
             [
              0.7777777777777778,
              "#fb9f3a"
             ],
             [
              0.8888888888888888,
              "#fdca26"
             ],
             [
              1,
              "#f0f921"
             ]
            ],
            "type": "histogram2dcontour"
           }
          ],
          "mesh3d": [
           {
            "colorbar": {
             "outlinewidth": 0,
             "ticks": ""
            },
            "type": "mesh3d"
           }
          ],
          "parcoords": [
           {
            "line": {
             "colorbar": {
              "outlinewidth": 0,
              "ticks": ""
             }
            },
            "type": "parcoords"
           }
          ],
          "pie": [
           {
            "automargin": true,
            "type": "pie"
           }
          ],
          "scatter": [
           {
            "fillpattern": {
             "fillmode": "overlay",
             "size": 10,
             "solidity": 0.2
            },
            "type": "scatter"
           }
          ],
          "scatter3d": [
           {
            "line": {
             "colorbar": {
              "outlinewidth": 0,
              "ticks": ""
             }
            },
            "marker": {
             "colorbar": {
              "outlinewidth": 0,
              "ticks": ""
             }
            },
            "type": "scatter3d"
           }
          ],
          "scattercarpet": [
           {
            "marker": {
             "colorbar": {
              "outlinewidth": 0,
              "ticks": ""
             }
            },
            "type": "scattercarpet"
           }
          ],
          "scattergeo": [
           {
            "marker": {
             "colorbar": {
              "outlinewidth": 0,
              "ticks": ""
             }
            },
            "type": "scattergeo"
           }
          ],
          "scattergl": [
           {
            "marker": {
             "colorbar": {
              "outlinewidth": 0,
              "ticks": ""
             }
            },
            "type": "scattergl"
           }
          ],
          "scattermapbox": [
           {
            "marker": {
             "colorbar": {
              "outlinewidth": 0,
              "ticks": ""
             }
            },
            "type": "scattermapbox"
           }
          ],
          "scatterpolar": [
           {
            "marker": {
             "colorbar": {
              "outlinewidth": 0,
              "ticks": ""
             }
            },
            "type": "scatterpolar"
           }
          ],
          "scatterpolargl": [
           {
            "marker": {
             "colorbar": {
              "outlinewidth": 0,
              "ticks": ""
             }
            },
            "type": "scatterpolargl"
           }
          ],
          "scatterternary": [
           {
            "marker": {
             "colorbar": {
              "outlinewidth": 0,
              "ticks": ""
             }
            },
            "type": "scatterternary"
           }
          ],
          "surface": [
           {
            "colorbar": {
             "outlinewidth": 0,
             "ticks": ""
            },
            "colorscale": [
             [
              0,
              "#0d0887"
             ],
             [
              0.1111111111111111,
              "#46039f"
             ],
             [
              0.2222222222222222,
              "#7201a8"
             ],
             [
              0.3333333333333333,
              "#9c179e"
             ],
             [
              0.4444444444444444,
              "#bd3786"
             ],
             [
              0.5555555555555556,
              "#d8576b"
             ],
             [
              0.6666666666666666,
              "#ed7953"
             ],
             [
              0.7777777777777778,
              "#fb9f3a"
             ],
             [
              0.8888888888888888,
              "#fdca26"
             ],
             [
              1,
              "#f0f921"
             ]
            ],
            "type": "surface"
           }
          ],
          "table": [
           {
            "cells": {
             "fill": {
              "color": "#EBF0F8"
             },
             "line": {
              "color": "white"
             }
            },
            "header": {
             "fill": {
              "color": "#C8D4E3"
             },
             "line": {
              "color": "white"
             }
            },
            "type": "table"
           }
          ]
         },
         "layout": {
          "annotationdefaults": {
           "arrowcolor": "#2a3f5f",
           "arrowhead": 0,
           "arrowwidth": 1
          },
          "autotypenumbers": "strict",
          "coloraxis": {
           "colorbar": {
            "outlinewidth": 0,
            "ticks": ""
           }
          },
          "colorscale": {
           "diverging": [
            [
             0,
             "#8e0152"
            ],
            [
             0.1,
             "#c51b7d"
            ],
            [
             0.2,
             "#de77ae"
            ],
            [
             0.3,
             "#f1b6da"
            ],
            [
             0.4,
             "#fde0ef"
            ],
            [
             0.5,
             "#f7f7f7"
            ],
            [
             0.6,
             "#e6f5d0"
            ],
            [
             0.7,
             "#b8e186"
            ],
            [
             0.8,
             "#7fbc41"
            ],
            [
             0.9,
             "#4d9221"
            ],
            [
             1,
             "#276419"
            ]
           ],
           "sequential": [
            [
             0,
             "#0d0887"
            ],
            [
             0.1111111111111111,
             "#46039f"
            ],
            [
             0.2222222222222222,
             "#7201a8"
            ],
            [
             0.3333333333333333,
             "#9c179e"
            ],
            [
             0.4444444444444444,
             "#bd3786"
            ],
            [
             0.5555555555555556,
             "#d8576b"
            ],
            [
             0.6666666666666666,
             "#ed7953"
            ],
            [
             0.7777777777777778,
             "#fb9f3a"
            ],
            [
             0.8888888888888888,
             "#fdca26"
            ],
            [
             1,
             "#f0f921"
            ]
           ],
           "sequentialminus": [
            [
             0,
             "#0d0887"
            ],
            [
             0.1111111111111111,
             "#46039f"
            ],
            [
             0.2222222222222222,
             "#7201a8"
            ],
            [
             0.3333333333333333,
             "#9c179e"
            ],
            [
             0.4444444444444444,
             "#bd3786"
            ],
            [
             0.5555555555555556,
             "#d8576b"
            ],
            [
             0.6666666666666666,
             "#ed7953"
            ],
            [
             0.7777777777777778,
             "#fb9f3a"
            ],
            [
             0.8888888888888888,
             "#fdca26"
            ],
            [
             1,
             "#f0f921"
            ]
           ]
          },
          "colorway": [
           "#636efa",
           "#EF553B",
           "#00cc96",
           "#ab63fa",
           "#FFA15A",
           "#19d3f3",
           "#FF6692",
           "#B6E880",
           "#FF97FF",
           "#FECB52"
          ],
          "font": {
           "color": "#2a3f5f"
          },
          "geo": {
           "bgcolor": "white",
           "lakecolor": "white",
           "landcolor": "#E5ECF6",
           "showlakes": true,
           "showland": true,
           "subunitcolor": "white"
          },
          "hoverlabel": {
           "align": "left"
          },
          "hovermode": "closest",
          "mapbox": {
           "style": "light"
          },
          "paper_bgcolor": "white",
          "plot_bgcolor": "#E5ECF6",
          "polar": {
           "angularaxis": {
            "gridcolor": "white",
            "linecolor": "white",
            "ticks": ""
           },
           "bgcolor": "#E5ECF6",
           "radialaxis": {
            "gridcolor": "white",
            "linecolor": "white",
            "ticks": ""
           }
          },
          "scene": {
           "xaxis": {
            "backgroundcolor": "#E5ECF6",
            "gridcolor": "white",
            "gridwidth": 2,
            "linecolor": "white",
            "showbackground": true,
            "ticks": "",
            "zerolinecolor": "white"
           },
           "yaxis": {
            "backgroundcolor": "#E5ECF6",
            "gridcolor": "white",
            "gridwidth": 2,
            "linecolor": "white",
            "showbackground": true,
            "ticks": "",
            "zerolinecolor": "white"
           },
           "zaxis": {
            "backgroundcolor": "#E5ECF6",
            "gridcolor": "white",
            "gridwidth": 2,
            "linecolor": "white",
            "showbackground": true,
            "ticks": "",
            "zerolinecolor": "white"
           }
          },
          "shapedefaults": {
           "line": {
            "color": "#2a3f5f"
           }
          },
          "ternary": {
           "aaxis": {
            "gridcolor": "white",
            "linecolor": "white",
            "ticks": ""
           },
           "baxis": {
            "gridcolor": "white",
            "linecolor": "white",
            "ticks": ""
           },
           "bgcolor": "#E5ECF6",
           "caxis": {
            "gridcolor": "white",
            "linecolor": "white",
            "ticks": ""
           }
          },
          "title": {
           "x": 0.05
          },
          "xaxis": {
           "automargin": true,
           "gridcolor": "white",
           "linecolor": "white",
           "ticks": "",
           "title": {
            "standoff": 15
           },
           "zerolinecolor": "white",
           "zerolinewidth": 2
          },
          "yaxis": {
           "automargin": true,
           "gridcolor": "white",
           "linecolor": "white",
           "ticks": "",
           "title": {
            "standoff": 15
           },
           "zerolinecolor": "white",
           "zerolinewidth": 2
          }
         }
        }
       }
      },
      "image/png": "[encoded data removed]",
      "text/html": [
       "<div>                            <div id=\"2bac8f7c-fb3c-4bad-b1ee-0e4f8a18eb24\" class=\"plotly-graph-div\" style=\"height:525px; width:100%;\"></div>            <script type=\"text/javascript\">                require([\"plotly\"], function(Plotly) {                    window.PLOTLYENV=window.PLOTLYENV || {};                                    if (document.getElementById(\"2bac8f7c-fb3c-4bad-b1ee-0e4f8a18eb24\")) {                    Plotly.newPlot(                        \"2bac8f7c-fb3c-4bad-b1ee-0e4f8a18eb24\",                        [{\"branchvalues\":\"total\",\"customdata\":[[4667046.26,20.91],[2204584.58,22.16],[6092339.77,27.02],[96746504.1,49.2],[99888082.4,50.8],[16457101.39,72.98],[7745262.81,77.84],[17655565.1,79.09],[6092339.77,27.02],[4667046.26,20.91],[96746504.1,49.2],[2204584.58,22.16],[16457101.39,72.98],[17655565.1,79.09],[99888082.4,50.8],[7745262.81,77.84],[22549441.16,60.56266629126521],[22322611.36,66.92615648600353],[196634586.5,50.01278138645258],[9949847.39,65.50299978251223],[251456486.41,53.073231439281216]],\"domain\":{\"x\":[0.0,1.0],\"y\":[0.0,1.0]},\"hovertemplate\":\"labels=%{label}\\u003cbr\\u003emedia_ano=%{customdata[0]}\\u003cbr\\u003eparent=%{parent}\\u003cbr\\u003eid=%{id}\\u003cbr\\u003epercentual=%{color}\\u003cextra\\u003e\\u003c\\u002fextra\\u003e\",\"ids\":[\"Tecnologia de Gera\\u00e7\\u00e3o de Telefonia M\\u00f3vel - Ano 2023\\u002f3G\\u002fPr\\u00e9-pago\\u002f20.91\",\"Tecnologia de Gera\\u00e7\\u00e3o de Telefonia M\\u00f3vel - Ano 2023\\u002f5G\\u002fPr\\u00e9-pago\\u002f22.16\",\"Tecnologia de Gera\\u00e7\\u00e3o de Telefonia M\\u00f3vel - Ano 2023\\u002f2G\\u002fPr\\u00e9-pago\\u002f27.02\",\"Tecnologia de Gera\\u00e7\\u00e3o de Telefonia M\\u00f3vel - Ano 2023\\u002f4G\\u002fPr\\u00e9-pago\\u002f49.2\",\"Tecnologia de Gera\\u00e7\\u00e3o de Telefonia M\\u00f3vel - Ano 2023\\u002f4G\\u002fP\\u00f3s-pago\\u002f50.8\",\"Tecnologia de Gera\\u00e7\\u00e3o de Telefonia M\\u00f3vel - Ano 2023\\u002f2G\\u002fP\\u00f3s-pago\\u002f72.98\",\"Tecnologia de Gera\\u00e7\\u00e3o de Telefonia M\\u00f3vel - Ano 2023\\u002f5G\\u002fP\\u00f3s-pago\\u002f77.84\",\"Tecnologia de Gera\\u00e7\\u00e3o de Telefonia M\\u00f3vel - Ano 2023\\u002f3G\\u002fP\\u00f3s-pago\\u002f79.09\",\"Tecnologia de Gera\\u00e7\\u00e3o de Telefonia M\\u00f3vel - Ano 2023\\u002f2G\\u002fPr\\u00e9-pago\",\"Tecnologia de Gera\\u00e7\\u00e3o de Telefonia M\\u00f3vel - Ano 2023\\u002f3G\\u002fPr\\u00e9-pago\",\"Tecnologia de Gera\\u00e7\\u00e3o de Telefonia M\\u00f3vel - Ano 2023\\u002f4G\\u002fPr\\u00e9-pago\",\"Tecnologia de Gera\\u00e7\\u00e3o de Telefonia M\\u00f3vel - Ano 2023\\u002f5G\\u002fPr\\u00e9-pago\",\"Tecnologia de Gera\\u00e7\\u00e3o de Telefonia M\\u00f3vel - Ano 2023\\u002f2G\\u002fP\\u00f3s-pago\",\"Tecnologia de Gera\\u00e7\\u00e3o de Telefonia M\\u00f3vel - Ano 2023\\u002f3G\\u002fP\\u00f3s-pago\",\"Tecnologia de Gera\\u00e7\\u00e3o de Telefonia M\\u00f3vel - Ano 2023\\u002f4G\\u002fP\\u00f3s-pago\",\"Tecnologia de Gera\\u00e7\\u00e3o de Telefonia M\\u00f3vel - Ano 2023\\u002f5G\\u002fP\\u00f3s-pago\",\"Tecnologia de Gera\\u00e7\\u00e3o de Telefonia M\\u00f3vel - Ano 2023\\u002f2G\",\"Tecnologia de Gera\\u00e7\\u00e3o de Telefonia M\\u00f3vel - Ano 2023\\u002f3G\",\"Tecnologia de Gera\\u00e7\\u00e3o de Telefonia M\\u00f3vel - Ano 2023\\u002f4G\",\"Tecnologia de Gera\\u00e7\\u00e3o de Telefonia M\\u00f3vel - Ano 2023\\u002f5G\",\"Tecnologia de Gera\\u00e7\\u00e3o de Telefonia M\\u00f3vel - Ano 2023\"],\"labels\":[\"20.91\",\"22.16\",\"27.02\",\"49.2\",\"50.8\",\"72.98\",\"77.84\",\"79.09\",\"Pr\\u00e9-pago\",\"Pr\\u00e9-pago\",\"Pr\\u00e9-pago\",\"Pr\\u00e9-pago\",\"P\\u00f3s-pago\",\"P\\u00f3s-pago\",\"P\\u00f3s-pago\",\"P\\u00f3s-pago\",\"2G\",\"3G\",\"4G\",\"5G\",\"Tecnologia de Gera\\u00e7\\u00e3o de Telefonia M\\u00f3vel - Ano 2023\"],\"marker\":{\"coloraxis\":\"coloraxis\",\"colors\":[20.91,22.16,27.02,49.2,50.8,72.98,77.84,79.09,27.02,20.91,49.2,22.16,72.98,79.09,50.8,77.84,60.56266629126521,66.92615648600353,50.01278138645258,65.50299978251223,53.073231439281216]},\"name\":\"\",\"parents\":[\"Tecnologia de Gera\\u00e7\\u00e3o de Telefonia M\\u00f3vel - Ano 2023\\u002f3G\\u002fPr\\u00e9-pago\",\"Tecnologia de Gera\\u00e7\\u00e3o de Telefonia M\\u00f3vel - Ano 2023\\u002f5G\\u002fPr\\u00e9-pago\",\"Tecnologia de Gera\\u00e7\\u00e3o de Telefonia M\\u00f3vel - Ano 2023\\u002f2G\\u002fPr\\u00e9-pago\",\"Tecnologia de Gera\\u00e7\\u00e3o de Telefonia M\\u00f3vel - Ano 2023\\u002f4G\\u002fPr\\u00e9-pago\",\"Tecnologia de Gera\\u00e7\\u00e3o de Telefonia M\\u00f3vel - Ano 2023\\u002f4G\\u002fP\\u00f3s-pago\",\"Tecnologia de Gera\\u00e7\\u00e3o de Telefonia M\\u00f3vel - Ano 2023\\u002f2G\\u002fP\\u00f3s-pago\",\"Tecnologia de Gera\\u00e7\\u00e3o de Telefonia M\\u00f3vel - Ano 2023\\u002f5G\\u002fP\\u00f3s-pago\",\"Tecnologia de Gera\\u00e7\\u00e3o de Telefonia M\\u00f3vel - Ano 2023\\u002f3G\\u002fP\\u00f3s-pago\",\"Tecnologia de Gera\\u00e7\\u00e3o de Telefonia M\\u00f3vel - Ano 2023\\u002f2G\",\"Tecnologia de Gera\\u00e7\\u00e3o de Telefonia M\\u00f3vel - Ano 2023\\u002f3G\",\"Tecnologia de Gera\\u00e7\\u00e3o de Telefonia M\\u00f3vel - Ano 2023\\u002f4G\",\"Tecnologia de Gera\\u00e7\\u00e3o de Telefonia M\\u00f3vel - Ano 2023\\u002f5G\",\"Tecnologia de Gera\\u00e7\\u00e3o de Telefonia M\\u00f3vel - Ano 2023\\u002f2G\",\"Tecnologia de Gera\\u00e7\\u00e3o de Telefonia M\\u00f3vel - Ano 2023\\u002f3G\",\"Tecnologia de Gera\\u00e7\\u00e3o de Telefonia M\\u00f3vel - Ano 2023\\u002f4G\",\"Tecnologia de Gera\\u00e7\\u00e3o de Telefonia M\\u00f3vel - Ano 2023\\u002f5G\",\"Tecnologia de Gera\\u00e7\\u00e3o de Telefonia M\\u00f3vel - Ano 2023\",\"Tecnologia de Gera\\u00e7\\u00e3o de Telefonia M\\u00f3vel - Ano 2023\",\"Tecnologia de Gera\\u00e7\\u00e3o de Telefonia M\\u00f3vel - Ano 2023\",\"Tecnologia de Gera\\u00e7\\u00e3o de Telefonia M\\u00f3vel - Ano 2023\",\"\"],\"values\":[4667046.26,2204584.58,6092339.77,96746504.1,99888082.4,16457101.39,7745262.81,17655565.1,6092339.77,4667046.26,96746504.1,2204584.58,16457101.39,17655565.1,99888082.4,7745262.81,22549441.16,22322611.36,196634586.5,9949847.39,251456486.41],\"type\":\"treemap\",\"root\":{\"color\":\"lightgrey\"}}],                        {\"template\":{\"data\":{\"histogram2dcontour\":[{\"type\":\"histogram2dcontour\",\"colorbar\":{\"outlinewidth\":0,\"ticks\":\"\"},\"colorscale\":[[0.0,\"#0d0887\"],[0.1111111111111111,\"#46039f\"],[0.2222222222222222,\"#7201a8\"],[0.3333333333333333,\"#9c179e\"],[0.4444444444444444,\"#bd3786\"],[0.5555555555555556,\"#d8576b\"],[0.6666666666666666,\"#ed7953\"],[0.7777777777777778,\"#fb9f3a\"],[0.8888888888888888,\"#fdca26\"],[1.0,\"#f0f921\"]]}],\"choropleth\":[{\"type\":\"choropleth\",\"colorbar\":{\"outlinewidth\":0,\"ticks\":\"\"}}],\"histogram2d\":[{\"type\":\"histogram2d\",\"colorbar\":{\"outlinewidth\":0,\"ticks\":\"\"},\"colorscale\":[[0.0,\"#0d0887\"],[0.1111111111111111,\"#46039f\"],[0.2222222222222222,\"#7201a8\"],[0.3333333333333333,\"#9c179e\"],[0.4444444444444444,\"#bd3786\"],[0.5555555555555556,\"#d8576b\"],[0.6666666666666666,\"#ed7953\"],[0.7777777777777778,\"#fb9f3a\"],[0.8888888888888888,\"#fdca26\"],[1.0,\"#f0f921\"]]}],\"heatmap\":[{\"type\":\"heatmap\",\"colorbar\":{\"outlinewidth\":0,\"ticks\":\"\"},\"colorscale\":[[0.0,\"#0d0887\"],[0.1111111111111111,\"#46039f\"],[0.2222222222222222,\"#7201a8\"],[0.3333333333333333,\"#9c179e\"],[0.4444444444444444,\"#bd3786\"],[0.5555555555555556,\"#d8576b\"],[0.6666666666666666,\"#ed7953\"],[0.7777777777777778,\"#fb9f3a\"],[0.8888888888888888,\"#fdca26\"],[1.0,\"#f0f921\"]]}],\"heatmapgl\":[{\"type\":\"heatmapgl\",\"colorbar\":{\"outlinewidth\":0,\"ticks\":\"\"},\"colorscale\":[[0.0,\"#0d0887\"],[0.1111111111111111,\"#46039f\"],[0.2222222222222222,\"#7201a8\"],[0.3333333333333333,\"#9c179e\"],[0.4444444444444444,\"#bd3786\"],[0.5555555555555556,\"#d8576b\"],[0.6666666666666666,\"#ed7953\"],[0.7777777777777778,\"#fb9f3a\"],[0.8888888888888888,\"#fdca26\"],[1.0,\"#f0f921\"]]}],\"contourcarpet\":[{\"type\":\"contourcarpet\",\"colorbar\":{\"outlinewidth\":0,\"ticks\":\"\"}}],\"contour\":[{\"type\":\"contour\",\"colorbar\":{\"outlinewidth\":0,\"ticks\":\"\"},\"colorscale\":[[0.0,\"#0d0887\"],[0.1111111111111111,\"#46039f\"],[0.2222222222222222,\"#7201a8\"],[0.3333333333333333,\"#9c179e\"],[0.4444444444444444,\"#bd3786\"],[0.5555555555555556,\"#d8576b\"],[0.6666666666666666,\"#ed7953\"],[0.7777777777777778,\"#fb9f3a\"],[0.8888888888888888,\"#fdca26\"],[1.0,\"#f0f921\"]]}],\"surface\":[{\"type\":\"surface\",\"colorbar\":{\"outlinewidth\":0,\"ticks\":\"\"},\"colorscale\":[[0.0,\"#0d0887\"],[0.1111111111111111,\"#46039f\"],[0.2222222222222222,\"#7201a8\"],[0.3333333333333333,\"#9c179e\"],[0.4444444444444444,\"#bd3786\"],[0.5555555555555556,\"#d8576b\"],[0.6666666666666666,\"#ed7953\"],[0.7777777777777778,\"#fb9f3a\"],[0.8888888888888888,\"#fdca26\"],[1.0,\"#f0f921\"]]}],\"mesh3d\":[{\"type\":\"mesh3d\",\"colorbar\":{\"outlinewidth\":0,\"ticks\":\"\"}}],\"scatter\":[{\"fillpattern\":{\"fillmode\":\"overlay\",\"size\":10,\"solidity\":0.2},\"type\":\"scatter\"}],\"parcoords\":[{\"type\":\"parcoords\",\"line\":{\"colorbar\":{\"outlinewidth\":0,\"ticks\":\"\"}}}],\"scatterpolargl\":[{\"type\":\"scatterpolargl\",\"marker\":{\"colorbar\":{\"outlinewidth\":0,\"ticks\":\"\"}}}],\"bar\":[{\"error_x\":{\"color\":\"#2a3f5f\"},\"error_y\":{\"color\":\"#2a3f5f\"},\"marker\":{\"line\":{\"color\":\"#E5ECF6\",\"width\":0.5},\"pattern\":{\"fillmode\":\"overlay\",\"size\":10,\"solidity\":0.2}},\"type\":\"bar\"}],\"scattergeo\":[{\"type\":\"scattergeo\",\"marker\":{\"colorbar\":{\"outlinewidth\":0,\"ticks\":\"\"}}}],\"scatterpolar\":[{\"type\":\"scatterpolar\",\"marker\":{\"colorbar\":{\"outlinewidth\":0,\"ticks\":\"\"}}}],\"histogram\":[{\"marker\":{\"pattern\":{\"fillmode\":\"overlay\",\"size\":10,\"solidity\":0.2}},\"type\":\"histogram\"}],\"scattergl\":[{\"type\":\"scattergl\",\"marker\":{\"colorbar\":{\"outlinewidth\":0,\"ticks\":\"\"}}}],\"scatter3d\":[{\"type\":\"scatter3d\",\"line\":{\"colorbar\":{\"outlinewidth\":0,\"ticks\":\"\"}},\"marker\":{\"colorbar\":{\"outlinewidth\":0,\"ticks\":\"\"}}}],\"scattermapbox\":[{\"type\":\"scattermapbox\",\"marker\":{\"colorbar\":{\"outlinewidth\":0,\"ticks\":\"\"}}}],\"scatterternary\":[{\"type\":\"scatterternary\",\"marker\":{\"colorbar\":{\"outlinewidth\":0,\"ticks\":\"\"}}}],\"scattercarpet\":[{\"type\":\"scattercarpet\",\"marker\":{\"colorbar\":{\"outlinewidth\":0,\"ticks\":\"\"}}}],\"carpet\":[{\"aaxis\":{\"endlinecolor\":\"#2a3f5f\",\"gridcolor\":\"white\",\"linecolor\":\"white\",\"minorgridcolor\":\"white\",\"startlinecolor\":\"#2a3f5f\"},\"baxis\":{\"endlinecolor\":\"#2a3f5f\",\"gridcolor\":\"white\",\"linecolor\":\"white\",\"minorgridcolor\":\"white\",\"startlinecolor\":\"#2a3f5f\"},\"type\":\"carpet\"}],\"table\":[{\"cells\":{\"fill\":{\"color\":\"#EBF0F8\"},\"line\":{\"color\":\"white\"}},\"header\":{\"fill\":{\"color\":\"#C8D4E3\"},\"line\":{\"color\":\"white\"}},\"type\":\"table\"}],\"barpolar\":[{\"marker\":{\"line\":{\"color\":\"#E5ECF6\",\"width\":0.5},\"pattern\":{\"fillmode\":\"overlay\",\"size\":10,\"solidity\":0.2}},\"type\":\"barpolar\"}],\"pie\":[{\"automargin\":true,\"type\":\"pie\"}]},\"layout\":{\"autotypenumbers\":\"strict\",\"colorway\":[\"#636efa\",\"#EF553B\",\"#00cc96\",\"#ab63fa\",\"#FFA15A\",\"#19d3f3\",\"#FF6692\",\"#B6E880\",\"#FF97FF\",\"#FECB52\"],\"font\":{\"color\":\"#2a3f5f\"},\"hovermode\":\"closest\",\"hoverlabel\":{\"align\":\"left\"},\"paper_bgcolor\":\"white\",\"plot_bgcolor\":\"#E5ECF6\",\"polar\":{\"bgcolor\":\"#E5ECF6\",\"angularaxis\":{\"gridcolor\":\"white\",\"linecolor\":\"white\",\"ticks\":\"\"},\"radialaxis\":{\"gridcolor\":\"white\",\"linecolor\":\"white\",\"ticks\":\"\"}},\"ternary\":{\"bgcolor\":\"#E5ECF6\",\"aaxis\":{\"gridcolor\":\"white\",\"linecolor\":\"white\",\"ticks\":\"\"},\"baxis\":{\"gridcolor\":\"white\",\"linecolor\":\"white\",\"ticks\":\"\"},\"caxis\":{\"gridcolor\":\"white\",\"linecolor\":\"white\",\"ticks\":\"\"}},\"coloraxis\":{\"colorbar\":{\"outlinewidth\":0,\"ticks\":\"\"}},\"colorscale\":{\"sequential\":[[0.0,\"#0d0887\"],[0.1111111111111111,\"#46039f\"],[0.2222222222222222,\"#7201a8\"],[0.3333333333333333,\"#9c179e\"],[0.4444444444444444,\"#bd3786\"],[0.5555555555555556,\"#d8576b\"],[0.6666666666666666,\"#ed7953\"],[0.7777777777777778,\"#fb9f3a\"],[0.8888888888888888,\"#fdca26\"],[1.0,\"#f0f921\"]],\"sequentialminus\":[[0.0,\"#0d0887\"],[0.1111111111111111,\"#46039f\"],[0.2222222222222222,\"#7201a8\"],[0.3333333333333333,\"#9c179e\"],[0.4444444444444444,\"#bd3786\"],[0.5555555555555556,\"#d8576b\"],[0.6666666666666666,\"#ed7953\"],[0.7777777777777778,\"#fb9f3a\"],[0.8888888888888888,\"#fdca26\"],[1.0,\"#f0f921\"]],\"diverging\":[[0,\"#8e0152\"],[0.1,\"#c51b7d\"],[0.2,\"#de77ae\"],[0.3,\"#f1b6da\"],[0.4,\"#fde0ef\"],[0.5,\"#f7f7f7\"],[0.6,\"#e6f5d0\"],[0.7,\"#b8e186\"],[0.8,\"#7fbc41\"],[0.9,\"#4d9221\"],[1,\"#276419\"]]},\"xaxis\":{\"gridcolor\":\"white\",\"linecolor\":\"white\",\"ticks\":\"\",\"title\":{\"standoff\":15},\"zerolinecolor\":\"white\",\"automargin\":true,\"zerolinewidth\":2},\"yaxis\":{\"gridcolor\":\"white\",\"linecolor\":\"white\",\"ticks\":\"\",\"title\":{\"standoff\":15},\"zerolinecolor\":\"white\",\"automargin\":true,\"zerolinewidth\":2},\"scene\":{\"xaxis\":{\"backgroundcolor\":\"#E5ECF6\",\"gridcolor\":\"white\",\"linecolor\":\"white\",\"showbackground\":true,\"ticks\":\"\",\"zerolinecolor\":\"white\",\"gridwidth\":2},\"yaxis\":{\"backgroundcolor\":\"#E5ECF6\",\"gridcolor\":\"white\",\"linecolor\":\"white\",\"showbackground\":true,\"ticks\":\"\",\"zerolinecolor\":\"white\",\"gridwidth\":2},\"zaxis\":{\"backgroundcolor\":\"#E5ECF6\",\"gridcolor\":\"white\",\"linecolor\":\"white\",\"showbackground\":true,\"ticks\":\"\",\"zerolinecolor\":\"white\",\"gridwidth\":2}},\"shapedefaults\":{\"line\":{\"color\":\"#2a3f5f\"}},\"annotationdefaults\":{\"arrowcolor\":\"#2a3f5f\",\"arrowhead\":0,\"arrowwidth\":1},\"geo\":{\"bgcolor\":\"white\",\"landcolor\":\"#E5ECF6\",\"subunitcolor\":\"white\",\"showland\":true,\"showlakes\":true,\"lakecolor\":\"white\"},\"title\":{\"x\":0.05},\"mapbox\":{\"style\":\"light\"}}},\"coloraxis\":{\"colorbar\":{\"title\":{\"text\":\"percentual\"}},\"colorscale\":[[0.0,\"rgb(255,255,217)\"],[0.125,\"rgb(237,248,177)\"],[0.25,\"rgb(199,233,180)\"],[0.375,\"rgb(127,205,187)\"],[0.5,\"rgb(65,182,196)\"],[0.625,\"rgb(29,145,192)\"],[0.75,\"rgb(34,94,168)\"],[0.875,\"rgb(37,52,148)\"],[1.0,\"rgb(8,29,88)\"]]},\"legend\":{\"tracegroupgap\":0},\"margin\":{\"t\":50,\"l\":25,\"r\":25,\"b\":25}},                        {\"responsive\": true}                    ).then(function(){\n",
       "                            \n",
       "var gd = document.getElementById('2bac8f7c-fb3c-4bad-b1ee-0e4f8a18eb24');\n",
       "var x = new MutationObserver(function (mutations, observer) {{\n",
       "        var display = window.getComputedStyle(gd).display;\n",
       "        if (!display || display === 'none') {{\n",
       "            console.log([gd, 'removed!']);\n",
       "            Plotly.purge(gd);\n",
       "            observer.disconnect();\n",
       "        }}\n",
       "}});\n",
       "\n",
       "// Listen for the removal of the full notebook cells\n",
       "var notebookContainer = gd.closest('#notebook-container');\n",
       "if (notebookContainer) {{\n",
       "    x.observe(notebookContainer, {childList: true});\n",
       "}}\n",
       "\n",
       "// Listen for the clearing of the current output cell\n",
       "var outputEl = gd.closest('.output');\n",
       "if (outputEl) {{\n",
       "    x.observe(outputEl, {childList: true});\n",
       "}}\n",
       "\n",
       "                        })                };                });            </script>        </div>"
      ]
     },
     "metadata": {},
     "output_type": "display_data"
    }
   ],
   "source": [
    "# import plotly.express as px\n",
    "\n",
    "fig = px.treemap(modalidade, path=[px.Constant(\"Tecnologia de Geração de Telefonia Móvel - Ano 2023\"), \n",
    "                                   'Tecnologia Geração', 'Modalidade de Cobrança', 'percentual'], values='media_ano', \n",
    "                  color='percentual', hover_data=['media_ano'],\n",
    "                  color_continuous_scale='YlGnBu')\n",
    "fig.update_traces(root_color=\"lightgrey\")\n",
    "fig.update_layout(margin = dict(t=50, l=25, r=25, b=25))\n",
    "fig.show()"
   ]
  },
  {
   "cell_type": "code",
   "execution_count": null,
   "id": "fb2e471e-1c80-47d1-a004-7fce87e93a5d",
   "metadata": {},
   "outputs": [],
   "source": []
  }
 ],
 "metadata": {
  "kernelspec": {
   "display_name": "Python 3 (ipykernel)",
   "language": "python",
   "name": "python3"
  },
  "language_info": {
   "codemirror_mode": {
    "name": "ipython",
    "version": 3
   },
   "file_extension": ".py",
   "mimetype": "text/x-python",
   "name": "python",
   "nbconvert_exporter": "python",
   "pygments_lexer": "ipython3",
   "version": "3.11.5"
  }
 },
 "nbformat": 4,
 "nbformat_minor": 5
}
