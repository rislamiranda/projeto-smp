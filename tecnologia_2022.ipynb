{
 "cells": [
  {
   "cell_type": "markdown",
   "id": "2e464667-21c2-474d-ada7-538d9637741b",
   "metadata": {},
   "source": [
    "# Dados de telefonia móvel - Ano 2022"
   ]
  },
  {
   "cell_type": "markdown",
   "id": "41e46dae-bbce-4b98-9e74-6dd3691f0319",
   "metadata": {},
   "source": [
    "Análise dos dados de tecnologia de 2022 (responsável: Beatriz Pierri)"
   ]
  },
  {
   "cell_type": "markdown",
   "id": "e26d6124-6eda-40c8-8cfc-2597fa0c0e49",
   "metadata": {},
   "source": [
    "## Orientação para rodar este caderno"
   ]
  },
  {
   "cell_type": "markdown",
   "id": "d213eea2-4a7c-4241-a35b-38dace367b0f",
   "metadata": {},
   "source": [
    "<ul>\n",
    "    <li>Os codigos foram feitos para rodar sem ter que ficar alterando o nome das variaveis (os nomes das variaveis sao genericos, sem especificar o ano)</li>\n",
    "    <li>Favor dar uma conferida para ver se os comandos fazem sentido e se não cometi algum erro</li>\n",
    "    <li>Células em que o ano do arquivo deve ser especificado:</li>\n",
    "    <li>Célula 2: colocar o arquivo do ano correspondente na variável \"diretorio\" e na variavel 'ano'</li>\n",
    "    <li>Células 17, 23, 28, 35, 39: renomear o arquivo com o ano correspondente ao transformar em csv</li>\n",
    "    <li>A tecnologia 5G começou no Brasil em 2022 (comercialmente); se, ao rodar a célula ??, der erro, provavelmente o seu ano não possui esta tecnologia indexada. Neste caso, comentar (com #) as células de comando sobre o 5G. </li>\n",
    "</ul>"
   ]
  },
  {
   "cell_type": "code",
   "execution_count": 1,
   "id": "080f9330-875a-4439-a534-6b60d4de5d07",
   "metadata": {},
   "outputs": [],
   "source": [
    "# importação de bibliotecas\n",
    "\n",
    "import pandas as pd"
   ]
  },
  {
   "cell_type": "markdown",
   "id": "c77f28aa-32ab-42b2-9274-b7c11c29113a",
   "metadata": {},
   "source": [
    "## Puxando os dados de uma dataframe já criado e tratado"
   ]
  },
  {
   "cell_type": "code",
   "execution_count": 2,
   "id": "c69df75a-f25d-4fff-b72a-39c164591fcc",
   "metadata": {},
   "outputs": [],
   "source": [
    "# os dados originais da Anatel estão separados, majoritariamente, por semestre\n",
    "# no notebook chamado 'acessos_2022', fizemos o merge dos 2 arquivos semestrais em 1, e o chamamos de 'df_2022'\n",
    "# tratamos os dados (grafias das strings, dados NaN, inserção de colunas 'soma_meses' e 'media_ano' \n",
    "# para trabalharmos os dados)\n",
    "# salvamos o dataframe 'df_2022' e o salvamos como um csv de mesmo nome\n",
    "# é este arquivo csv já tratado que vamos trabalhar aqui, mas vamos renomea-lo para 'df_2022_tec' para \n",
    "# fazermos alteraçoes, caso necessario\n",
    "\n",
    "# vou chamar de df_tec para facilitar a rodagem dos dados em todos os anos\n",
    "\n",
    "# este caderno é referente ao ano: 2022\n",
    "\n",
    "# Diretório onde os arquivos CSV estão localizados:\n",
    "\n",
    "diretorio = 'C:/Users/beapi/Bootcamp Enap/projeto-smp/df_2022_.csv'\n",
    "\n",
    "df_tec = pd.read_csv(diretorio, sep = ';')\n",
    "\n",
    "# Ano a que se refere o dataframe:\n",
    "\n",
    "ano = 2022"
   ]
  },
  {
   "cell_type": "code",
   "execution_count": 3,
   "id": "ea2fd2af-8190-454b-8f71-99a630fd572c",
   "metadata": {},
   "outputs": [
    {
     "data": {
      "text/html": [
       "<div>\n",
       "<style scoped>\n",
       "    .dataframe tbody tr th:only-of-type {\n",
       "        vertical-align: middle;\n",
       "    }\n",
       "\n",
       "    .dataframe tbody tr th {\n",
       "        vertical-align: top;\n",
       "    }\n",
       "\n",
       "    .dataframe thead th {\n",
       "        text-align: right;\n",
       "    }\n",
       "</style>\n",
       "<table border=\"1\" class=\"dataframe\">\n",
       "  <thead>\n",
       "    <tr style=\"text-align: right;\">\n",
       "      <th></th>\n",
       "      <th>Unnamed: 0</th>\n",
       "      <th>CNPJ</th>\n",
       "      <th>Código Nacional</th>\n",
       "      <th>Município</th>\n",
       "      <th>UF</th>\n",
       "      <th>Modalidade de Cobrança</th>\n",
       "      <th>Tecnologia</th>\n",
       "      <th>Tecnologia Geração</th>\n",
       "      <th>Empresa</th>\n",
       "      <th>Porte da Prestadora</th>\n",
       "      <th>...</th>\n",
       "      <th>2022-05</th>\n",
       "      <th>2022-06</th>\n",
       "      <th>2022-07</th>\n",
       "      <th>2022-08</th>\n",
       "      <th>2022-09</th>\n",
       "      <th>2022-10</th>\n",
       "      <th>2022-11</th>\n",
       "      <th>2022-12</th>\n",
       "      <th>soma_meses</th>\n",
       "      <th>media_ano</th>\n",
       "    </tr>\n",
       "  </thead>\n",
       "  <tbody>\n",
       "    <tr>\n",
       "      <th>0</th>\n",
       "      <td>0</td>\n",
       "      <td>71208516000174</td>\n",
       "      <td>14</td>\n",
       "      <td>Bastos</td>\n",
       "      <td>SP</td>\n",
       "      <td>Pós-pago</td>\n",
       "      <td>LTE</td>\n",
       "      <td>4G</td>\n",
       "      <td>ALGAR (CTBC TELECOM)</td>\n",
       "      <td>Pequeno Porte</td>\n",
       "      <td>...</td>\n",
       "      <td>2,0</td>\n",
       "      <td>2,0</td>\n",
       "      <td>2,0</td>\n",
       "      <td>1,0</td>\n",
       "      <td>0,0</td>\n",
       "      <td>0,0</td>\n",
       "      <td>0,0</td>\n",
       "      <td>0,0</td>\n",
       "      <td>18,0</td>\n",
       "      <td>1,5</td>\n",
       "    </tr>\n",
       "    <tr>\n",
       "      <th>1</th>\n",
       "      <td>1</td>\n",
       "      <td>71208516000174</td>\n",
       "      <td>14</td>\n",
       "      <td>Bastos</td>\n",
       "      <td>SP</td>\n",
       "      <td>Pós-pago</td>\n",
       "      <td>WCDMA</td>\n",
       "      <td>3G</td>\n",
       "      <td>ALGAR (CTBC TELECOM)</td>\n",
       "      <td>Pequeno Porte</td>\n",
       "      <td>...</td>\n",
       "      <td>0,0</td>\n",
       "      <td>0,0</td>\n",
       "      <td>0,0</td>\n",
       "      <td>0,0</td>\n",
       "      <td>0,0</td>\n",
       "      <td>0,0</td>\n",
       "      <td>0,0</td>\n",
       "      <td>0,0</td>\n",
       "      <td>4,0</td>\n",
       "      <td>0,33</td>\n",
       "    </tr>\n",
       "    <tr>\n",
       "      <th>2</th>\n",
       "      <td>2</td>\n",
       "      <td>71208516000174</td>\n",
       "      <td>16</td>\n",
       "      <td>Sertãozinho</td>\n",
       "      <td>SP</td>\n",
       "      <td>Pós-pago</td>\n",
       "      <td>LTE</td>\n",
       "      <td>4G</td>\n",
       "      <td>ALGAR (CTBC TELECOM)</td>\n",
       "      <td>Pequeno Porte</td>\n",
       "      <td>...</td>\n",
       "      <td>4,0</td>\n",
       "      <td>4,0</td>\n",
       "      <td>1,0</td>\n",
       "      <td>3,0</td>\n",
       "      <td>3,0</td>\n",
       "      <td>2,0</td>\n",
       "      <td>2,0</td>\n",
       "      <td>2,0</td>\n",
       "      <td>44,0</td>\n",
       "      <td>3,67</td>\n",
       "    </tr>\n",
       "    <tr>\n",
       "      <th>3</th>\n",
       "      <td>3</td>\n",
       "      <td>71208516000174</td>\n",
       "      <td>16</td>\n",
       "      <td>Sertãozinho</td>\n",
       "      <td>SP</td>\n",
       "      <td>Pós-pago</td>\n",
       "      <td>WCDMA</td>\n",
       "      <td>3G</td>\n",
       "      <td>ALGAR (CTBC TELECOM)</td>\n",
       "      <td>Pequeno Porte</td>\n",
       "      <td>...</td>\n",
       "      <td>1,0</td>\n",
       "      <td>1,0</td>\n",
       "      <td>0,0</td>\n",
       "      <td>0,0</td>\n",
       "      <td>0,0</td>\n",
       "      <td>1,0</td>\n",
       "      <td>1,0</td>\n",
       "      <td>1,0</td>\n",
       "      <td>8,0</td>\n",
       "      <td>0,67</td>\n",
       "    </tr>\n",
       "    <tr>\n",
       "      <th>4</th>\n",
       "      <td>4</td>\n",
       "      <td>71208516000174</td>\n",
       "      <td>16</td>\n",
       "      <td>Altinópolis</td>\n",
       "      <td>SP</td>\n",
       "      <td>Pós-pago</td>\n",
       "      <td>GSM</td>\n",
       "      <td>2G</td>\n",
       "      <td>ALGAR (CTBC TELECOM)</td>\n",
       "      <td>Pequeno Porte</td>\n",
       "      <td>...</td>\n",
       "      <td>42,0</td>\n",
       "      <td>42,0</td>\n",
       "      <td>41,0</td>\n",
       "      <td>40,0</td>\n",
       "      <td>40,0</td>\n",
       "      <td>41,0</td>\n",
       "      <td>41,0</td>\n",
       "      <td>41,0</td>\n",
       "      <td>495,0</td>\n",
       "      <td>41,25</td>\n",
       "    </tr>\n",
       "  </tbody>\n",
       "</table>\n",
       "<p>5 rows × 28 columns</p>\n",
       "</div>"
      ],
      "text/plain": [
       "   Unnamed: 0            CNPJ  Código Nacional    Município  UF  \\\n",
       "0           0  71208516000174               14       Bastos  SP   \n",
       "1           1  71208516000174               14       Bastos  SP   \n",
       "2           2  71208516000174               16  Sertãozinho  SP   \n",
       "3           3  71208516000174               16  Sertãozinho  SP   \n",
       "4           4  71208516000174               16  Altinópolis  SP   \n",
       "\n",
       "  Modalidade de Cobrança Tecnologia Tecnologia Geração               Empresa  \\\n",
       "0               Pós-pago        LTE                 4G  ALGAR (CTBC TELECOM)   \n",
       "1               Pós-pago      WCDMA                 3G  ALGAR (CTBC TELECOM)   \n",
       "2               Pós-pago        LTE                 4G  ALGAR (CTBC TELECOM)   \n",
       "3               Pós-pago      WCDMA                 3G  ALGAR (CTBC TELECOM)   \n",
       "4               Pós-pago        GSM                 2G  ALGAR (CTBC TELECOM)   \n",
       "\n",
       "  Porte da Prestadora  ... 2022-05 2022-06  2022-07 2022-08 2022-09 2022-10  \\\n",
       "0       Pequeno Porte  ...     2,0     2,0      2,0     1,0     0,0     0,0   \n",
       "1       Pequeno Porte  ...     0,0     0,0      0,0     0,0     0,0     0,0   \n",
       "2       Pequeno Porte  ...     4,0     4,0      1,0     3,0     3,0     2,0   \n",
       "3       Pequeno Porte  ...     1,0     1,0      0,0     0,0     0,0     1,0   \n",
       "4       Pequeno Porte  ...    42,0    42,0     41,0    40,0    40,0    41,0   \n",
       "\n",
       "  2022-11 2022-12 soma_meses media_ano  \n",
       "0     0,0     0,0       18,0       1,5  \n",
       "1     0,0     0,0        4,0      0,33  \n",
       "2     2,0     2,0       44,0      3,67  \n",
       "3     1,0     1,0        8,0      0,67  \n",
       "4    41,0    41,0      495,0     41,25  \n",
       "\n",
       "[5 rows x 28 columns]"
      ]
     },
     "execution_count": 3,
     "metadata": {},
     "output_type": "execute_result"
    }
   ],
   "source": [
    "# fazendo as conferencias basicas do dataframe que importamos\n",
    "\n",
    "df_tec.head(5)\n",
    "\n",
    "# vemos, de pronto, que ele trouxe uma coluna denominada 'Unnamed: 0' (que provavelmente era o \n",
    "# index do dataframe que trabalhamos no notebbok 'acesso_2022')"
   ]
  },
  {
   "cell_type": "code",
   "execution_count": 4,
   "id": "3d605c82-4e42-4ec3-b91d-1c2e0c58da89",
   "metadata": {},
   "outputs": [],
   "source": [
    "# vamor excluir esta coluna 'Unnamed: 0'\n",
    "\n",
    "df_tec.drop(columns=['Unnamed: 0'], inplace = True)"
   ]
  },
  {
   "cell_type": "code",
   "execution_count": 5,
   "id": "9752ab81-1453-4522-8e2d-2d2071bb3f9e",
   "metadata": {},
   "outputs": [
    {
     "data": {
      "text/html": [
       "<div>\n",
       "<style scoped>\n",
       "    .dataframe tbody tr th:only-of-type {\n",
       "        vertical-align: middle;\n",
       "    }\n",
       "\n",
       "    .dataframe tbody tr th {\n",
       "        vertical-align: top;\n",
       "    }\n",
       "\n",
       "    .dataframe thead th {\n",
       "        text-align: right;\n",
       "    }\n",
       "</style>\n",
       "<table border=\"1\" class=\"dataframe\">\n",
       "  <thead>\n",
       "    <tr style=\"text-align: right;\">\n",
       "      <th></th>\n",
       "      <th>CNPJ</th>\n",
       "      <th>Código Nacional</th>\n",
       "      <th>Município</th>\n",
       "      <th>UF</th>\n",
       "      <th>Modalidade de Cobrança</th>\n",
       "      <th>Tecnologia</th>\n",
       "      <th>Tecnologia Geração</th>\n",
       "      <th>Empresa</th>\n",
       "      <th>Porte da Prestadora</th>\n",
       "      <th>Tipo de Pessoa</th>\n",
       "      <th>...</th>\n",
       "      <th>2022-05</th>\n",
       "      <th>2022-06</th>\n",
       "      <th>2022-07</th>\n",
       "      <th>2022-08</th>\n",
       "      <th>2022-09</th>\n",
       "      <th>2022-10</th>\n",
       "      <th>2022-11</th>\n",
       "      <th>2022-12</th>\n",
       "      <th>soma_meses</th>\n",
       "      <th>media_ano</th>\n",
       "    </tr>\n",
       "  </thead>\n",
       "  <tbody>\n",
       "    <tr>\n",
       "      <th>0</th>\n",
       "      <td>71208516000174</td>\n",
       "      <td>14</td>\n",
       "      <td>Bastos</td>\n",
       "      <td>SP</td>\n",
       "      <td>Pós-pago</td>\n",
       "      <td>LTE</td>\n",
       "      <td>4G</td>\n",
       "      <td>ALGAR (CTBC TELECOM)</td>\n",
       "      <td>Pequeno Porte</td>\n",
       "      <td>Pessoa Física</td>\n",
       "      <td>...</td>\n",
       "      <td>2,0</td>\n",
       "      <td>2,0</td>\n",
       "      <td>2,0</td>\n",
       "      <td>1,0</td>\n",
       "      <td>0,0</td>\n",
       "      <td>0,0</td>\n",
       "      <td>0,0</td>\n",
       "      <td>0,0</td>\n",
       "      <td>18,0</td>\n",
       "      <td>1,5</td>\n",
       "    </tr>\n",
       "    <tr>\n",
       "      <th>1</th>\n",
       "      <td>71208516000174</td>\n",
       "      <td>14</td>\n",
       "      <td>Bastos</td>\n",
       "      <td>SP</td>\n",
       "      <td>Pós-pago</td>\n",
       "      <td>WCDMA</td>\n",
       "      <td>3G</td>\n",
       "      <td>ALGAR (CTBC TELECOM)</td>\n",
       "      <td>Pequeno Porte</td>\n",
       "      <td>Pessoa Física</td>\n",
       "      <td>...</td>\n",
       "      <td>0,0</td>\n",
       "      <td>0,0</td>\n",
       "      <td>0,0</td>\n",
       "      <td>0,0</td>\n",
       "      <td>0,0</td>\n",
       "      <td>0,0</td>\n",
       "      <td>0,0</td>\n",
       "      <td>0,0</td>\n",
       "      <td>4,0</td>\n",
       "      <td>0,33</td>\n",
       "    </tr>\n",
       "    <tr>\n",
       "      <th>2</th>\n",
       "      <td>71208516000174</td>\n",
       "      <td>16</td>\n",
       "      <td>Sertãozinho</td>\n",
       "      <td>SP</td>\n",
       "      <td>Pós-pago</td>\n",
       "      <td>LTE</td>\n",
       "      <td>4G</td>\n",
       "      <td>ALGAR (CTBC TELECOM)</td>\n",
       "      <td>Pequeno Porte</td>\n",
       "      <td>Pessoa Jurídica</td>\n",
       "      <td>...</td>\n",
       "      <td>4,0</td>\n",
       "      <td>4,0</td>\n",
       "      <td>1,0</td>\n",
       "      <td>3,0</td>\n",
       "      <td>3,0</td>\n",
       "      <td>2,0</td>\n",
       "      <td>2,0</td>\n",
       "      <td>2,0</td>\n",
       "      <td>44,0</td>\n",
       "      <td>3,67</td>\n",
       "    </tr>\n",
       "  </tbody>\n",
       "</table>\n",
       "<p>3 rows × 27 columns</p>\n",
       "</div>"
      ],
      "text/plain": [
       "             CNPJ  Código Nacional    Município  UF Modalidade de Cobrança  \\\n",
       "0  71208516000174               14       Bastos  SP               Pós-pago   \n",
       "1  71208516000174               14       Bastos  SP               Pós-pago   \n",
       "2  71208516000174               16  Sertãozinho  SP               Pós-pago   \n",
       "\n",
       "  Tecnologia Tecnologia Geração               Empresa Porte da Prestadora  \\\n",
       "0        LTE                 4G  ALGAR (CTBC TELECOM)       Pequeno Porte   \n",
       "1      WCDMA                 3G  ALGAR (CTBC TELECOM)       Pequeno Porte   \n",
       "2        LTE                 4G  ALGAR (CTBC TELECOM)       Pequeno Porte   \n",
       "\n",
       "    Tipo de Pessoa  ... 2022-05  2022-06 2022-07 2022-08 2022-09 2022-10  \\\n",
       "0    Pessoa Física  ...     2,0      2,0     2,0     1,0     0,0     0,0   \n",
       "1    Pessoa Física  ...     0,0      0,0     0,0     0,0     0,0     0,0   \n",
       "2  Pessoa Jurídica  ...     4,0      4,0     1,0     3,0     3,0     2,0   \n",
       "\n",
       "  2022-11 2022-12 soma_meses media_ano  \n",
       "0     0,0     0,0       18,0       1,5  \n",
       "1     0,0     0,0        4,0      0,33  \n",
       "2     2,0     2,0       44,0      3,67  \n",
       "\n",
       "[3 rows x 27 columns]"
      ]
     },
     "execution_count": 5,
     "metadata": {},
     "output_type": "execute_result"
    }
   ],
   "source": [
    "df_tec.head(3)\n",
    "\n",
    "# deu certo: coluna excluída"
   ]
  },
  {
   "cell_type": "code",
   "execution_count": 6,
   "id": "df8c2eb4-1dc1-48ad-92a4-ba3453099162",
   "metadata": {},
   "outputs": [
    {
     "data": {
      "text/plain": [
       "dtype('O')"
      ]
     },
     "execution_count": 6,
     "metadata": {},
     "output_type": "execute_result"
    }
   ],
   "source": [
    "df_tec['media_ano'].dtype\n",
    "\n",
    "# com este tipo não conseguimos trabalhar\n",
    "# por alguma razão os arquivos csv vieram com virgula como separador de casa decimal, em vez de ponto,\n",
    "# que é o default do python"
   ]
  },
  {
   "cell_type": "code",
   "execution_count": 7,
   "id": "2fb35a30-9220-4885-a1c9-cf299eaafba6",
   "metadata": {},
   "outputs": [],
   "source": [
    "# transformando a virgula da casa decimal em ponto na coluna 'media_ano' (que é  que usamos\n",
    "# para nossos calculos)\n",
    "\n",
    "df_tec['media_ano'] = df_tec['media_ano'].str.replace(',', '.', regex=True).astype(float)"
   ]
  },
  {
   "cell_type": "code",
   "execution_count": 8,
   "id": "e9eb1a6a-09b3-4b76-a89d-952d472c6161",
   "metadata": {},
   "outputs": [
    {
     "data": {
      "text/plain": [
       "dtype('float64')"
      ]
     },
     "execution_count": 8,
     "metadata": {},
     "output_type": "execute_result"
    }
   ],
   "source": [
    "df_tec['media_ano'].dtype\n",
    "\n",
    "# agora nossa coluna 'media_ano' está no formato numerico float"
   ]
  },
  {
   "cell_type": "code",
   "execution_count": 9,
   "id": "644d587e-1623-4a17-8e37-c5e86b5bfc33",
   "metadata": {},
   "outputs": [
    {
     "data": {
      "text/plain": [
       "258493710.94000018"
      ]
     },
     "execution_count": 9,
     "metadata": {},
     "output_type": "execute_result"
    }
   ],
   "source": [
    "# vendo se a soma dos acessos está correta (por volta de 250 a 260 milhoes de acessos para o anos 2022)\n",
    "\n",
    "df_tec['media_ano'].sum()"
   ]
  },
  {
   "cell_type": "code",
   "execution_count": 10,
   "id": "5556e5b1-efa1-42d2-af82-0bc1b60599e0",
   "metadata": {},
   "outputs": [
    {
     "data": {
      "text/html": [
       "<div>\n",
       "<style scoped>\n",
       "    .dataframe tbody tr th:only-of-type {\n",
       "        vertical-align: middle;\n",
       "    }\n",
       "\n",
       "    .dataframe tbody tr th {\n",
       "        vertical-align: top;\n",
       "    }\n",
       "\n",
       "    .dataframe thead th {\n",
       "        text-align: right;\n",
       "    }\n",
       "</style>\n",
       "<table border=\"1\" class=\"dataframe\">\n",
       "  <thead>\n",
       "    <tr style=\"text-align: right;\">\n",
       "      <th></th>\n",
       "      <th>CNPJ</th>\n",
       "      <th>Código Nacional</th>\n",
       "      <th>Município</th>\n",
       "      <th>UF</th>\n",
       "      <th>Modalidade de Cobrança</th>\n",
       "      <th>Tecnologia</th>\n",
       "      <th>Tecnologia Geração</th>\n",
       "      <th>Empresa</th>\n",
       "      <th>Porte da Prestadora</th>\n",
       "      <th>Tipo de Pessoa</th>\n",
       "      <th>...</th>\n",
       "      <th>2022-05</th>\n",
       "      <th>2022-06</th>\n",
       "      <th>2022-07</th>\n",
       "      <th>2022-08</th>\n",
       "      <th>2022-09</th>\n",
       "      <th>2022-10</th>\n",
       "      <th>2022-11</th>\n",
       "      <th>2022-12</th>\n",
       "      <th>soma_meses</th>\n",
       "      <th>media_ano</th>\n",
       "    </tr>\n",
       "  </thead>\n",
       "  <tbody>\n",
       "    <tr>\n",
       "      <th>0</th>\n",
       "      <td>71208516000174</td>\n",
       "      <td>14</td>\n",
       "      <td>Bastos</td>\n",
       "      <td>SP</td>\n",
       "      <td>Pós-pago</td>\n",
       "      <td>LTE</td>\n",
       "      <td>4G</td>\n",
       "      <td>ALGAR (CTBC TELECOM)</td>\n",
       "      <td>Pequeno Porte</td>\n",
       "      <td>Pessoa Física</td>\n",
       "      <td>...</td>\n",
       "      <td>2,0</td>\n",
       "      <td>2,0</td>\n",
       "      <td>2,0</td>\n",
       "      <td>1,0</td>\n",
       "      <td>0,0</td>\n",
       "      <td>0,0</td>\n",
       "      <td>0,0</td>\n",
       "      <td>0,0</td>\n",
       "      <td>18,0</td>\n",
       "      <td>1.50</td>\n",
       "    </tr>\n",
       "    <tr>\n",
       "      <th>1</th>\n",
       "      <td>71208516000174</td>\n",
       "      <td>14</td>\n",
       "      <td>Bastos</td>\n",
       "      <td>SP</td>\n",
       "      <td>Pós-pago</td>\n",
       "      <td>WCDMA</td>\n",
       "      <td>3G</td>\n",
       "      <td>ALGAR (CTBC TELECOM)</td>\n",
       "      <td>Pequeno Porte</td>\n",
       "      <td>Pessoa Física</td>\n",
       "      <td>...</td>\n",
       "      <td>0,0</td>\n",
       "      <td>0,0</td>\n",
       "      <td>0,0</td>\n",
       "      <td>0,0</td>\n",
       "      <td>0,0</td>\n",
       "      <td>0,0</td>\n",
       "      <td>0,0</td>\n",
       "      <td>0,0</td>\n",
       "      <td>4,0</td>\n",
       "      <td>0.33</td>\n",
       "    </tr>\n",
       "    <tr>\n",
       "      <th>2</th>\n",
       "      <td>71208516000174</td>\n",
       "      <td>16</td>\n",
       "      <td>Sertãozinho</td>\n",
       "      <td>SP</td>\n",
       "      <td>Pós-pago</td>\n",
       "      <td>LTE</td>\n",
       "      <td>4G</td>\n",
       "      <td>ALGAR (CTBC TELECOM)</td>\n",
       "      <td>Pequeno Porte</td>\n",
       "      <td>Pessoa Jurídica</td>\n",
       "      <td>...</td>\n",
       "      <td>4,0</td>\n",
       "      <td>4,0</td>\n",
       "      <td>1,0</td>\n",
       "      <td>3,0</td>\n",
       "      <td>3,0</td>\n",
       "      <td>2,0</td>\n",
       "      <td>2,0</td>\n",
       "      <td>2,0</td>\n",
       "      <td>44,0</td>\n",
       "      <td>3.67</td>\n",
       "    </tr>\n",
       "  </tbody>\n",
       "</table>\n",
       "<p>3 rows × 27 columns</p>\n",
       "</div>"
      ],
      "text/plain": [
       "             CNPJ  Código Nacional    Município  UF Modalidade de Cobrança  \\\n",
       "0  71208516000174               14       Bastos  SP               Pós-pago   \n",
       "1  71208516000174               14       Bastos  SP               Pós-pago   \n",
       "2  71208516000174               16  Sertãozinho  SP               Pós-pago   \n",
       "\n",
       "  Tecnologia Tecnologia Geração               Empresa Porte da Prestadora  \\\n",
       "0        LTE                 4G  ALGAR (CTBC TELECOM)       Pequeno Porte   \n",
       "1      WCDMA                 3G  ALGAR (CTBC TELECOM)       Pequeno Porte   \n",
       "2        LTE                 4G  ALGAR (CTBC TELECOM)       Pequeno Porte   \n",
       "\n",
       "    Tipo de Pessoa  ... 2022-05  2022-06 2022-07 2022-08 2022-09 2022-10  \\\n",
       "0    Pessoa Física  ...     2,0      2,0     2,0     1,0     0,0     0,0   \n",
       "1    Pessoa Física  ...     0,0      0,0     0,0     0,0     0,0     0,0   \n",
       "2  Pessoa Jurídica  ...     4,0      4,0     1,0     3,0     3,0     2,0   \n",
       "\n",
       "  2022-11 2022-12 soma_meses media_ano  \n",
       "0     0,0     0,0       18,0      1.50  \n",
       "1     0,0     0,0        4,0      0.33  \n",
       "2     2,0     2,0       44,0      3.67  \n",
       "\n",
       "[3 rows x 27 columns]"
      ]
     },
     "execution_count": 10,
     "metadata": {},
     "output_type": "execute_result"
    }
   ],
   "source": [
    "# vendo se os dados de 'media_ano' estão com a casa decimal correta (ponto)\n",
    "# obs.: não consegui rodar nenhum comando com a casa decimal no formato 'virgula'\n",
    "\n",
    "df_tec.head(3)"
   ]
  },
  {
   "cell_type": "code",
   "execution_count": 11,
   "id": "fb554419-1d34-4a37-a168-6ac174877a98",
   "metadata": {},
   "outputs": [
    {
     "data": {
      "text/plain": [
       "CNPJ                      0\n",
       "Código Nacional           0\n",
       "Município                 0\n",
       "UF                        0\n",
       "Modalidade de Cobrança    0\n",
       "Tecnologia                0\n",
       "Tecnologia Geração        0\n",
       "Empresa                   0\n",
       "Porte da Prestadora       0\n",
       "Tipo de Pessoa            0\n",
       "Tipo de Produto           0\n",
       "Código IBGE Município     0\n",
       "Grupo Econômico           0\n",
       "2022-01                   0\n",
       "2022-02                   0\n",
       "2022-03                   0\n",
       "2022-04                   0\n",
       "2022-05                   0\n",
       "2022-06                   0\n",
       "2022-07                   0\n",
       "2022-08                   0\n",
       "2022-09                   0\n",
       "2022-10                   0\n",
       "2022-11                   0\n",
       "2022-12                   0\n",
       "soma_meses                0\n",
       "media_ano                 0\n",
       "dtype: int64"
      ]
     },
     "execution_count": 11,
     "metadata": {},
     "output_type": "execute_result"
    }
   ],
   "source": [
    "# vendo se temos Not a Number (NaN)\n",
    "\n",
    "df_tec.isna().sum()\n",
    "\n",
    "# não temos NaN"
   ]
  },
  {
   "cell_type": "markdown",
   "id": "63888004-43a2-4929-8cbe-a0f46831cd13",
   "metadata": {},
   "source": [
    "## Compreendendo o que são as colunas e variáveis que vamos analisar"
   ]
  },
  {
   "cell_type": "code",
   "execution_count": 12,
   "id": "adceca67-c530-45a6-bc1e-cb5556e95ae7",
   "metadata": {},
   "outputs": [
    {
     "data": {
      "text/plain": [
       "Index(['CNPJ', 'Código Nacional', 'Município', 'UF', 'Modalidade de Cobrança',\n",
       "       'Tecnologia', 'Tecnologia Geração', 'Empresa', 'Porte da Prestadora',\n",
       "       'Tipo de Pessoa', 'Tipo de Produto', 'Código IBGE Município',\n",
       "       'Grupo Econômico', '2022-01', '2022-02', '2022-03', '2022-04',\n",
       "       '2022-05', '2022-06', '2022-07', '2022-08', '2022-09', '2022-10',\n",
       "       '2022-11', '2022-12', 'soma_meses', 'media_ano'],\n",
       "      dtype='object')"
      ]
     },
     "execution_count": 12,
     "metadata": {},
     "output_type": "execute_result"
    }
   ],
   "source": [
    "# vendo que tipo de informações temos no nosso dataframe quando o assunto é tecnologia \n",
    "\n",
    "df_tec.columns"
   ]
  },
  {
   "cell_type": "markdown",
   "id": "57fd7528-f2d8-498e-9d1c-572047ce9d60",
   "metadata": {},
   "source": [
    "### Estudando essas tecnologias (LTE, GSM etc.)"
   ]
  },
  {
   "cell_type": "code",
   "execution_count": 13,
   "id": "7d051c78-973a-4547-b7b7-65cafd6e1725",
   "metadata": {},
   "outputs": [
    {
     "data": {
      "text/plain": [
       "Tecnologia\n",
       "LTE           257120\n",
       "GSM           195426\n",
       "WCDMA         180081\n",
       "NR              1163\n",
       "NR NSA           701\n",
       "CDMA IS 95        85\n",
       "Name: count, dtype: int64"
      ]
     },
     "execution_count": 13,
     "metadata": {},
     "output_type": "execute_result"
    }
   ],
   "source": [
    "df_tec['Tecnologia'].value_counts()\n",
    "# este count traz apenas o numero de linhas em que a tecnologia foi citada (não tem relação \n",
    "# com a nossa variável 'media_ano')"
   ]
  },
  {
   "cell_type": "markdown",
   "id": "d1c486f2-9e71-4768-bf46-fd80d5de2191",
   "metadata": {},
   "source": [
    "LTE: A tecnologia 4G LTE funciona desde 2013 no território brasileiro, e são várias as faixas de frequência utilizadas por operadoras como Claro, Oi, TIM e Vivo. (...) nem todas as faixas estão disponíveis no Brasil inteiro ou por todas as operadoras; a adoção e licenciamento variam conforme a localidade.\n",
    "Fonte: https://tecnoblog.net/responde/quais-as-bandas-de-4g-no-brasil-saiba-a-da-sua-cidade/\n",
    "\n",
    "GSM: GSM (sigla para Global System for Mobile Communications) é um padrão de telefonia móvel 2G. De acordo com dados da Anatel, em março de 2012, a tecnologia GSM era a mais utilizada no Brasil, estando presente em 78,75% dos 250 milhões de linhas. Fonte: https://tecnoblog.net/sobre/gsm/\n",
    "\n",
    "WCDMA: O acesso múltiplo à divisão de código de banda larga (WCDMA na sigla em inglês) é uma tecnologia de comunicação sem fio de terceira geração (3G) padrão usada para redes móveis digitais. Também conhecida como wideband CDMA, é um método de acesso a canal que permite que vários transmissores enviem voz e dados simultaneamente pelo mesmo canal de comunicação. O WCDMA usa tecnologia de espectro de difusão, que permite que vários usuários compartilhem a largura de banda sem interferência. Fonte: https://www.capterra.com.br/glossary/320/wcdma-wideband-code-division-multiple-access#:~:text=O%20acesso%20m%C3%BAltiplo%20%C3%A0%20divis%C3%A3o,usada%20para%20redes%20m%C3%B3veis%20digitais.\n",
    "\n",
    "NR: Tecnologia atrelado ao 5G. Com fase de testes em laboratório iniciada por volta de 2014, o 5G é a quinta geração de internet móvel, como seu nome sugere, também identificada pela sigla NR (New Radio, ou Novo Rádio, em tradução livre). A rede foi desenvolvida ao longo da década de 2010 com objetivos ambiciosos, visando aumentar em mais de 10 vezes a velocidade de conexão comparado ao 4G LTE (Long Term Evolution, ou Evolução de Longo Prazo). (...) O 5G NR, também conhecido como \"5G puro\", estreou no Brasil em julho de 2022, com o início das operações de Claro, Tim e Vivo em Brasília oferecendo 80% de cobertura na cidade, e será gradualmente implementado nas principais capitais do país, incluindo São Paulo, Belo Horizonte, Porto Alegre e João Pessoa, nos meses seguintes. Fonte: https://canaltech.com.br/telecom/o-que-e-5g-37077/\n",
    "\n",
    "NR NSA: O NRA NSA (Non Stand Alone) é o mesmo que o 5G non stand alone. Vide abaixo (tecologia de geração para compreender).\n",
    "O 5G NSA utiliza núcleos das conexões de rede 4G, o que garante uma expansão mais rápida que a versão 100% pura da conexão, mas reduz o desempenho quando o assunto é latência. Ou seja, diferente do 5G SA, a versão non-standalone abre mão de um tempo de resposta ultrarrápido para entregar internet de alta velocidade, na casa dos gigabits por segundo, para mais usuários, já que ainda se aproveita de infraestrutura do 4G. Fonte: https://www.tecmundo.com.br/internet/242765-diferenca-5g-sa-5g-nsa-5g-dss.htm\n",
    "\n",
    "CDMA IS 95: O CDMA (Code Division Multiple Access) defendia a técnica de espalhamento espectral (spread spectrum), na qual, para um determinado canal, seria usada toda a largura de banda disponível (1,23MHz), muitas vezes maior do que necessária, a princípio, para a transmissão de um único sinal. O CDMA foi desenvolvido conforme a família de normas da TIA IS-95, da\r\n",
    "Telecommunications Industry Association dos Estados Unido, que \r\n",
    "padronizou os sistemas celulares digitais de segunda geração\r\n",
    "conhecidos popularmente como CDMA, ou cdma One e que  ão\r\n",
    "baseados no IS-95. Esta tecolo\r\n",
    "gia f i em\r\n",
    "grande parte\r\n",
    "desenvolvida pela empresa americana Qu Fonte: Anatel e https://instrutorcarlos.yolasite.com/resources/07%20Tecnologia%20CDMA.pdfaptops."
   ]
  },
  {
   "cell_type": "code",
   "execution_count": null,
   "id": "88751836-78db-452d-9287-d1b52d2e29b1",
   "metadata": {},
   "outputs": [],
   "source": [
    "# nao vamos nos aprofundar na teoria por trás dessas tecnologias\n",
    "# mas, caso sejamos perguntadas, temos como dizer qual a tecnologia dominante no Brasil\n",
    "\n",
    "tec_tipo = pd.DataFrame(df_tec.groupby(['Tecnologia']).sum()['media_ano'])\n",
    "\n",
    "# no Brasil, em 2022, a tecnologia predominante é a LTE (78% dos acessos), que é justamente a tecnologia\n",
    "# que roda o sinal 4G"
   ]
  },
  {
   "cell_type": "code",
   "execution_count": null,
   "id": "b5324835-629f-4a5c-a16d-be0633bfbf2e",
   "metadata": {},
   "outputs": [],
   "source": [
    "tec_tipo['percentual'] = round(tec_tipo['media_ano'] / tec_tipo['media_ano'].sum() *100, 2)\n",
    "tec_tipo['ano'] = ano"
   ]
  },
  {
   "cell_type": "code",
   "execution_count": null,
   "id": "4a40e59a-ecbf-4288-856c-84c56da7105e",
   "metadata": {},
   "outputs": [],
   "source": [
    "tec_tipo"
   ]
  },
  {
   "cell_type": "code",
   "execution_count": null,
   "id": "63f4a66d-a79c-4dac-9f23-a9867b21bf38",
   "metadata": {},
   "outputs": [],
   "source": [
    "tec_tipo.to_csv(\"tec_2022_tipo.csv\", sep=';', decimal = \",\", encoding='utf-8')"
   ]
  },
  {
   "cell_type": "markdown",
   "id": "f79cd5a6-1543-44b6-8433-ce4a557ff545",
   "metadata": {},
   "source": [
    "### Estudando essas tecnologias de geração (5G, 4G etc.)"
   ]
  },
  {
   "cell_type": "code",
   "execution_count": null,
   "id": "c701d581-8073-4e0e-aa3e-225c294ba33f",
   "metadata": {},
   "outputs": [],
   "source": [
    "df_tec['Tecnologia Geração'].value_counts()\n",
    "# este count traz apenas o numero de linhas em que a tecnologia foi citada (não tem relação \n",
    "# com a nossa variável 'media_ano')"
   ]
  },
  {
   "cell_type": "markdown",
   "id": "33c97e61-5b31-4973-8ab0-549a26e8a3dc",
   "metadata": {},
   "source": [
    "Temos 5 tipos de 'tecnologia geração':\n",
    "\n",
    "As tecnologias 5G se dividem em 2 modalidades: 5G standalone (SA) e o non-standalone (NSA). A rede 5G standalone ou popularmente conhecida como rede 5G pura, é um sinal que depende apenas de equipamentos com a tecnologia 5G de transmissão para disponibilizar a rede de dados móvel mais recente. Em contrapartida, o 5G non-standalone depende de uma arquitetura (tecnologia) que reaproveita equipamentos e estrutura até então utilizados no 4G para emitir o sinal 5G e, por esse motivo, não consegue muitas vezes entregar ao usuário os 10 Gbps (Gigabits por segundo) como é o padrão difundido pela imprensa como padrão dessa tecnologia.\n",
    "\n",
    "5G standalone (SA): A rede 5G SA é uma arquitetura nativa do 5G, desenvolvida desde o início com base nos padrões do 5G. Ela não depende de elementos criados para o 4G, permitindo uma arquitetura totalmente independente e otimizada para a nova geração.\n",
    "\n",
    "5G Non-Standalone (NSA): A rede 5G NSA depende de uma implementação que utiliza elementos da rede 4G existente. Ela depende das infraestruturas do 4G para funcionar, com o 5G sendo utilizado principalmente para fornecer velocidade mais rápida e menor latência, mas sem todo o potencial do 5G SA.\n",
    "\n",
    "Fonte: https://olhardigital.com.br/2023/07/04/internet-e-redes-sociais/qual-a-diferenca-entre-5g-standalone-sa-e-non-standalone-nsa/"
   ]
  },
  {
   "cell_type": "markdown",
   "id": "e3e8f75b-cf15-4a62-99e8-54f2eedbd538",
   "metadata": {},
   "source": [
    "## Relevância das diferentes tecnologias de geração no Brasil"
   ]
  },
  {
   "cell_type": "code",
   "execution_count": null,
   "id": "b575d20b-3f30-47a3-a255-6b681f3a8d6a",
   "metadata": {},
   "outputs": [],
   "source": [
    "# criando um dataframe que agrupa os dados por 'Tecnologia da Geração'\n",
    "\n",
    "tec_geracao = pd.DataFrame(df_tec.groupby(['Tecnologia Geração']).sum()['media_ano'])"
   ]
  },
  {
   "cell_type": "code",
   "execution_count": null,
   "id": "a19afdde-0620-498a-a100-5932ce6328b7",
   "metadata": {},
   "outputs": [],
   "source": [
    "# criando a coluna que contém o percentual que cada tecnologia ocupa na oferta total de serviços (acessos)\n",
    "# no Brasil\n",
    "\n",
    "tec_geracao['percentual'] = round(tec_geracao['media_ano'] / tec_geracao['media_ano'].sum() *100, 2)"
   ]
  },
  {
   "cell_type": "code",
   "execution_count": null,
   "id": "c9953b8b-3071-408d-b041-d59b1ba4acc7",
   "metadata": {},
   "outputs": [],
   "source": [
    "# criando a coluna 'ano'\n",
    "tec_geracao['ano'] = ano"
   ]
  },
  {
   "cell_type": "code",
   "execution_count": null,
   "id": "21c9b87a-8ecd-4a55-8062-94ad5a3ac987",
   "metadata": {},
   "outputs": [],
   "source": [
    "# visualizando os dados\n",
    "\n",
    "tec_geracao"
   ]
  },
  {
   "cell_type": "code",
   "execution_count": null,
   "id": "dbc69b13-7006-4c78-ae1f-5f1d80234de5",
   "metadata": {},
   "outputs": [],
   "source": [
    "# exportando nosso dataframe para um arquivo csv (para construirmos séries temporais)\n",
    "\n",
    "tec_geracao.to_csv(\"tec_2022_geracao.csv\", sep=';', decimal = \",\", encoding='utf-8')"
   ]
  },
  {
   "cell_type": "markdown",
   "id": "b71b55ed-81d7-439b-8e22-5a62f563e4d5",
   "metadata": {},
   "source": [
    "## Tecnologia geração x pré/pós pago"
   ]
  },
  {
   "cell_type": "code",
   "execution_count": null,
   "id": "031fb7f1-a05c-4bc4-9af8-282830cbc02b",
   "metadata": {},
   "outputs": [],
   "source": [
    "print(df_tec['Modalidade de Cobrança'].unique())\n",
    "print(df_tec['Tipo de Produto'].unique())"
   ]
  },
  {
   "cell_type": "code",
   "execution_count": null,
   "id": "53187ec9-0ac7-4915-a173-3e71d3741966",
   "metadata": {},
   "outputs": [],
   "source": [
    "tec_modalidade = pd.DataFrame(df_tec.groupby(['Tecnologia Geração', 'Modalidade de Cobrança']).sum()['media_ano'])"
   ]
  },
  {
   "cell_type": "code",
   "execution_count": null,
   "id": "c6c7b0d8-c164-4e7f-99b9-91ca473a5338",
   "metadata": {},
   "outputs": [],
   "source": [
    "tec_modalidade['percentual'] = round((tec_modalidade['media_ano'] / tec_modalidade.groupby('Tecnologia Geração').sum()['media_ano']) * 100, 2)"
   ]
  },
  {
   "cell_type": "code",
   "execution_count": null,
   "id": "7e27ce09-0fea-4df0-a9cb-3dfd1c5a85e4",
   "metadata": {},
   "outputs": [],
   "source": [
    "tec_modalidade['ano'] = ano"
   ]
  },
  {
   "cell_type": "code",
   "execution_count": null,
   "id": "0f4dc988-ea59-4e02-a5f9-61c73c508777",
   "metadata": {},
   "outputs": [],
   "source": [
    "# exportando nosso dataframe para um arquivo csv (para construirmos séries temporais)\n",
    "\n",
    "tec_modalidade.to_csv(\"tec_2022_modalidade.csv\", sep=';', decimal = \",\", encoding='utf-8')"
   ]
  },
  {
   "cell_type": "markdown",
   "id": "feca57d7-cd60-48d9-9192-e277daf764ab",
   "metadata": {},
   "source": [
    "## Oferta de tecnologia 5G (stand alone)"
   ]
  },
  {
   "cell_type": "code",
   "execution_count": null,
   "id": "03cf331b-d9bc-4729-ab5a-40630fe3109e",
   "metadata": {},
   "outputs": [],
   "source": [
    "# vendo quais estados e municipios ofertam a tecnologia 5G stand alone (a tecnologia mais de ponta) e colocando\n",
    "# o resultando em uma variavel chamada 'tec_5g'\n",
    "\n",
    "tec_5g = df_tec.query('`Tecnologia Geração` == \"5G\"').loc[:, ['Código Nacional', 'UF', 'Município',  \n",
    "        'Tecnologia', 'Tecnologia Geração', 'Empresa', 'Grupo Econômico', 'media_ano']]\n",
    "tec_5g.head()"
   ]
  },
  {
   "cell_type": "markdown",
   "id": "4f0bb7cb-6f12-48cb-914e-7c663fdfa114",
   "metadata": {},
   "source": [
    "### Tecnologia 5G Pura por estado"
   ]
  },
  {
   "cell_type": "code",
   "execution_count": null,
   "id": "8aece1c9-687d-46a4-975a-7922ac3b8e23",
   "metadata": {},
   "outputs": [],
   "source": [
    "# filtrando a tecnologia 5g (stand alone) por estado\n",
    "\n",
    "tec_5g_por_estado = round(pd.DataFrame(tec_5g.groupby(['UF']).sum()[\"media_ano\"]), 2)\n",
    "tec_5g_por_estado"
   ]
  },
  {
   "cell_type": "code",
   "execution_count": null,
   "id": "a2ca903f-e5e0-4095-b05b-7ebd3acdb8dd",
   "metadata": {},
   "outputs": [],
   "source": [
    "# criando uma nova coluna para ver a distribuição percentual da tecnologia 5G no Brasil\n",
    "\n",
    "tec_5g_por_estado['percentual'] = round(tec_5g_por_estado['media_ano'] / tec_5g_por_estado['media_ano'].sum() *100, 2)"
   ]
  },
  {
   "cell_type": "code",
   "execution_count": null,
   "id": "ea6eb442-386a-4859-a41c-5651b4effd0a",
   "metadata": {},
   "outputs": [],
   "source": [
    "# criando nova coluna com o ano\n",
    "\n",
    "tec_5g_por_estado['ano'] = ano"
   ]
  },
  {
   "cell_type": "code",
   "execution_count": null,
   "id": "9329e8b8-393e-470f-98c3-946ee8009e80",
   "metadata": {},
   "outputs": [],
   "source": [
    "# visualizando os dados em ordem descrecente (não vamos salvar isso como variável porque esses dados \n",
    "# entrarão em uma série temporal)\n",
    "\n",
    "pd.DataFrame(tec_5g_por_estado['percentual'].sort_values(ascending=False))\n",
    "\n",
    "# Em 2022, SP, RJ, DF, MG e PR estão no Top 5 estados em termos de oferta, por número de acesso (chips vigentes), \n",
    "# da tecnologia 5G (exclusiva 5G)"
   ]
  },
  {
   "cell_type": "code",
   "execution_count": null,
   "id": "0f6c5e5f-1b89-4aee-b5d2-ce8641eeba77",
   "metadata": {},
   "outputs": [],
   "source": [
    "# vendo nossos dados\n",
    "\n",
    "tec_5g_por_estado.head(5)"
   ]
  },
  {
   "cell_type": "code",
   "execution_count": null,
   "id": "e3f5052d-cdcf-47ad-8d98-b37349650e6e",
   "metadata": {},
   "outputs": [],
   "source": [
    "# exportar um dataframe para acompanhar a expansão do 5G no Brasil? \n",
    "# como começou em 2022, tavez apenas os anos de 2022 e 2023 tenham esses dados, e talvez em 2020 e \n",
    "# 2021, em fase de testes\n",
    "# talvez não precisemos fazer uma série temporal, mas sim um 'retrato' de como estamos hoje\n",
    "\n",
    "# alterar o ano que constará no mome do arquivo\n",
    "\n",
    "tec_5g_por_estado.to_csv(\"tec_2022_5g_por_estado.csv\", sep=';', decimal = \",\", encoding='utf-8')"
   ]
  },
  {
   "cell_type": "markdown",
   "id": "9a05ad05-58b8-458c-a9d6-bf1551f1e3fd",
   "metadata": {},
   "source": [
    "### Tecnologia 5G Pura por município"
   ]
  },
  {
   "cell_type": "code",
   "execution_count": null,
   "id": "e168aabb-c342-405d-b865-9251dc40c54c",
   "metadata": {},
   "outputs": [],
   "source": [
    "# a tecnologia 5G começou a ser implementada no Brasil em 2022\n",
    "\n",
    "# não vamos fazer uma série histórica, mas apenas ver um 'retrato' de quais municípios detinham a tecnologia\n",
    "# em 2022 2 2023\n",
    "\n",
    "# para quem pegou anos anteriores a esse, comentem esta célula para não rodar o comando (se rodar, como não deve ter\n",
    "# as variáveis que chamamos, deve dar erro)\n",
    "\n",
    "# Vamos fazer um Top 10 dos municípios que mais tinham acessos de 5G pura no ano:\n",
    "\n",
    "tec_5g_por_municipio = round(pd.DataFrame(tec_5g.groupby(['Município']).sum()[\"media_ano\"]), 2)\n",
    "tec_5g_por_municipio['percentual'] = round(tec_5g_por_municipio['media_ano'] / tec_5g_por_municipio['media_ano'].sum() *100, 2)\n",
    "tec_5g_por_municipio = pd.DataFrame(tec_5g_por_municipio['percentual'].sort_values(ascending=False))"
   ]
  },
  {
   "cell_type": "code",
   "execution_count": null,
   "id": "dba4d304-4709-49c0-a9e5-4b393323a09d",
   "metadata": {},
   "outputs": [],
   "source": [
    "# criando nova coluna com o ano\n",
    "\n",
    "tec_5g_por_municipio['ano'] = ano"
   ]
  },
  {
   "cell_type": "code",
   "execution_count": null,
   "id": "edd51aed-c291-4548-b834-c2a967a19a16",
   "metadata": {},
   "outputs": [],
   "source": [
    "# vendo os Top 10 dos munciípios com tecnologia 5G Pura\n",
    "\n",
    "tec_5g_por_municipio.head(11)"
   ]
  },
  {
   "cell_type": "code",
   "execution_count": null,
   "id": "16e5e86f-af3d-49a2-abfa-a11cbef74b67",
   "metadata": {},
   "outputs": [],
   "source": [
    "# exportando os municípios com tecnologia 5G Pura para um arquivo csv\n",
    "\n",
    "tec_5g_por_municipio.to_csv(\"tec_2022_5g_por_municipio.csv\", sep=';', decimal = \",\", encoding='utf-8')"
   ]
  },
  {
   "cell_type": "markdown",
   "id": "387f0052-dc7a-4584-aa1b-fe0dfc74a800",
   "metadata": {},
   "source": [
    "## Transformando os dataframes obtidos em arquivos 'csv'"
   ]
  },
  {
   "cell_type": "code",
   "execution_count": null,
   "id": "b8204e84-deeb-4148-898e-e8c4cecedc57",
   "metadata": {},
   "outputs": [],
   "source": [
    "# Transformamos os seguintes arquivos em csv (para que possamos fazer a linha do tempo dos anos):\n",
    "\n",
    "# tec_2022_tipo.csv\n",
    "# tec_2022_geracao.csv\n",
    "# tec_2022_modalidade.csv\n",
    "# tec_2022_5g_por_estado.csv (nem todas terão este arquivo)\n",
    "# tec_2022_5g_por_municipio.csv (nem todas terão este arquivo)"
   ]
  }
 ],
 "metadata": {
  "kernelspec": {
   "display_name": "Python 3 (ipykernel)",
   "language": "python",
   "name": "python3"
  },
  "language_info": {
   "codemirror_mode": {
    "name": "ipython",
    "version": 3
   },
   "file_extension": ".py",
   "mimetype": "text/x-python",
   "name": "python",
   "nbconvert_exporter": "python",
   "pygments_lexer": "ipython3",
   "version": "3.11.5"
  }
 },
 "nbformat": 4,
 "nbformat_minor": 5
}
