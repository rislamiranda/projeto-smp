{
 "cells": [
  {
   "cell_type": "code",
   "execution_count": null,
   "id": "adb859f3-d338-430c-b477-7138ce108b63",
   "metadata": {},
   "outputs": [],
   "source": [
    "import os\n",
    "import glob\n",
    "\n",
    "def lista_arquivos_csv(diretorio='./data/Todos_dados/'):\n",
    "    return(glob.glob(os.path.join(diretorio, '*.csv')))\n",
    "\n",
    "def ano_arquivo(nome_arquivo):\n",
    "    parte6 = (nome_arquivo.split('_')[6])\n",
    "    \n",
    "    if  (parte6).isdecimal():\n",
    "        return parte6\n",
    "    else:\n",
    "        return (nome_arquivo.split('-')[5])"
   ]
  },
  {
   "cell_type": "code",
   "execution_count": null,
   "id": "6bee7b77-66ff-4484-818b-04a049e0dba7",
   "metadata": {},
   "outputs": [],
   "source": [
    "def le_baseRS():\n",
    "    df_consolidado = DataFrame()\n",
    "    for arquivo in lista_arquivos_csv():\n",
    "        ano = ano_arquivo(arquivo)\n",
    "        df_ano = pd.read_csv(arquivo,sheet_name=ano, skiprows=10, header=1,nrows=497)\n",
    "        df_ano['ano']=ano\n",
    "        df_consolidado = pd.concat([df_consolidado,df_ano])\n",
    "    return df_consolidado\n",
    "\n",
    "df_crimesRS = le_baseRS()"
   ]
  }
 ],
 "metadata": {
  "kernelspec": {
   "display_name": "Python 3 (ipykernel)",
   "language": "python",
   "name": "python3"
  },
  "language_info": {
   "codemirror_mode": {
    "name": "ipython",
    "version": 3
   },
   "file_extension": ".py",
   "mimetype": "text/x-python",
   "name": "python",
   "nbconvert_exporter": "python",
   "pygments_lexer": "ipython3",
   "version": "3.11.5"
  }
 },
 "nbformat": 4,
 "nbformat_minor": 5
}
