{
 "cells": [
  {
   "cell_type": "markdown",
   "id": "45d26247-03aa-4135-9766-736b203f2d5f",
   "metadata": {},
   "source": [
    "# Código para combinar arquivos CSV"
   ]
  },
  {
   "cell_type": "code",
   "execution_count": 13,
   "id": "a597b8f3-f2e8-457b-8cef-18756f1ee256",
   "metadata": {},
   "outputs": [
    {
     "name": "stdin",
     "output_type": "stream",
     "text": [
      "Por favor, informe o diretório onde estão os arquivos CSV a serem combinados: D:\\cv\\BootCamp\\Projeto\\data\\\n"
     ]
    },
    {
     "name": "stdout",
     "output_type": "stream",
     "text": [
      "\n",
      "\n",
      "\u001b[1m\u001b[2mEtapas do Processo de Combinação dos arquivos CSV\u001b[0m\n",
      "--------------------\n",
      "\u001b[1m1a Etapa: Identificação da lista dos arquivos que serão combinados:\u001b[0m ['Acessos_Telefonia_Movel_201901-201906_Colunas.csv', 'Acessos_Telefonia_Movel_201907-201912_Colunas.csv', 'Acessos_Telefonia_Movel_202001-202006_Colunas.csv', 'Acessos_Telefonia_Movel_202007-202012_Colunas.csv', 'Acessos_Telefonia_Movel_202101-202106_Colunas.csv', 'Acessos_Telefonia_Movel_202107-202112_Colunas.csv', 'Acessos_Telefonia_Movel_202201-202106_Colunas.csv', 'Acessos_Telefonia_Movel_202201-202206_Colunas.csv', 'Acessos_Telefonia_Movel_202207-202212_Colunas.csv', 'Acessos_Telefonia_Movel_202301-202306_Colunas.csv', 'Acessos_Telefonia_Movel_202307-202312_Colunas.csv']  \n",
      " totalizando  11  arquivos!\n",
      "\n",
      "\n",
      "\n",
      "\u001b[1m 2a Etapa: Combinação dos arquivos:\u001b[0m \n",
      " \n",
      "O arquivo Acessos_Telefonia_Movel_201901-201906_Colunas.csv está sendo combinado no arquivo \u001b[1mDados_Acessos_Telefonia_Movel_Combinados.csv!\u001b[0m\n",
      "O arquivo Acessos_Telefonia_Movel_201907-201912_Colunas.csv está sendo combinado no arquivo \u001b[1mDados_Acessos_Telefonia_Movel_Combinados.csv!\u001b[0m\n",
      "O arquivo Acessos_Telefonia_Movel_202001-202006_Colunas.csv está sendo combinado no arquivo \u001b[1mDados_Acessos_Telefonia_Movel_Combinados.csv!\u001b[0m\n",
      "O arquivo Acessos_Telefonia_Movel_202007-202012_Colunas.csv está sendo combinado no arquivo \u001b[1mDados_Acessos_Telefonia_Movel_Combinados.csv!\u001b[0m\n",
      "O arquivo Acessos_Telefonia_Movel_202101-202106_Colunas.csv está sendo combinado no arquivo \u001b[1mDados_Acessos_Telefonia_Movel_Combinados.csv!\u001b[0m\n",
      "O arquivo Acessos_Telefonia_Movel_202107-202112_Colunas.csv está sendo combinado no arquivo \u001b[1mDados_Acessos_Telefonia_Movel_Combinados.csv!\u001b[0m\n",
      "O arquivo Acessos_Telefonia_Movel_202201-202106_Colunas.csv está sendo combinado no arquivo \u001b[1mDados_Acessos_Telefonia_Movel_Combinados.csv!\u001b[0m\n",
      "O arquivo Acessos_Telefonia_Movel_202201-202206_Colunas.csv está sendo combinado no arquivo \u001b[1mDados_Acessos_Telefonia_Movel_Combinados.csv!\u001b[0m\n",
      "O arquivo Acessos_Telefonia_Movel_202207-202212_Colunas.csv está sendo combinado no arquivo \u001b[1mDados_Acessos_Telefonia_Movel_Combinados.csv!\u001b[0m\n",
      "O arquivo Acessos_Telefonia_Movel_202301-202306_Colunas.csv está sendo combinado no arquivo \u001b[1mDados_Acessos_Telefonia_Movel_Combinados.csv!\u001b[0m\n",
      "O arquivo Acessos_Telefonia_Movel_202307-202312_Colunas.csv está sendo combinado no arquivo \u001b[1mDados_Acessos_Telefonia_Movel_Combinados.csv!\u001b[0m\n",
      "\n",
      "\n",
      "\u001b[1m3a Etapa: Finalização do processo de combinação dos arquivos:\u001b[0m \n",
      " \n",
      "O arquivo \u001b[1mDados_Acessos_Telefonia_Movel_Combinados.csv\u001b[0m que contém todos os dados está localizado em:  D:\\cv\\BootCamp\\Projeto\\data\\\n"
     ]
    }
   ],
   "source": [
    "# Importando as bibliotecas necessárias\n",
    "import os\n",
    "import pandas as pd\n",
    "\n",
    "# Diretório onde os arquivos CSV estão localizados\n",
    "#diretorio = \"D:\\cv\\BootCamp\\Projeto\\data\\\"\n",
    "diretorio = input(\"Por favor, informe o diretório onde estão os arquivos CSV a serem combinados:\")\n",
    "print(\"\\n\")\n",
    "\n",
    "# Gera uma lista de arquivos CSV presentes no dirtório\n",
    "arquivos = os.listdir(diretorio)\n",
    "print(\"\\033[1m\\033[2mEtapas do Processo de Combinação dos arquivos CSV\\033[0m\")\n",
    "print(\"--------------------\")\n",
    "\n",
    "print(\"\\033[1m1a Etapa: Identificação da lista dos arquivos que serão combinados:\\033[0m\", arquivos, \" \\n totalizando \",len(arquivos), \" arquivos!\")\n",
    "print(\"\\n\\n\")\n",
    "\n",
    "# Cria uma lista para guardar os dataframes\n",
    "dataframes = []\n",
    "\n",
    "print(\"\\033[1m 2a Etapa: Combinação dos arquivos:\\033[0m \\n \")\n",
    "\n",
    "# Interação com os arquivos CSV\n",
    "for arquivo in arquivos:\n",
    "\n",
    "    print (\"O arquivo \" + arquivo + \" está sendo combinado no arquivo \\033[1mDados_Acessos_Telefonia_Movel_Combinados.csv!\\033[0m\")\n",
    "    \n",
    "    # Lê o arquivo CSV e adiciona dentro do dataframe\n",
    "    dataframe = pd.read_csv(os.path.join(diretorio, arquivo))\n",
    "\n",
    "    # Adiciona o dataframe a lista de dataframes\n",
    "    dataframes.append(dataframe)\n",
    "\n",
    "# Concatena os DataFrames\n",
    "DataframeCombinado = pd.concat(dataframes)\n",
    "\n",
    "# Escreve os dados dentro do arquivo CSV combinado\n",
    "DataframeCombinado.to_csv(diretorio + \"Dados_Acessos_Telefonia_Movel_Combinados.csv\")\n",
    "\n",
    "print(\"\\n\")\n",
    "print(\"\\033[1m3a Etapa: Finalização do processo de combinação dos arquivos:\\033[0m \\n \")\n",
    "print(\"O arquivo \\033[1mDados_Acessos_Telefonia_Movel_Combinados.csv\\033[0m que contém todos os dados está localizado em: \", diretorio)\n"
   ]
  },
  {
   "cell_type": "code",
   "execution_count": null,
   "id": "e234d394-023d-4b1a-8e0f-47a945e7c2e8",
   "metadata": {},
   "outputs": [],
   "source": []
  }
 ],
 "metadata": {
  "kernelspec": {
   "display_name": "Python 3 (ipykernel)",
   "language": "python",
   "name": "python3"
  },
  "language_info": {
   "codemirror_mode": {
    "name": "ipython",
    "version": 3
   },
   "file_extension": ".py",
   "mimetype": "text/x-python",
   "name": "python",
   "nbconvert_exporter": "python",
   "pygments_lexer": "ipython3",
   "version": "3.11.5"
  }
 },
 "nbformat": 4,
 "nbformat_minor": 5
}
