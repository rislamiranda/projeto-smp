{
 "cells": [
  {
   "cell_type": "markdown",
   "id": "565badb9-470c-429e-ad3d-2fa7bc79dad3",
   "metadata": {},
   "source": [
    "# Testando gráfico para análise da evolução da tecnologia geração"
   ]
  },
  {
   "cell_type": "code",
   "execution_count": 1,
   "id": "48b3c9ce-1c37-4f74-9823-18c7086c1f02",
   "metadata": {},
   "outputs": [],
   "source": [
    "# caderno da bia (27/10/2023)"
   ]
  },
  {
   "cell_type": "code",
   "execution_count": 2,
   "id": "b06adf28-e899-40fe-8d6a-b58f48cd8bd6",
   "metadata": {},
   "outputs": [],
   "source": [
    "# !pip install matplotlib"
   ]
  },
  {
   "cell_type": "code",
   "execution_count": 3,
   "id": "d3ca5809-7a7a-46eb-9714-af76ea650e33",
   "metadata": {},
   "outputs": [],
   "source": [
    "# !pip install plotly"
   ]
  },
  {
   "cell_type": "code",
   "execution_count": 4,
   "id": "6fbe93f6-c260-4154-81d8-81972e308d6c",
   "metadata": {},
   "outputs": [],
   "source": [
    "import pandas as pd\n",
    "import matplotlib.pyplot as plt\n",
    "import plotly.express as px"
   ]
  },
  {
   "cell_type": "code",
   "execution_count": 5,
   "id": "da9d261d-f2dd-464d-b57c-c46a42be7f86",
   "metadata": {},
   "outputs": [],
   "source": [
    "# arquivo = './Bootcamp Enap/projeto-smp/df_tec_geracao.csv'\n",
    "\n",
    "df = pd.read_csv('./df_tec_geracao.csv', sep=';')"
   ]
  },
  {
   "cell_type": "code",
   "execution_count": 6,
   "id": "18114091-d1d8-4a44-ba57-a3eec0ddec1d",
   "metadata": {},
   "outputs": [
    {
     "name": "stdout",
     "output_type": "stream",
     "text": [
      "69\n",
      "(69, 5)\n"
     ]
    }
   ],
   "source": [
    "print(len(df))\n",
    "print(df.shape)"
   ]
  },
  {
   "cell_type": "code",
   "execution_count": 7,
   "id": "1a6a56b4-ea83-4bce-850d-8738fed7fbb4",
   "metadata": {},
   "outputs": [
    {
     "data": {
      "text/html": [
       "<div>\n",
       "<style scoped>\n",
       "    .dataframe tbody tr th:only-of-type {\n",
       "        vertical-align: middle;\n",
       "    }\n",
       "\n",
       "    .dataframe tbody tr th {\n",
       "        vertical-align: top;\n",
       "    }\n",
       "\n",
       "    .dataframe thead th {\n",
       "        text-align: right;\n",
       "    }\n",
       "</style>\n",
       "<table border=\"1\" class=\"dataframe\">\n",
       "  <thead>\n",
       "    <tr style=\"text-align: right;\">\n",
       "      <th></th>\n",
       "      <th>Unnamed: 0</th>\n",
       "      <th>Tecnologia Geração</th>\n",
       "      <th>media_ano</th>\n",
       "      <th>percentual</th>\n",
       "      <th>ano</th>\n",
       "    </tr>\n",
       "  </thead>\n",
       "  <tbody>\n",
       "    <tr>\n",
       "      <th>0</th>\n",
       "      <td>0</td>\n",
       "      <td>1G</td>\n",
       "      <td>5740,45</td>\n",
       "      <td>0,003543340898983565</td>\n",
       "      <td>2009</td>\n",
       "    </tr>\n",
       "    <tr>\n",
       "      <th>1</th>\n",
       "      <td>1</td>\n",
       "      <td>2G</td>\n",
       "      <td>157632264,71</td>\n",
       "      <td>97,29983721595812</td>\n",
       "      <td>2009</td>\n",
       "    </tr>\n",
       "    <tr>\n",
       "      <th>2</th>\n",
       "      <td>2</td>\n",
       "      <td>3G</td>\n",
       "      <td>4368704,43</td>\n",
       "      <td>2,6966194431429042</td>\n",
       "      <td>2009</td>\n",
       "    </tr>\n",
       "    <tr>\n",
       "      <th>3</th>\n",
       "      <td>3</td>\n",
       "      <td>4G</td>\n",
       "      <td>0,0</td>\n",
       "      <td>0,0</td>\n",
       "      <td>2009</td>\n",
       "    </tr>\n",
       "    <tr>\n",
       "      <th>4</th>\n",
       "      <td>4</td>\n",
       "      <td>M2M</td>\n",
       "      <td>0,0</td>\n",
       "      <td>0,0</td>\n",
       "      <td>2009</td>\n",
       "    </tr>\n",
       "  </tbody>\n",
       "</table>\n",
       "</div>"
      ],
      "text/plain": [
       "   Unnamed: 0 Tecnologia Geração     media_ano            percentual   ano\n",
       "0           0                 1G       5740,45  0,003543340898983565  2009\n",
       "1           1                 2G  157632264,71     97,29983721595812  2009\n",
       "2           2                 3G    4368704,43    2,6966194431429042  2009\n",
       "3           3                 4G           0,0                   0,0  2009\n",
       "4           4                M2M           0,0                   0,0  2009"
      ]
     },
     "execution_count": 7,
     "metadata": {},
     "output_type": "execute_result"
    }
   ],
   "source": [
    "df.head()\n",
    "\n",
    "# vemos que os decimais estao com virgula, e nao com ponto (que é o default do python)"
   ]
  },
  {
   "cell_type": "code",
   "execution_count": 8,
   "id": "99abb5dc-20d2-49c1-9e35-618ca56910f7",
   "metadata": {},
   "outputs": [],
   "source": [
    "# retirando a coluna 'Unnamed: 0'\n",
    "\n",
    "df = df.drop(columns = ['Unnamed: 0'])"
   ]
  },
  {
   "cell_type": "code",
   "execution_count": 9,
   "id": "13d18cca-2073-40fc-be13-661fb73930ee",
   "metadata": {},
   "outputs": [
    {
     "name": "stdout",
     "output_type": "stream",
     "text": [
      "object\n",
      "object\n"
     ]
    }
   ],
   "source": [
    "print(df['percentual'].dtype)\n",
    "print(df['media_ano'].dtype)\n",
    "\n",
    "# o tipo do dado que vou manipular('percentual') está em formato string, e não float"
   ]
  },
  {
   "cell_type": "code",
   "execution_count": 10,
   "id": "ccd4ed76-c54e-4b41-a4bd-35bdd489436b",
   "metadata": {},
   "outputs": [],
   "source": [
    "df['media_ano'] = df['media_ano'].str.replace(',', '.', regex=True).astype(float)\n",
    "df['percentual'] = df['percentual'].str.replace(',', '.', regex=True).astype(float)\n",
    "\n",
    "# estamos aplicando a substituição do caracter ',' por '.' em cada coluna ('percentual' e 'media_ano') \n",
    "# individualmente; e depois usamos o método astype(float) para converter os valores para o tipo de dados float"
   ]
  },
  {
   "cell_type": "code",
   "execution_count": 11,
   "id": "364c24b1-2474-49b5-bfbe-5455df07ee3f",
   "metadata": {},
   "outputs": [],
   "source": [
    "# restringindo o numero de casas decimais da coluna percentual a 2 casas decimais\n",
    "\n",
    "df['percentual'] = df['percentual'].round(2)"
   ]
  },
  {
   "cell_type": "code",
   "execution_count": 12,
   "id": "d9a837ad-8796-4dde-901c-f44c2751eab5",
   "metadata": {},
   "outputs": [
    {
     "name": "stdout",
     "output_type": "stream",
     "text": [
      "float64\n",
      "float64\n"
     ]
    }
   ],
   "source": [
    "print(df['percentual'].dtype)\n",
    "print(df['media_ano'].dtype)\n",
    "\n",
    "# agora ambas as colunas são do tipo float e são manipuláveis em operações matemáticas"
   ]
  },
  {
   "cell_type": "code",
   "execution_count": 13,
   "id": "5c9cb57c-d01d-477d-86ae-c0ce51212f3e",
   "metadata": {},
   "outputs": [
    {
     "data": {
      "text/html": [
       "<div>\n",
       "<style scoped>\n",
       "    .dataframe tbody tr th:only-of-type {\n",
       "        vertical-align: middle;\n",
       "    }\n",
       "\n",
       "    .dataframe tbody tr th {\n",
       "        vertical-align: top;\n",
       "    }\n",
       "\n",
       "    .dataframe thead th {\n",
       "        text-align: right;\n",
       "    }\n",
       "</style>\n",
       "<table border=\"1\" class=\"dataframe\">\n",
       "  <thead>\n",
       "    <tr style=\"text-align: right;\">\n",
       "      <th></th>\n",
       "      <th>Tecnologia Geração</th>\n",
       "      <th>media_ano</th>\n",
       "      <th>percentual</th>\n",
       "      <th>ano</th>\n",
       "    </tr>\n",
       "  </thead>\n",
       "  <tbody>\n",
       "    <tr>\n",
       "      <th>0</th>\n",
       "      <td>1G</td>\n",
       "      <td>5.740450e+03</td>\n",
       "      <td>0.00</td>\n",
       "      <td>2009</td>\n",
       "    </tr>\n",
       "    <tr>\n",
       "      <th>1</th>\n",
       "      <td>2G</td>\n",
       "      <td>1.576323e+08</td>\n",
       "      <td>97.30</td>\n",
       "      <td>2009</td>\n",
       "    </tr>\n",
       "    <tr>\n",
       "      <th>2</th>\n",
       "      <td>3G</td>\n",
       "      <td>4.368704e+06</td>\n",
       "      <td>2.70</td>\n",
       "      <td>2009</td>\n",
       "    </tr>\n",
       "    <tr>\n",
       "      <th>3</th>\n",
       "      <td>4G</td>\n",
       "      <td>0.000000e+00</td>\n",
       "      <td>0.00</td>\n",
       "      <td>2009</td>\n",
       "    </tr>\n",
       "    <tr>\n",
       "      <th>4</th>\n",
       "      <td>M2M</td>\n",
       "      <td>0.000000e+00</td>\n",
       "      <td>0.00</td>\n",
       "      <td>2009</td>\n",
       "    </tr>\n",
       "    <tr>\n",
       "      <th>5</th>\n",
       "      <td>1G</td>\n",
       "      <td>7.636700e+02</td>\n",
       "      <td>0.00</td>\n",
       "      <td>2010</td>\n",
       "    </tr>\n",
       "    <tr>\n",
       "      <th>6</th>\n",
       "      <td>2G</td>\n",
       "      <td>1.725275e+08</td>\n",
       "      <td>92.26</td>\n",
       "      <td>2010</td>\n",
       "    </tr>\n",
       "    <tr>\n",
       "      <th>7</th>\n",
       "      <td>3G</td>\n",
       "      <td>1.446595e+07</td>\n",
       "      <td>7.74</td>\n",
       "      <td>2010</td>\n",
       "    </tr>\n",
       "    <tr>\n",
       "      <th>8</th>\n",
       "      <td>4G</td>\n",
       "      <td>0.000000e+00</td>\n",
       "      <td>0.00</td>\n",
       "      <td>2010</td>\n",
       "    </tr>\n",
       "    <tr>\n",
       "      <th>9</th>\n",
       "      <td>M2M</td>\n",
       "      <td>0.000000e+00</td>\n",
       "      <td>0.00</td>\n",
       "      <td>2010</td>\n",
       "    </tr>\n",
       "    <tr>\n",
       "      <th>10</th>\n",
       "      <td>1G</td>\n",
       "      <td>0.000000e+00</td>\n",
       "      <td>0.00</td>\n",
       "      <td>2011</td>\n",
       "    </tr>\n",
       "    <tr>\n",
       "      <th>11</th>\n",
       "      <td>2G</td>\n",
       "      <td>1.924990e+08</td>\n",
       "      <td>87.17</td>\n",
       "      <td>2011</td>\n",
       "    </tr>\n",
       "    <tr>\n",
       "      <th>12</th>\n",
       "      <td>3G</td>\n",
       "      <td>2.832045e+07</td>\n",
       "      <td>12.83</td>\n",
       "      <td>2011</td>\n",
       "    </tr>\n",
       "    <tr>\n",
       "      <th>13</th>\n",
       "      <td>4G</td>\n",
       "      <td>0.000000e+00</td>\n",
       "      <td>0.00</td>\n",
       "      <td>2011</td>\n",
       "    </tr>\n",
       "    <tr>\n",
       "      <th>14</th>\n",
       "      <td>M2M</td>\n",
       "      <td>0.000000e+00</td>\n",
       "      <td>0.00</td>\n",
       "      <td>2011</td>\n",
       "    </tr>\n",
       "    <tr>\n",
       "      <th>15</th>\n",
       "      <td>1G</td>\n",
       "      <td>0.000000e+00</td>\n",
       "      <td>0.00</td>\n",
       "      <td>2012</td>\n",
       "    </tr>\n",
       "    <tr>\n",
       "      <th>16</th>\n",
       "      <td>2G</td>\n",
       "      <td>1.991107e+08</td>\n",
       "      <td>78.03</td>\n",
       "      <td>2012</td>\n",
       "    </tr>\n",
       "    <tr>\n",
       "      <th>17</th>\n",
       "      <td>3G</td>\n",
       "      <td>5.234101e+07</td>\n",
       "      <td>20.51</td>\n",
       "      <td>2012</td>\n",
       "    </tr>\n",
       "    <tr>\n",
       "      <th>18</th>\n",
       "      <td>4G</td>\n",
       "      <td>0.000000e+00</td>\n",
       "      <td>0.00</td>\n",
       "      <td>2012</td>\n",
       "    </tr>\n",
       "    <tr>\n",
       "      <th>19</th>\n",
       "      <td>M2M</td>\n",
       "      <td>3.718125e+06</td>\n",
       "      <td>1.46</td>\n",
       "      <td>2012</td>\n",
       "    </tr>\n",
       "  </tbody>\n",
       "</table>\n",
       "</div>"
      ],
      "text/plain": [
       "   Tecnologia Geração     media_ano  percentual   ano\n",
       "0                  1G  5.740450e+03        0.00  2009\n",
       "1                  2G  1.576323e+08       97.30  2009\n",
       "2                  3G  4.368704e+06        2.70  2009\n",
       "3                  4G  0.000000e+00        0.00  2009\n",
       "4                 M2M  0.000000e+00        0.00  2009\n",
       "5                  1G  7.636700e+02        0.00  2010\n",
       "6                  2G  1.725275e+08       92.26  2010\n",
       "7                  3G  1.446595e+07        7.74  2010\n",
       "8                  4G  0.000000e+00        0.00  2010\n",
       "9                 M2M  0.000000e+00        0.00  2010\n",
       "10                 1G  0.000000e+00        0.00  2011\n",
       "11                 2G  1.924990e+08       87.17  2011\n",
       "12                 3G  2.832045e+07       12.83  2011\n",
       "13                 4G  0.000000e+00        0.00  2011\n",
       "14                M2M  0.000000e+00        0.00  2011\n",
       "15                 1G  0.000000e+00        0.00  2012\n",
       "16                 2G  1.991107e+08       78.03  2012\n",
       "17                 3G  5.234101e+07       20.51  2012\n",
       "18                 4G  0.000000e+00        0.00  2012\n",
       "19                M2M  3.718125e+06        1.46  2012"
      ]
     },
     "execution_count": 13,
     "metadata": {},
     "output_type": "execute_result"
    }
   ],
   "source": [
    "df.head(20)\n",
    "\n",
    "# vendo a tabela mais ampla\n",
    "# temos 2 casas decimais na coluna 'percentual'"
   ]
  },
  {
   "cell_type": "code",
   "execution_count": 14,
   "id": "cb0c9a2d-d698-4eff-9e0d-4e13d0e41d18",
   "metadata": {},
   "outputs": [
    {
     "name": "stdout",
     "output_type": "stream",
     "text": [
      "['1G' '2G' '3G' '4G' 'M2M' '5G' '5G Non Stand Alone']\n",
      "7\n"
     ]
    }
   ],
   "source": [
    "# vendo quais tipos de tecnologia tivemos ao longo dos últimos 15 anos: foram 7\n",
    "\n",
    "print(df['Tecnologia Geração'].unique())\n",
    "print(len(df['Tecnologia Geração'].unique()))"
   ]
  },
  {
   "cell_type": "code",
   "execution_count": 15,
   "id": "1fee5e36-afb9-4321-b88b-b688bee81a1b",
   "metadata": {},
   "outputs": [],
   "source": [
    "tec_1g = df.query('`Tecnologia Geração` == \"1G\"')\n",
    "tec_2g = df.query('`Tecnologia Geração` == \"2G\"')\n",
    "tec_3g = df.query('`Tecnologia Geração` == \"3G\"')\n",
    "tec_4g = df.query('`Tecnologia Geração` == \"4G\"')\n",
    "tec_m2m = df.query('`Tecnologia Geração` == \"M2M\"')\n",
    "tec_5g = df.query('`Tecnologia Geração` == \"5G\"')\n",
    "# tec_5g_nsa = df.query('`Tecnologia Geração` == \"5G Non Stand Alone\"')\n",
    "\n",
    "# ChatCPT me ajudando na sintaxe:\n",
    "# O erro no código que você forneceu está relacionado à forma como o nome da coluna 'Tecnologia Geração' é \n",
    "# especificado na consulta. O espaço no nome da coluna requer que você o coloque entre colchetes ou aspas.\n",
    "# Neste código corrigido, usamos as crases (``) para cercar o nome da coluna 'Tecnologia Geração' porque ele \n",
    "# contém espaços. Também usamos as aspas duplas (\"2G\") para comparar com o valor \"2G\" na coluna."
   ]
  },
  {
   "cell_type": "code",
   "execution_count": 16,
   "id": "66db0382-4b99-4c69-95aa-ca3e0a88532d",
   "metadata": {},
   "outputs": [
    {
     "ename": "NameError",
     "evalue": "name 'tec_5g_nsa' is not defined",
     "output_type": "error",
     "traceback": [
      "\u001b[1;31m---------------------------------------------------------------------------\u001b[0m",
      "\u001b[1;31mNameError\u001b[0m                                 Traceback (most recent call last)",
      "Cell \u001b[1;32mIn[16], line 3\u001b[0m\n\u001b[0;32m      1\u001b[0m \u001b[38;5;66;03m# vendo os dataframes por tecnologia\u001b[39;00m\n\u001b[1;32m----> 3\u001b[0m \u001b[43mtec_5g_nsa\u001b[49m\n",
      "\u001b[1;31mNameError\u001b[0m: name 'tec_5g_nsa' is not defined"
     ]
    }
   ],
   "source": [
    "# vendo os dataframes por tecnologia\n",
    "\n",
    "tec_5g_nsa"
   ]
  },
  {
   "cell_type": "code",
   "execution_count": null,
   "id": "d082692c-7d20-4411-a93f-5a4ec7be462b",
   "metadata": {},
   "outputs": [],
   "source": [
    "df['Tecnologia Geração'].unique()"
   ]
  },
  {
   "cell_type": "code",
   "execution_count": null,
   "id": "060ce696-3b13-4d84-b617-7ee8d47b176f",
   "metadata": {},
   "outputs": [],
   "source": [
    "## comandos para plotar um gráfico do pyplot do matplotlib\n",
    "\n",
    "grafico_1 = plt.figure(figsize=(8,5))\n",
    "plt.plot(tec_1g[\"ano\"], tec_1g[\"percentual\"], label = \"1G\", linewidth = 2.5, color = \"cyan\") #argumentos são eixo x e eixo y\n",
    "plt.plot(tec_2g[\"ano\"], tec_2g[\"percentual\"], label = \"2G\", linewidth = 2.5, color = \"green\")\n",
    "plt.plot(tec_3g[\"ano\"], tec_3g[\"percentual\"], label = \"3G\", linewidth = 2.5, color = \"purple\")\n",
    "plt.plot(tec_m2m[\"ano\"], tec_m2m[\"percentual\"], label = \"M2M\", linewidth = 2.5, color = \"gold\")\n",
    "plt.plot(tec_4g[\"ano\"], tec_4g[\"percentual\"], label = \"4G\", linewidth = 2.5, color = \"red\")\n",
    "plt.plot(tec_5g[\"ano\"], tec_5g[\"percentual\"], label = \"5G\", linewidth = 2.5, color = \"magenta\")\n",
    "# plt.plot(tec_5g_nsa[\"ano\"], tec_5g_nsa[\"percentual\"], label = \"5G-NSA\", linewidth = 2.5, color = \"blue\")\n",
    "plt.title(\"Evolução das Tecnologias de Geração \\n Anos 2009 a 2023\", fontweight='bold')\n",
    "plt.xlabel(\"Período\")\n",
    "plt.ylabel(\"Acessos no ano (%)\")\n",
    "plt.annotate('Ápice do 3G', (2015,60), xytext=(2015 + 1, 60 + 6),\n",
    "             arrowprops=dict(facecolor='black', shrink=0.05))\n",
    "plt.annotate('4G é a tecnologia mais utilizada atualmente', (2023,80), xytext=(2015, 80 + 10),\n",
    "             arrowprops=dict(facecolor='black', shrink=0.05))\n",
    "plt.ticklabel_format(style=\"plain\", axis=\"y\")\n",
    "plt.grid()\n",
    "plt.legend()\n",
    "plt.show()\n",
    "\n",
    "plt.savefig('grafico_tecnologia_estatico.png')"
   ]
  },
  {
   "cell_type": "code",
   "execution_count": null,
   "id": "65de3a17-4d44-4903-90df-549c9348a814",
   "metadata": {},
   "outputs": [],
   "source": []
  },
  {
   "cell_type": "code",
   "execution_count": null,
   "id": "7859d92f-e679-46fb-9e5e-ab7b0914b29e",
   "metadata": {},
   "outputs": [],
   "source": [
    "#criando um gráfico de linhas responsivo\n",
    "grafico_2 = px.line(df, x = \"ano\", y = \"percentual\", color=\"Tecnologia Geração\").update_layout(\n",
    "xaxis_title = \"Período\",\n",
    "yaxis_title = \"Acessos no ano (%)\",\n",
    "title = \"Evolução das Tecnologias de Geração - Anos 2009 a 2023\",\n",
    "title_font_color = \"blue\",\n",
    "title_font_size = 24,\n",
    "title_x = 0.05,\n",
    "title_y = 0.93,\n",
    "xaxis_color = \"blue\",\n",
    "yaxis_color = \"blue\",\n",
    "xaxis_title_font=dict(size=16),\n",
    "yaxis_title_font=dict(size=16))\n",
    "\n",
    "#o title_x pode varia de 0 a 1, e é a centralização do título em relação ao eixo x (ajuste na horizontal)\n",
    "#o title_y é o ajuste na vertical (varia de 0 a 1)\n",
    "\n",
    "grafico_2"
   ]
  },
  {
   "cell_type": "code",
   "execution_count": null,
   "id": "aea2f96f-412a-4ba8-9afc-eb8a1de321b3",
   "metadata": {},
   "outputs": [],
   "source": [
    "grafico_2.write_html('grafico_tecnologia_dinamico.html')"
   ]
  },
  {
   "cell_type": "code",
   "execution_count": null,
   "id": "51e44e7e-d25d-40be-bbe4-c16a528f14b8",
   "metadata": {},
   "outputs": [],
   "source": []
  }
 ],
 "metadata": {
  "kernelspec": {
   "display_name": "Python 3 (ipykernel)",
   "language": "python",
   "name": "python3"
  },
  "language_info": {
   "codemirror_mode": {
    "name": "ipython",
    "version": 3
   },
   "file_extension": ".py",
   "mimetype": "text/x-python",
   "name": "python",
   "nbconvert_exporter": "python",
   "pygments_lexer": "ipython3",
   "version": "3.11.5"
  }
 },
 "nbformat": 4,
 "nbformat_minor": 5
}
