{
 "cells": [
  {
   "cell_type": "code",
   "execution_count": 95,
   "id": "16557b3a-7cdf-4d28-b78b-7ffdf8363231",
   "metadata": {},
   "outputs": [],
   "source": [
    "import pandas as pd\n",
    "sem1_2020 = pd.read_csv('./data/Acessos_Telefonia_Movel_202001-202006_Colunas.csv', sep=';', encoding='utf-8')\n",
    "sem2_2020 = pd.read_csv('./data/Acessos_Telefonia_Movel_202007-202012_Colunas.csv', sep=';', encoding='utf-8')"
   ]
  },
  {
   "cell_type": "code",
   "execution_count": 96,
   "id": "be2bc71c-9d03-44fe-bebd-07cf018609d3",
   "metadata": {},
   "outputs": [],
   "source": [
    "df_2020 = pd.merge(sem1_2020, sem2_2020, how='outer')"
   ]
  },
  {
   "cell_type": "code",
   "execution_count": 97,
   "id": "8dd10ac9-d723-4246-815f-56bd1d75fd72",
   "metadata": {},
   "outputs": [
    {
     "data": {
      "text/html": [
       "<div>\n",
       "<style scoped>\n",
       "    .dataframe tbody tr th:only-of-type {\n",
       "        vertical-align: middle;\n",
       "    }\n",
       "\n",
       "    .dataframe tbody tr th {\n",
       "        vertical-align: top;\n",
       "    }\n",
       "\n",
       "    .dataframe thead th {\n",
       "        text-align: right;\n",
       "    }\n",
       "</style>\n",
       "<table border=\"1\" class=\"dataframe\">\n",
       "  <thead>\n",
       "    <tr style=\"text-align: right;\">\n",
       "      <th></th>\n",
       "      <th>CNPJ</th>\n",
       "      <th>Código Nacional</th>\n",
       "      <th>Município</th>\n",
       "      <th>UF</th>\n",
       "      <th>Modalidade de Cobrança</th>\n",
       "      <th>Tecnologia</th>\n",
       "      <th>Tecnologia Geração</th>\n",
       "      <th>Empresa</th>\n",
       "      <th>Porte da Prestadora</th>\n",
       "      <th>Tipo de Pessoa</th>\n",
       "      <th>...</th>\n",
       "      <th>2020-03</th>\n",
       "      <th>2020-04</th>\n",
       "      <th>2020-05</th>\n",
       "      <th>2020-06</th>\n",
       "      <th>2020-07</th>\n",
       "      <th>2020-08</th>\n",
       "      <th>2020-09</th>\n",
       "      <th>2020-10</th>\n",
       "      <th>2020-11</th>\n",
       "      <th>2020-12</th>\n",
       "    </tr>\n",
       "  </thead>\n",
       "  <tbody>\n",
       "    <tr>\n",
       "      <th>0</th>\n",
       "      <td>1778972000174</td>\n",
       "      <td>11</td>\n",
       "      <td>Santo André</td>\n",
       "      <td>SP</td>\n",
       "      <td>Pós-pago</td>\n",
       "      <td>LTE</td>\n",
       "      <td>4G</td>\n",
       "      <td>America Net S.a.</td>\n",
       "      <td>Pequeno Porte</td>\n",
       "      <td>Pessoa Física</td>\n",
       "      <td>...</td>\n",
       "      <td>7.0</td>\n",
       "      <td>7.0</td>\n",
       "      <td>10.0</td>\n",
       "      <td>12.0</td>\n",
       "      <td>13.0</td>\n",
       "      <td>14.0</td>\n",
       "      <td>16.0</td>\n",
       "      <td>19.0</td>\n",
       "      <td>21.0</td>\n",
       "      <td>21.0</td>\n",
       "    </tr>\n",
       "    <tr>\n",
       "      <th>1</th>\n",
       "      <td>1778972000174</td>\n",
       "      <td>11</td>\n",
       "      <td>Santo André</td>\n",
       "      <td>SP</td>\n",
       "      <td>Pós-pago</td>\n",
       "      <td>LTE</td>\n",
       "      <td>4G</td>\n",
       "      <td>America Net S.a.</td>\n",
       "      <td>Pequeno Porte</td>\n",
       "      <td>Pessoa Jurídica</td>\n",
       "      <td>...</td>\n",
       "      <td>26.0</td>\n",
       "      <td>24.0</td>\n",
       "      <td>26.0</td>\n",
       "      <td>18.0</td>\n",
       "      <td>16.0</td>\n",
       "      <td>16.0</td>\n",
       "      <td>17.0</td>\n",
       "      <td>18.0</td>\n",
       "      <td>19.0</td>\n",
       "      <td>19.0</td>\n",
       "    </tr>\n",
       "    <tr>\n",
       "      <th>2</th>\n",
       "      <td>1778972000174</td>\n",
       "      <td>11</td>\n",
       "      <td>Alumínio</td>\n",
       "      <td>SP</td>\n",
       "      <td>Pós-pago</td>\n",
       "      <td>LTE</td>\n",
       "      <td>4G</td>\n",
       "      <td>America Net S.a.</td>\n",
       "      <td>Pequeno Porte</td>\n",
       "      <td>Pessoa Física</td>\n",
       "      <td>...</td>\n",
       "      <td>NaN</td>\n",
       "      <td>NaN</td>\n",
       "      <td>NaN</td>\n",
       "      <td>2.0</td>\n",
       "      <td>2.0</td>\n",
       "      <td>2.0</td>\n",
       "      <td>2.0</td>\n",
       "      <td>2.0</td>\n",
       "      <td>2.0</td>\n",
       "      <td>2.0</td>\n",
       "    </tr>\n",
       "    <tr>\n",
       "      <th>3</th>\n",
       "      <td>1778972000174</td>\n",
       "      <td>11</td>\n",
       "      <td>Arujá</td>\n",
       "      <td>SP</td>\n",
       "      <td>Pós-pago</td>\n",
       "      <td>LTE</td>\n",
       "      <td>4G</td>\n",
       "      <td>America Net S.a.</td>\n",
       "      <td>Pequeno Porte</td>\n",
       "      <td>Pessoa Física</td>\n",
       "      <td>...</td>\n",
       "      <td>1652.0</td>\n",
       "      <td>1669.0</td>\n",
       "      <td>1688.0</td>\n",
       "      <td>1603.0</td>\n",
       "      <td>1849.0</td>\n",
       "      <td>1879.0</td>\n",
       "      <td>1968.0</td>\n",
       "      <td>2092.0</td>\n",
       "      <td>2138.0</td>\n",
       "      <td>2209.0</td>\n",
       "    </tr>\n",
       "    <tr>\n",
       "      <th>4</th>\n",
       "      <td>1778972000174</td>\n",
       "      <td>11</td>\n",
       "      <td>Arujá</td>\n",
       "      <td>SP</td>\n",
       "      <td>Pós-pago</td>\n",
       "      <td>LTE</td>\n",
       "      <td>4G</td>\n",
       "      <td>America Net S.a.</td>\n",
       "      <td>Pequeno Porte</td>\n",
       "      <td>Pessoa Jurídica</td>\n",
       "      <td>...</td>\n",
       "      <td>25.0</td>\n",
       "      <td>25.0</td>\n",
       "      <td>24.0</td>\n",
       "      <td>22.0</td>\n",
       "      <td>22.0</td>\n",
       "      <td>36.0</td>\n",
       "      <td>31.0</td>\n",
       "      <td>31.0</td>\n",
       "      <td>29.0</td>\n",
       "      <td>30.0</td>\n",
       "    </tr>\n",
       "  </tbody>\n",
       "</table>\n",
       "<p>5 rows × 25 columns</p>\n",
       "</div>"
      ],
      "text/plain": [
       "            CNPJ  Código Nacional    Município  UF Modalidade de Cobrança  \\\n",
       "0  1778972000174               11  Santo André  SP               Pós-pago   \n",
       "1  1778972000174               11  Santo André  SP               Pós-pago   \n",
       "2  1778972000174               11     Alumínio  SP               Pós-pago   \n",
       "3  1778972000174               11        Arujá  SP               Pós-pago   \n",
       "4  1778972000174               11        Arujá  SP               Pós-pago   \n",
       "\n",
       "  Tecnologia Tecnologia Geração           Empresa Porte da Prestadora  \\\n",
       "0        LTE                 4G  America Net S.a.       Pequeno Porte   \n",
       "1        LTE                 4G  America Net S.a.       Pequeno Porte   \n",
       "2        LTE                 4G  America Net S.a.       Pequeno Porte   \n",
       "3        LTE                 4G  America Net S.a.       Pequeno Porte   \n",
       "4        LTE                 4G  America Net S.a.       Pequeno Porte   \n",
       "\n",
       "    Tipo de Pessoa  ... 2020-03  2020-04 2020-05  2020-06  2020-07  2020-08  \\\n",
       "0    Pessoa Física  ...     7.0      7.0    10.0     12.0     13.0     14.0   \n",
       "1  Pessoa Jurídica  ...    26.0     24.0    26.0     18.0     16.0     16.0   \n",
       "2    Pessoa Física  ...     NaN      NaN     NaN      2.0      2.0      2.0   \n",
       "3    Pessoa Física  ...  1652.0   1669.0  1688.0   1603.0   1849.0   1879.0   \n",
       "4  Pessoa Jurídica  ...    25.0     25.0    24.0     22.0     22.0     36.0   \n",
       "\n",
       "   2020-09  2020-10  2020-11  2020-12  \n",
       "0     16.0     19.0     21.0     21.0  \n",
       "1     17.0     18.0     19.0     19.0  \n",
       "2      2.0      2.0      2.0      2.0  \n",
       "3   1968.0   2092.0   2138.0   2209.0  \n",
       "4     31.0     31.0     29.0     30.0  \n",
       "\n",
       "[5 rows x 25 columns]"
      ]
     },
     "execution_count": 97,
     "metadata": {},
     "output_type": "execute_result"
    }
   ],
   "source": [
    "df_2020.head()"
   ]
  },
  {
   "cell_type": "code",
   "execution_count": 98,
   "id": "837771df-59e5-4e95-aac2-8fea7f3d6daf",
   "metadata": {},
   "outputs": [
    {
     "data": {
      "text/plain": [
       "(304437, 25)"
      ]
     },
     "execution_count": 98,
     "metadata": {},
     "output_type": "execute_result"
    }
   ],
   "source": [
    "# usando outer join --> (291492, 38)\n",
    "# sem1_2020.shape --> (291492, 19)\n",
    "# sem2_2020.shape --> (267298, 19)\n",
    "df_2020.shape"
   ]
  },
  {
   "cell_type": "code",
   "execution_count": 99,
   "id": "40679a4f-034f-4fbe-b87b-de2e3b3cfd51",
   "metadata": {},
   "outputs": [
    {
     "name": "stdout",
     "output_type": "stream",
     "text": [
      "<class 'pandas.core.frame.DataFrame'>\n",
      "RangeIndex: 304437 entries, 0 to 304436\n",
      "Data columns (total 25 columns):\n",
      " #   Column                  Non-Null Count   Dtype  \n",
      "---  ------                  --------------   -----  \n",
      " 0   CNPJ                    304437 non-null  int64  \n",
      " 1   Código Nacional         304437 non-null  int64  \n",
      " 2   Município               304437 non-null  object \n",
      " 3   UF                      304437 non-null  object \n",
      " 4   Modalidade de Cobrança  304437 non-null  object \n",
      " 5   Tecnologia              304437 non-null  object \n",
      " 6   Tecnologia Geração      304437 non-null  object \n",
      " 7   Empresa                 304437 non-null  object \n",
      " 8   Porte da Prestadora     304437 non-null  object \n",
      " 9   Tipo de Pessoa          304437 non-null  object \n",
      " 10  Tipo de Produto         304437 non-null  object \n",
      " 11  Código IBGE Município   304437 non-null  int64  \n",
      " 12  Grupo Econômico         304437 non-null  object \n",
      " 13  2020-01                 263784 non-null  float64\n",
      " 14  2020-02                 265599 non-null  float64\n",
      " 15  2020-03                 265983 non-null  float64\n",
      " 16  2020-04                 246539 non-null  float64\n",
      " 17  2020-05                 246468 non-null  float64\n",
      " 18  2020-06                 247082 non-null  float64\n",
      " 19  2020-07                 247293 non-null  float64\n",
      " 20  2020-08                 249829 non-null  float64\n",
      " 21  2020-09                 246921 non-null  float64\n",
      " 22  2020-10                 243209 non-null  float64\n",
      " 23  2020-11                 246003 non-null  float64\n",
      " 24  2020-12                 246448 non-null  float64\n",
      "dtypes: float64(12), int64(3), object(10)\n",
      "memory usage: 58.1+ MB\n"
     ]
    }
   ],
   "source": [
    "df_2020.info()"
   ]
  },
  {
   "cell_type": "code",
   "execution_count": 100,
   "id": "66cb936d-4e7b-4988-82c5-20d43df2d6ef",
   "metadata": {},
   "outputs": [
    {
     "data": {
      "text/plain": [
       "CNPJ                          0\n",
       "Código Nacional               0\n",
       "Município                     0\n",
       "UF                            0\n",
       "Modalidade de Cobrança        0\n",
       "Tecnologia                    0\n",
       "Tecnologia Geração            0\n",
       "Empresa                       0\n",
       "Porte da Prestadora           0\n",
       "Tipo de Pessoa                0\n",
       "Tipo de Produto               0\n",
       "Código IBGE Município         0\n",
       "Grupo Econômico               0\n",
       "2020-01                   40653\n",
       "2020-02                   38838\n",
       "2020-03                   38454\n",
       "2020-04                   57898\n",
       "2020-05                   57969\n",
       "2020-06                   57355\n",
       "2020-07                   57144\n",
       "2020-08                   54608\n",
       "2020-09                   57516\n",
       "2020-10                   61228\n",
       "2020-11                   58434\n",
       "2020-12                   57989\n",
       "dtype: int64"
      ]
     },
     "execution_count": 100,
     "metadata": {},
     "output_type": "execute_result"
    }
   ],
   "source": [
    "df_2020.isna().sum()"
   ]
  },
  {
   "cell_type": "code",
   "execution_count": 104,
   "id": "a1b3e7c3-6ecb-4779-a77e-e7a93c3a1d36",
   "metadata": {},
   "outputs": [
    {
     "data": {
      "text/plain": [
       "CNPJ                       0.00\n",
       "Código Nacional            0.00\n",
       "Município                  0.00\n",
       "UF                         0.00\n",
       "Modalidade de Cobrança     0.00\n",
       "Tecnologia                 0.00\n",
       "Tecnologia Geração         0.00\n",
       "Empresa                    0.00\n",
       "Porte da Prestadora        0.00\n",
       "Tipo de Pessoa             0.00\n",
       "Tipo de Produto            0.00\n",
       "Código IBGE Município      0.00\n",
       "Grupo Econômico            0.00\n",
       "2020-01                   15.41\n",
       "2020-02                   14.62\n",
       "2020-03                   14.46\n",
       "2020-04                   23.48\n",
       "2020-05                   23.52\n",
       "2020-06                   23.21\n",
       "2020-07                   23.11\n",
       "2020-08                   21.86\n",
       "2020-09                   23.29\n",
       "2020-10                   25.18\n",
       "2020-11                   23.75\n",
       "2020-12                   23.53\n",
       "dtype: float64"
      ]
     },
     "execution_count": 104,
     "metadata": {},
     "output_type": "execute_result"
    }
   ],
   "source": [
    "# Olhando para cada coluna dos meses, o maior percentual de NaN foi de 25.18 em 2020-10\n",
    "nan_percent = (df_2020.isna().sum() / df_2020.count() * 100).round(2)\n",
    "nan_percent"
   ]
  },
  {
   "cell_type": "code",
   "execution_count": 105,
   "id": "9a54c1ed-7003-40b1-9e48-c6d7455e617b",
   "metadata": {},
   "outputs": [],
   "source": [
    "# Substituir os NaN por zero\n",
    "df_2020 = df_2020.fillna(0)\n",
    "# df_2020.isna().sum()"
   ]
  },
  {
   "cell_type": "code",
   "execution_count": 150,
   "id": "39caa4fa-25aa-4ed9-b3e6-e38962146e0e",
   "metadata": {},
   "outputs": [],
   "source": [
    "# Criar coluna de média\n",
    "colunas_media = ['2020-01','2020-02','2020-03','2020-04','2020-05','2020-06','2020-07','2020-08','2020-09','2020-10','2020-11','2020-12']\n",
    "df_2020['media_ano'] = round(df_2020[colunas_media].mean(axis=1),2)\n",
    "#df_2020.head()"
   ]
  },
  {
   "cell_type": "code",
   "execution_count": 107,
   "id": "8c820299-da0d-4d82-a4b5-5cf2f7782e9b",
   "metadata": {},
   "outputs": [],
   "source": [
    "def analise_descritiva(df):\n",
    "    #tipo de dado que tenho em cada coluna do dataframe (ou quantidade, ou qualidade)\n",
    "\n",
    "    # CNPJ (quantidade)\n",
    "    print(f\"CNPJ - \", len(df['CNPJ'].unique()))\n",
    "\n",
    "    print()\n",
    "    # Codigo nacional (quantidade)\n",
    "    print(f\"Código Nacional - \", len(df['Código Nacional'].unique()))\n",
    "\n",
    "    print()\n",
    "    # Município (quantidade)\n",
    "    print(f\"Município - \", len(df['Município'].unique()))\n",
    "\n",
    "    print()\n",
    "    # UF (dados)\n",
    "    print(f\"UF - \", len(df['UF'].unique()))\n",
    "    print(f\"UF - \", df['UF'].unique())\n",
    "\n",
    "    print()\n",
    "    # Modalidade de Cobrança (quantidade)\n",
    "    print(f\"Modalidade de Cobrança - \", len(df['Modalidade de Cobrança'].unique()))\n",
    "    # Modalidade de Cobrança (dados)\n",
    "    print(f\"Modalidade de Cobrança - \", df['Modalidade de Cobrança'].unique())\n",
    "\n",
    "    print()\n",
    "    # Tecnologia (quantidade)\n",
    "    print(f\"Tecnologia - \", len(df['Tecnologia'].unique()))\n",
    "    # Tecnologia (dados)\n",
    "    print(f\"Tecnologia - \", df['Tecnologia'].unique())\n",
    "\n",
    "    print()\n",
    "    # Tecnologia Geração (quantidade)\n",
    "    print(f\"Tecnologia Geração - \", len(df['Tecnologia Geração'].unique()))\n",
    "    # Tecnologia Geração (dados)\n",
    "    print(f\"Tecnologia Geração - \", df['Tecnologia Geração'].unique())\n",
    "\n",
    "    print()\n",
    "    # Empresa (quantidade)\n",
    "    print(f\"Empresa - \", len(df['Empresa'].unique()))\n",
    "    # Empresa (dados)\n",
    "    print(f\"Empresa - \", df['Empresa'].unique())\n",
    "\n",
    "    print()\n",
    "    # Porte da Prestadora (quantidade)\n",
    "    print(f\"Porte da Prestadora - \", len(df['Porte da Prestadora'].unique()))\n",
    "    # Porte da Prestadora (dados)\n",
    "    print(f\"Porte da Prestadora - \", df['Porte da Prestadora'].unique())\n",
    "\n",
    "    print()\n",
    "    # Tipo de Pessoa (quantidade)\n",
    "    print(f\"Tipo de Pessoa - \", len(df['Tipo de Pessoa'].unique()))\n",
    "    # Tipo de Pessoa (dados)\n",
    "    print(f\"Tipo de Pessoa - \", df['Tipo de Pessoa'].unique())\n",
    "\n",
    "    print()\n",
    "    # Tipo de Produto (quantidade)\n",
    "    print(f\"Tipo de Produto - \", len(df['Tipo de Produto'].unique()))\n",
    "    # Tipo de Produto (dados)\n",
    "    print(f\"Tipo de Produto - \", df['Tipo de Produto'].unique())\n",
    "\n",
    "    print()\n",
    "    # Código IBGE Município (quantidade)\n",
    "    print(f\"Código IBGE Município - \", len(df['Código IBGE Município'].unique()))\n",
    "\n",
    "    print()\n",
    "    # Grupo Econômico (quantidade)\n",
    "    print(f\"Grupo Econômico - \", len(df['Grupo Econômico'].unique()))\n",
    "    # Grupo Econômico (dados)\n",
    "    print(f\"Grupo Econômico - \", df['Grupo Econômico'].unique())\n",
    "\n"
   ]
  },
  {
   "cell_type": "code",
   "execution_count": 108,
   "id": "a07d8844-6de4-43d3-888e-dea2600c928a",
   "metadata": {
    "scrolled": true
   },
   "outputs": [
    {
     "name": "stdout",
     "output_type": "stream",
     "text": [
      "CNPJ -  12\n",
      "\n",
      "Código Nacional -  67\n",
      "\n",
      "Município -  5297\n",
      "\n",
      "UF -  27\n",
      "UF -  ['SP' 'RJ' 'ES' 'MG' 'PR' 'SC' 'RS' 'GO' 'DF' 'MT' 'BA' 'SE' 'PE' 'AM'\n",
      " 'TO' 'MS' 'AC' 'RO' 'AL' 'PB' 'RN' 'CE' 'PI' 'PA' 'RR' 'AP' 'MA']\n",
      "\n",
      "Modalidade de Cobrança -  2\n",
      "Modalidade de Cobrança -  ['Pós-pago' 'Pré-pago']\n",
      "\n",
      "Tecnologia -  4\n",
      "Tecnologia -  ['LTE' 'GSM' 'WCDMA' 'CDMA IS 95']\n",
      "\n",
      "Tecnologia Geração -  3\n",
      "Tecnologia Geração -  ['4G' '2G' '3G']\n",
      "\n",
      "Empresa -  13\n",
      "Empresa -  ['America Net S.a.' 'CLARO' 'SURF TELECOM SA' 'Ligue Móvel S.A' 'NEXTEL'\n",
      " 'PREFEITURA DE LONDRINA/COPEL' 'TIM' 'ALGAR (CTBC TELECOM)' 'VIVO'\n",
      " 'DATORA' 'J. SAFRA TELECOMUNICACOES LTDA' 'OI' 'LIGGA TELECOM']\n",
      "\n",
      "Porte da Prestadora -  2\n",
      "Porte da Prestadora -  ['Pequeno Porte' 'Grande Porte']\n",
      "\n",
      "Tipo de Pessoa -  2\n",
      "Tipo de Pessoa -  ['Pessoa Física' 'Pessoa Jurídica']\n",
      "\n",
      "Tipo de Produto -  7\n",
      "Tipo de Produto -  ['VOZ+DADOS' 'VOZ' 'M2M_PADRAO' 'M2M_ESPECIAL' 'DADOS' 'OCIOSO'\n",
      " 'OCIOSO_M2M_ESPECIAL']\n",
      "\n",
      "Código IBGE Município -  5570\n",
      "\n",
      "Grupo Econômico -  10\n",
      "Grupo Econômico -  ['OUTROS' 'TELECOM AMERICAS' 'NEXTEL' 'PREFEITURA DE LONDRINA/COPEL'\n",
      " 'TELECOM ITALIA' 'ALGAR (CTBC TELECOM)' 'TELEFÔNICA' 'DATORA' 'OI'\n",
      " 'LIGGA TELECOM']\n"
     ]
    }
   ],
   "source": [
    "analise_descritiva(df_2020)"
   ]
  },
  {
   "cell_type": "code",
   "execution_count": 109,
   "id": "cb0dfff0-e907-4228-ba34-9c467fa8cfa3",
   "metadata": {},
   "outputs": [],
   "source": [
    "### Pensei em fazer isso pra formatar, mas quando fiz o round na coluna média não precisou mais (só precisou para as estatísticas descritivas)\n",
    " def formatar_com_casas_de_milhar(numero):\n",
    "     return \"{:,.0f}\".format(numero)"
   ]
  },
  {
   "cell_type": "code",
   "execution_count": 152,
   "id": "23591b92-4901-4c7d-9fbe-afb20633b5f0",
   "metadata": {},
   "outputs": [
    {
     "data": {
      "text/plain": [
       "Grupo Econômico\n",
       "TELEFÔNICA                      75711583.77\n",
       "TELECOM AMERICAS                56281212.87\n",
       "TELECOM ITALIA                  52150637.46\n",
       "OI                              36644565.81\n",
       "NEXTEL                           3338037.72\n",
       "ALGAR (CTBC TELECOM)             2191119.82\n",
       "OUTROS                            835138.41\n",
       "DATORA                            586359.84\n",
       "PREFEITURA DE LONDRINA/COPEL       47706.32\n",
       "LIGGA TELECOM                       4177.78\n",
       "Name: media_ano, dtype: float64"
      ]
     },
     "execution_count": 152,
     "metadata": {},
     "output_type": "execute_result"
    }
   ],
   "source": [
    "soma_grupoeco = df_2020.groupby(['Grupo Econômico'], dropna=False)['media_ano'].sum().sort_values(ascending=False)\n",
    "#soma_grupoeco = soma_grupoeco.apply(formatar_com_casas_de_milhar)\n",
    "soma_grupoeco"
   ]
  },
  {
   "cell_type": "code",
   "execution_count": 153,
   "id": "e06aa087-fc93-4bf6-848c-3c8dd2ad7a64",
   "metadata": {},
   "outputs": [
    {
     "data": {
      "text/plain": [
       "Empresa\n",
       "VIVO                              75711583.77\n",
       "CLARO                             56281212.87\n",
       "TIM                               52150637.46\n",
       "OI                                36644565.81\n",
       "NEXTEL                             3338037.72\n",
       "ALGAR (CTBC TELECOM)               2191119.82\n",
       "DATORA                              586359.84\n",
       "SURF TELECOM SA                     438166.56\n",
       "J. SAFRA TELECOMUNICACOES LTDA      355653.26\n",
       "PREFEITURA DE LONDRINA/COPEL         47706.32\n",
       "America Net S.a.                     41239.59\n",
       "LIGGA TELECOM                         4177.78\n",
       "Ligue Móvel S.A                         79.00\n",
       "Name: media_ano, dtype: float64"
      ]
     },
     "execution_count": 153,
     "metadata": {},
     "output_type": "execute_result"
    }
   ],
   "source": [
    "soma_empresa = df_2020.groupby(['Empresa'], dropna=False)['media_ano'].sum().sort_values(ascending=False)\n",
    "#soma_empresa = soma_empresa.apply(formatar_com_casas_de_milhar)\n",
    "soma_empresa"
   ]
  },
  {
   "cell_type": "code",
   "execution_count": 154,
   "id": "37a3e735-a611-4e90-a440-86963fdbd7d3",
   "metadata": {},
   "outputs": [
    {
     "data": {
      "text/plain": [
       "Código Nacional\n",
       "11    38139651.33\n",
       "21    14313026.72\n",
       "31     8996418.70\n",
       "19     8520464.53\n",
       "81     7019362.07\n",
       "         ...     \n",
       "96      735944.89\n",
       "28      645927.95\n",
       "46      580713.83\n",
       "95      526695.26\n",
       "97      509878.27\n",
       "Name: media_ano, Length: 67, dtype: float64"
      ]
     },
     "execution_count": 154,
     "metadata": {},
     "output_type": "execute_result"
    }
   ],
   "source": [
    "soma_ddd = df_2020.groupby(['Código Nacional'], dropna=False)['media_ano'].sum().sort_values(ascending=False)\n",
    "#soma_ddd = soma_ddd.apply(formatar_com_casas_de_milhar)\n",
    "soma_ddd"
   ]
  },
  {
   "cell_type": "code",
   "execution_count": 155,
   "id": "b0ea288e-b9de-46e3-a453-f88ae6a053a9",
   "metadata": {},
   "outputs": [
    {
     "data": {
      "text/plain": [
       "UF\n",
       "SP    68218238.80\n",
       "MG    21697991.78\n",
       "RJ    18486325.39\n",
       "BA    12948612.14\n",
       "RS    12852449.66\n",
       "PR    12161975.06\n",
       "PE     8848142.62\n",
       "CE     7884778.16\n",
       "GO     7709877.55\n",
       "SC     7544850.82\n",
       "PA     7023155.25\n",
       "MA     5226085.10\n",
       "ES     4004461.43\n",
       "DF     3678514.65\n",
       "AM     3660578.37\n",
       "PB     3636079.35\n",
       "MT     3606636.85\n",
       "RN     3024036.32\n",
       "PI     2887491.92\n",
       "MS     2866402.38\n",
       "AL     2656673.71\n",
       "SE     2080032.73\n",
       "RO     1612842.86\n",
       "TO     1454213.49\n",
       "AC      757453.26\n",
       "AP      735944.89\n",
       "RR      526695.26\n",
       "Name: media_ano, dtype: float64"
      ]
     },
     "execution_count": 155,
     "metadata": {},
     "output_type": "execute_result"
    }
   ],
   "source": [
    "soma_uf = df_2020.groupby(['UF'], dropna=False)['media_ano'].sum().sort_values(ascending=False)\n",
    "#soma_uf = soma_uf.apply(formatar_com_casas_de_milhar)\n",
    "soma_uf"
   ]
  },
  {
   "cell_type": "code",
   "execution_count": 156,
   "id": "4ce0a5b4-fb76-4b54-8753-6a893b11af3e",
   "metadata": {},
   "outputs": [
    {
     "data": {
      "text/plain": [
       "Grupo Econômico   UF\n",
       "TELEFÔNICA        SP    25107616.27\n",
       "TELECOM AMERICAS  SP    17107421.98\n",
       "TELECOM ITALIA    SP    15513332.52\n",
       "TELEFÔNICA        MG     9533067.40\n",
       "TELECOM ITALIA    PR     6631606.03\n",
       "OI                SP     6576972.61\n",
       "TELEFÔNICA        RS     5916151.44\n",
       "TELECOM AMERICAS  RJ     5500900.76\n",
       "TELEFÔNICA        RJ     5249212.98\n",
       "OI                MG     4496345.42\n",
       "Name: media_ano, dtype: float64"
      ]
     },
     "execution_count": 156,
     "metadata": {},
     "output_type": "execute_result"
    }
   ],
   "source": [
    "soma_ge_uf = df_2020.groupby(['Grupo Econômico','UF'], dropna=False)['media_ano'].sum().sort_values(ascending=False)\n",
    "#soma_ge_uf = soma_ge_uf.apply(formatar_com_casas_de_milhar)\n",
    "soma_ge_uf.head(10)"
   ]
  },
  {
   "cell_type": "code",
   "execution_count": 157,
   "id": "703eaaf0-b47f-46fe-8626-33fcd1ca9f76",
   "metadata": {},
   "outputs": [
    {
     "data": {
      "text/plain": [
       "Empresa  UF\n",
       "VIVO     SP    25107616.27\n",
       "CLARO    SP    17107421.98\n",
       "TIM      SP    15513332.52\n",
       "VIVO     MG     9533067.40\n",
       "TIM      PR     6631606.03\n",
       "OI       SP     6576972.61\n",
       "VIVO     RS     5916151.44\n",
       "CLARO    RJ     5500900.76\n",
       "VIVO     RJ     5249212.98\n",
       "OI       MG     4496345.42\n",
       "Name: media_ano, dtype: float64"
      ]
     },
     "execution_count": 157,
     "metadata": {},
     "output_type": "execute_result"
    }
   ],
   "source": [
    "soma_emp_uf = df_2020.groupby(['Empresa','UF'], dropna=False)['media_ano'].sum().sort_values(ascending=False)\n",
    "#soma_emp_uf = soma_emp_uf.apply(formatar_com_casas_de_milhar)\n",
    "soma_emp_uf.head(10)"
   ]
  },
  {
   "cell_type": "code",
   "execution_count": 159,
   "id": "a974b1c2-d49c-4b10-ad39-d824d7981c24",
   "metadata": {},
   "outputs": [
    {
     "data": {
      "text/plain": [
       "count      304,437\n",
       "mean           748\n",
       "std         13,427\n",
       "min              0\n",
       "25%              2\n",
       "50%             12\n",
       "75%            100\n",
       "max      2,857,221\n",
       "Name: media_ano, dtype: object"
      ]
     },
     "execution_count": 159,
     "metadata": {},
     "output_type": "execute_result"
    }
   ],
   "source": [
    "estatisticas = df_2020['media_ano'].describe()\n",
    "estatisticas = estatisticas.apply(formatar_com_casas_de_milhar)\n",
    "estatisticas"
   ]
  },
  {
   "cell_type": "markdown",
   "id": "f256a9a0-923e-401d-a593-b671e397b297",
   "metadata": {},
   "source": [
    "## Contrução das planilhas para exportar:"
   ]
  },
  {
   "cell_type": "code",
   "execution_count": 132,
   "id": "d08f7f70-5a08-4fc2-bedd-f654cf155677",
   "metadata": {},
   "outputs": [
    {
     "data": {
      "text/plain": [
       "'C:\\\\Users\\\\Nanda\\\\OneDrive - ANS\\\\Documentos\\\\ANS\\\\Bootcamp\\\\Projeto\\\\Telefonia'"
      ]
     },
     "execution_count": 132,
     "metadata": {},
     "output_type": "execute_result"
    }
   ],
   "source": [
    "import os\n",
    "os.getcwd()"
   ]
  },
  {
   "cell_type": "markdown",
   "id": "3db3fab0-61fb-4d5e-8147-329fc4887793",
   "metadata": {},
   "source": [
    "### Concentração de Mercado por UF"
   ]
  },
  {
   "cell_type": "code",
   "execution_count": 176,
   "id": "9035f70f-1eb1-4ea1-b6f9-a55a8d8e0fce",
   "metadata": {},
   "outputs": [],
   "source": [
    "# Criando a coluna market_share no groupby UF e GE\n",
    "df_2020_uf = pd.DataFrame(df_2020.groupby(['UF', 'Grupo Econômico']).sum()['media_ano'])\n",
    "df_2020_uf['market_share'] = round(((df_2020_uf['media_ano'] / df_2020_uf.groupby('UF')['media_ano'].sum())),4)\n",
    "# df_2020_uf.head()"
   ]
  },
  {
   "cell_type": "code",
   "execution_count": 178,
   "id": "01b5c3dd-d0c6-45e7-a4be-75ba7d87004e",
   "metadata": {},
   "outputs": [],
   "source": [
    "#para o cálculo do HHI, primeiro criamos uma coluna chamada hhi_empresa pegando o valor do market_share \n",
    "# de cada empresa e elevando o número ao quadrado\n",
    "df_2020_uf['hhi_empresa'] = round(df_2020_uf['market_share'] ** 2,4)\n",
    "# df_2020_uf.head()"
   ]
  },
  {
   "cell_type": "code",
   "execution_count": 173,
   "id": "b87272a2-5aa7-4cec-9e4e-64c7349e3af8",
   "metadata": {},
   "outputs": [],
   "source": [
    "## Para exportar a planilha em csv (cm_uf):\n",
    "df_2020_uf.to_csv(\"cm_2020_uf.csv\", sep=';', decimal = \",\", encoding='utf-8')"
   ]
  },
  {
   "cell_type": "markdown",
   "id": "3be7e509-907c-4bfd-a794-1d7e458a1267",
   "metadata": {},
   "source": [
    "### Concentração de Mercado por DDD"
   ]
  },
  {
   "cell_type": "code",
   "execution_count": 179,
   "id": "61873c4b-f525-4319-97a8-94e2f0941615",
   "metadata": {},
   "outputs": [],
   "source": [
    "# Criando a coluna market_share no groupby DDD e GE\n",
    "df_2020_ddd = pd.DataFrame(df_2020.groupby(['Código Nacional', 'Grupo Econômico']).sum()['media_ano'])\n",
    "df_2020_ddd['market_share'] = round(((df_2020_ddd['media_ano'] / df_2020_ddd.groupby('Código Nacional')['media_ano'].sum())),4)\n",
    "#df_2020_ddd.head()"
   ]
  },
  {
   "cell_type": "code",
   "execution_count": 181,
   "id": "17cd00dc-8a2f-47f6-a343-7f1e4e4d130e",
   "metadata": {},
   "outputs": [],
   "source": [
    "#para o cálculo do HHI, primeiro criamos uma coluna chamada hhi_empresa pegando o valor do market_share \n",
    "# de cada empresa e elevando o número ao quadrado\n",
    "df_2020_ddd['hhi_empresa'] = round(df_2020_ddd['market_share'] ** 2,4)\n",
    "# df_2020_ddd.head()"
   ]
  },
  {
   "cell_type": "code",
   "execution_count": 182,
   "id": "f9683952-d550-465d-9533-0dbc1ae750f1",
   "metadata": {},
   "outputs": [],
   "source": [
    "## Para exportar a planilha em csv (cm_ddd):\n",
    "df_2020_ddd.to_csv(\"cm_2020_ddd.csv\", sep=';', decimal = \",\", encoding='utf-8')"
   ]
  },
  {
   "cell_type": "markdown",
   "id": "ab56c4e3-abc4-4e2d-a76b-e5a12979ea73",
   "metadata": {},
   "source": [
    "### HHI por UF"
   ]
  },
  {
   "cell_type": "code",
   "execution_count": 183,
   "id": "a5ba198d-4f78-4e14-b820-7de3734fd3c3",
   "metadata": {},
   "outputs": [],
   "source": [
    "#criar uma função para verificar a concentração de mercado a partir do HHI\n",
    "def analise_hhi(valor_hhi):\n",
    "    if valor_hhi <= 1500:\n",
    "        return \"pouco concentrado\"\n",
    "    if valor_hhi > 1500 and valor_hhi <= 2500:\n",
    "        return \"moderado\"\n",
    "    else:\n",
    "        return \"altamente concentrado\""
   ]
  },
  {
   "cell_type": "code",
   "execution_count": 195,
   "id": "46e36f6a-e418-4818-990c-470847305b72",
   "metadata": {},
   "outputs": [
    {
     "data": {
      "text/html": [
       "<div>\n",
       "<style scoped>\n",
       "    .dataframe tbody tr th:only-of-type {\n",
       "        vertical-align: middle;\n",
       "    }\n",
       "\n",
       "    .dataframe tbody tr th {\n",
       "        vertical-align: top;\n",
       "    }\n",
       "\n",
       "    .dataframe thead th {\n",
       "        text-align: right;\n",
       "    }\n",
       "</style>\n",
       "<table border=\"1\" class=\"dataframe\">\n",
       "  <thead>\n",
       "    <tr style=\"text-align: right;\">\n",
       "      <th></th>\n",
       "      <th>UF</th>\n",
       "      <th>HHI</th>\n",
       "    </tr>\n",
       "  </thead>\n",
       "  <tbody>\n",
       "    <tr>\n",
       "      <th>0</th>\n",
       "      <td>AC</td>\n",
       "      <td>0.3713</td>\n",
       "    </tr>\n",
       "    <tr>\n",
       "      <th>1</th>\n",
       "      <td>AL</td>\n",
       "      <td>0.2688</td>\n",
       "    </tr>\n",
       "    <tr>\n",
       "      <th>2</th>\n",
       "      <td>AM</td>\n",
       "      <td>0.3419</td>\n",
       "    </tr>\n",
       "    <tr>\n",
       "      <th>3</th>\n",
       "      <td>AP</td>\n",
       "      <td>0.3061</td>\n",
       "    </tr>\n",
       "    <tr>\n",
       "      <th>4</th>\n",
       "      <td>BA</td>\n",
       "      <td>0.2587</td>\n",
       "    </tr>\n",
       "  </tbody>\n",
       "</table>\n",
       "</div>"
      ],
      "text/plain": [
       "   UF     HHI\n",
       "0  AC  0.3713\n",
       "1  AL  0.2688\n",
       "2  AM  0.3419\n",
       "3  AP  0.3061\n",
       "4  BA  0.2587"
      ]
     },
     "execution_count": 195,
     "metadata": {},
     "output_type": "execute_result"
    }
   ],
   "source": [
    "#a partir da coluna de hhi_empresa, somamos os valores, criando um novo dataframe com uma coluna contendo o cálculo de HHI por UF\n",
    "df_2020_hhi_uf = df_2020_uf.groupby('UF')['hhi_empresa'].sum()\n",
    "df_2020_hhi_uf = pd.DataFrame(df_2020_hhi_uf).reset_index()\n",
    "df_2020_hhi_uf.columns = ['UF', 'HHI']\n",
    "df_2020_hhi_uf.head()"
   ]
  },
  {
   "cell_type": "code",
   "execution_count": 196,
   "id": "2862fcfa-c170-4f01-8b7e-fb5edbc75576",
   "metadata": {},
   "outputs": [
    {
     "data": {
      "text/html": [
       "<div>\n",
       "<style scoped>\n",
       "    .dataframe tbody tr th:only-of-type {\n",
       "        vertical-align: middle;\n",
       "    }\n",
       "\n",
       "    .dataframe tbody tr th {\n",
       "        vertical-align: top;\n",
       "    }\n",
       "\n",
       "    .dataframe thead th {\n",
       "        text-align: right;\n",
       "    }\n",
       "</style>\n",
       "<table border=\"1\" class=\"dataframe\">\n",
       "  <thead>\n",
       "    <tr style=\"text-align: right;\">\n",
       "      <th></th>\n",
       "      <th>UF</th>\n",
       "      <th>HHI</th>\n",
       "      <th>analise_mercado_hhi</th>\n",
       "    </tr>\n",
       "  </thead>\n",
       "  <tbody>\n",
       "    <tr>\n",
       "      <th>0</th>\n",
       "      <td>AC</td>\n",
       "      <td>0.3713</td>\n",
       "      <td>pouco concentrado</td>\n",
       "    </tr>\n",
       "    <tr>\n",
       "      <th>1</th>\n",
       "      <td>AL</td>\n",
       "      <td>0.2688</td>\n",
       "      <td>pouco concentrado</td>\n",
       "    </tr>\n",
       "    <tr>\n",
       "      <th>2</th>\n",
       "      <td>AM</td>\n",
       "      <td>0.3419</td>\n",
       "      <td>pouco concentrado</td>\n",
       "    </tr>\n",
       "    <tr>\n",
       "      <th>3</th>\n",
       "      <td>AP</td>\n",
       "      <td>0.3061</td>\n",
       "      <td>pouco concentrado</td>\n",
       "    </tr>\n",
       "    <tr>\n",
       "      <th>4</th>\n",
       "      <td>BA</td>\n",
       "      <td>0.2587</td>\n",
       "      <td>pouco concentrado</td>\n",
       "    </tr>\n",
       "  </tbody>\n",
       "</table>\n",
       "</div>"
      ],
      "text/plain": [
       "   UF     HHI analise_mercado_hhi\n",
       "0  AC  0.3713   pouco concentrado\n",
       "1  AL  0.2688   pouco concentrado\n",
       "2  AM  0.3419   pouco concentrado\n",
       "3  AP  0.3061   pouco concentrado\n",
       "4  BA  0.2587   pouco concentrado"
      ]
     },
     "execution_count": 196,
     "metadata": {},
     "output_type": "execute_result"
    }
   ],
   "source": [
    "#aplicar a função analise_hhi no dataframe, criando uma coluna analise_mercado_hhi\n",
    "df_2020_hhi_uf['analise_mercado_hhi'] = df_2020_hhi_uf['HHI'].apply(analise_hhi)\n",
    "df_2020_hhi_uf.head()"
   ]
  },
  {
   "cell_type": "code",
   "execution_count": 174,
   "id": "df7e8ee2-b81e-45fa-9dc8-4f3a6b68db46",
   "metadata": {},
   "outputs": [],
   "source": [
    "#exportar planilha hhi por uf\n",
    "df_2020_hhi_uf.to_csv(\"hhi_2020_uf.csv\", sep=';', decimal = \",\", encoding='utf-8')"
   ]
  },
  {
   "cell_type": "markdown",
   "id": "845e76db-6ff1-43f5-b13a-cb08606036d1",
   "metadata": {},
   "source": [
    "### HHI por DDD"
   ]
  },
  {
   "cell_type": "code",
   "execution_count": 194,
   "id": "b3bf95f5-bbad-4974-b569-956ec83f5559",
   "metadata": {},
   "outputs": [],
   "source": [
    "#a partir da coluna de hhi_empresa, somamos os valores, criando um novo dataframe com uma coluna contendo o cálculo de HHI por UF\n",
    "df_2020_hhi_ddd = df_2020_ddd.groupby('Código Nacional')['hhi_empresa'].sum()\n",
    "df_2020_hhi_ddd = pd.DataFrame(df_2020_hhi_ddd).reset_index()\n",
    "df_2020_hhi_ddd.columns = ['Código Nacional', 'HHI']\n",
    "#df_2020_hhi_ddd.head()"
   ]
  },
  {
   "cell_type": "code",
   "execution_count": 188,
   "id": "3541d9b9-51b7-4a7e-9eab-bde4d7c601c2",
   "metadata": {},
   "outputs": [],
   "source": [
    "#aplicar a função analise_hhi no dataframe, criando uma coluna analise_mercado_hhi\n",
    "df_2020_hhi_ddd['analise_mercado_hhi'] = df_2020_hhi_ddd['HHI'].apply(analise_hhi)\n",
    "#df_2020_hhi_ddd.head()"
   ]
  },
  {
   "cell_type": "code",
   "execution_count": 187,
   "id": "c98ae827-52f7-44a9-8b87-b345ac51451c",
   "metadata": {},
   "outputs": [],
   "source": [
    "#exportar planilha hhi por uf\n",
    "df_2020_hhi_ddd.to_csv(\"hhi_2020_ddd.csv\", sep=';', decimal = \",\", encoding='utf-8')"
   ]
  },
  {
   "cell_type": "code",
   "execution_count": null,
   "id": "6ff2ccff-731b-4621-aa17-95680c9b2b67",
   "metadata": {},
   "outputs": [],
   "source": []
  }
 ],
 "metadata": {
  "kernelspec": {
   "display_name": "Python 3 (ipykernel)",
   "language": "python",
   "name": "python3"
  },
  "language_info": {
   "codemirror_mode": {
    "name": "ipython",
    "version": 3
   },
   "file_extension": ".py",
   "mimetype": "text/x-python",
   "name": "python",
   "nbconvert_exporter": "python",
   "pygments_lexer": "ipython3",
   "version": "3.11.5"
  }
 },
 "nbformat": 4,
 "nbformat_minor": 5
}
